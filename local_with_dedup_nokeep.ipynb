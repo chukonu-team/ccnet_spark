{
 "cells": [
  {
   "cell_type": "code",
   "execution_count": 1,
   "id": "e1378c40-2bdd-48ed-97a6-d804ed54ed18",
   "metadata": {},
   "outputs": [
    {
     "name": "stderr",
     "output_type": "stream",
     "text": [
      "24/04/07 17:52:14 WARN Utils: Service 'SparkUI' could not bind on port 4040. Attempting port 4041.\n"
     ]
    }
   ],
   "source": [
    "from ccnet_spark.pipeline import Pipeline,Config\n",
    "import time"
   ]
  },
  {
   "cell_type": "code",
   "execution_count": 2,
   "id": "710cf7f2-6391-43ff-b0be-c5f341080de9",
   "metadata": {},
   "outputs": [
    {
     "name": "stdout",
     "output_type": "stream",
     "text": [
      "Config(dump='2019-18', cache_dir='../cache_data/', output_dir='../cache_data/', min_len=300, isSample=False, sampleRate=0.001, n_segments=10, pipeline=['real_len', 'hash', 'dedup_nokeep', 'lid', 'sp', 'lm', 'pp_bucket', 'drop'], spark=<pyspark.sql.session.SparkSession object at 0x7f92c6a04b20>)\n"
     ]
    }
   ],
   "source": [
    "config=Config(isSample=False,n_segments=10,sampleRate=0.001,cache_dir=\"../cache_data/\",dump=\"2019-18\",pipeline=[\n",
    "    'real_len', 'hash', 'dedup_nokeep', 'lid', 'sp', 'lm', 'pp_bucket', 'drop']\n",
    "    )\n",
    "print(config)"
   ]
  },
  {
   "cell_type": "code",
   "execution_count": null,
   "id": "e4566ea6-71c5-49e7-93c2-4f1be1fe8a45",
   "metadata": {},
   "outputs": [
    {
     "name": "stderr",
     "output_type": "stream",
     "text": [
      "24/04/07 17:52:15 WARN DataSource: All paths were ignored:\n",
      "  file:/root/wxl_folder/cache_data/sdf_parquet/2019-18/_sampleRate_100_segment_0_min_len_300.parquet\n",
      "2024-04-07 17:52 INFO 1066766:root - load segment 0, with sampleRate:100%,min_len:300,with date:2019-18\n",
      "24/04/07 17:52:17 WARN DataSource: All paths were ignored:\n",
      "  file:/root/wxl_folder/cache_data/sdf_parquet/2019-18/_sampleRate_100_segment_1_min_len_300.parquet\n",
      "2024-04-07 17:52 INFO 1066766:root - load segment 1, with sampleRate:100%,min_len:300,with date:2019-18\n",
      "24/04/07 17:52:17 WARN DataSource: All paths were ignored:\n",
      "  file:/root/wxl_folder/cache_data/sdf_parquet/2019-18/_sampleRate_100_segment_2_min_len_300.parquet\n",
      "2024-04-07 17:52 INFO 1066766:root - load segment 2, with sampleRate:100%,min_len:300,with date:2019-18\n",
      "24/04/07 17:52:17 WARN DataSource: All paths were ignored:\n",
      "  file:/root/wxl_folder/cache_data/sdf_parquet/2019-18/_sampleRate_100_segment_3_min_len_300.parquet\n",
      "2024-04-07 17:52 INFO 1066766:root - load segment 3, with sampleRate:100%,min_len:300,with date:2019-18\n",
      "24/04/07 17:52:17 WARN DataSource: All paths were ignored:\n",
      "  file:/root/wxl_folder/cache_data/sdf_parquet/2019-18/_sampleRate_100_segment_4_min_len_300.parquet\n",
      "2024-04-07 17:52 INFO 1066766:root - load segment 4, with sampleRate:100%,min_len:300,with date:2019-18\n",
      "24/04/07 17:52:17 WARN DataSource: All paths were ignored:\n",
      "  file:/root/wxl_folder/cache_data/sdf_parquet/2019-18/_sampleRate_100_segment_5_min_len_300.parquet\n",
      "2024-04-07 17:52 INFO 1066766:root - load segment 5, with sampleRate:100%,min_len:300,with date:2019-18\n",
      "24/04/07 17:52:18 WARN DataSource: All paths were ignored:\n",
      "  file:/root/wxl_folder/cache_data/sdf_parquet/2019-18/_sampleRate_100_segment_6_min_len_300.parquet\n",
      "2024-04-07 17:52 INFO 1066766:root - load segment 6, with sampleRate:100%,min_len:300,with date:2019-18\n",
      "24/04/07 17:52:18 WARN DataSource: All paths were ignored:\n",
      "  file:/root/wxl_folder/cache_data/sdf_parquet/2019-18/_sampleRate_100_segment_7_min_len_300.parquet\n",
      "2024-04-07 17:52 INFO 1066766:root - load segment 7, with sampleRate:100%,min_len:300,with date:2019-18\n",
      "24/04/07 17:52:18 WARN DataSource: All paths were ignored:\n",
      "  file:/root/wxl_folder/cache_data/sdf_parquet/2019-18/_sampleRate_100_segment_8_min_len_300.parquet\n",
      "2024-04-07 17:52 INFO 1066766:root - load segment 8, with sampleRate:100%,min_len:300,with date:2019-18\n",
      "24/04/07 17:52:18 WARN DataSource: All paths were ignored:\n",
      "  file:/root/wxl_folder/cache_data/sdf_parquet/2019-18/_sampleRate_100_segment_9_min_len_300.parquet\n",
      "2024-04-07 17:52 INFO 1066766:root - load segment 9, with sampleRate:100%,min_len:300,with date:2019-18\n",
      "Warning : `load_model` does not return WordVectorModel or SupervisedModel any more, but a `FastText` object which is very similar.\n",
      "Warning : `load_model` does not return WordVectorModel or SupervisedModel any more, but a `FastText` object which is very similar.\n",
      "Warning : `load_model` does not return WordVectorModel or SupervisedModel any more, but a `FastText` object which is very similar.Warning : `load_model` does not return WordVectorModel or SupervisedModel any more, but a `FastText` object which is very similar.\n",
      "\n",
      "Warning : `load_model` does not return WordVectorModel or SupervisedModel any more, but a `FastText` object which is very similar.\n",
      "Warning : `load_model` does not return WordVectorModel or SupervisedModel any more, but a `FastText` object which is very similar.\n",
      "Warning : `load_model` does not return WordVectorModel or SupervisedModel any more, but a `FastText` object which is very similar.\n",
      "Warning : `load_model` does not return WordVectorModel or SupervisedModel any more, but a `FastText` object which is very similar.\n",
      "Warning : `load_model` does not return WordVectorModel or SupervisedModel any more, but a `FastText` object which is very similar.\n",
      "Warning : `load_model` does not return WordVectorModel or SupervisedModel any more, but a `FastText` object which is very similar.\n",
      "Warning : `load_model` does not return WordVectorModel or SupervisedModel any more, but a `FastText` object which is very similar.\n",
      "Warning : `load_model` does not return WordVectorModel or SupervisedModel any more, but a `FastText` object which is very similar.\n",
      "[Stage 18:>                                                       (0 + 12) / 12]\r"
     ]
    }
   ],
   "source": [
    "pipeline=Pipeline(config)\n",
    "df=pipeline.load_data()\n",
    "s=time.time()\n",
    "pipeline.run()\n",
    "pipeline.save_data()\n",
    "pipeline.analy()\n",
    "e=time.time()\n",
    "print(e-s)"
   ]
  },
  {
   "cell_type": "code",
   "execution_count": null,
   "id": "7b3c1a15-245b-4277-b15a-b085fa717d2c",
   "metadata": {},
   "outputs": [],
   "source": []
  }
 ],
 "metadata": {
  "kernelspec": {
   "display_name": "Python 3 (ipykernel)",
   "language": "python",
   "name": "python3"
  },
  "language_info": {
   "codemirror_mode": {
    "name": "ipython",
    "version": 3
   },
   "file_extension": ".py",
   "mimetype": "text/x-python",
   "name": "python",
   "nbconvert_exporter": "python",
   "pygments_lexer": "ipython3",
   "version": "3.9.19"
  }
 },
 "nbformat": 4,
 "nbformat_minor": 5
}

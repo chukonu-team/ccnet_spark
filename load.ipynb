{
 "cells": [
  {
   "cell_type": "code",
   "execution_count": 1,
   "id": "3b80e1ae-ab5d-4d22-9d5e-d3d486d0f81d",
   "metadata": {},
   "outputs": [
    {
     "name": "stderr",
     "output_type": "stream",
     "text": [
      "24/04/02 15:43:26 WARN Utils: Service 'SparkUI' could not bind on port 4040. Attempting port 4041.\n"
     ]
    }
   ],
   "source": [
    "from ccnet_spark.text_normalizer import normalize\n",
    "from ccnet_spark.pipe_preprocess import load_segments\n",
    "from ccnet_spark.pipe_hash import compute_hashes,split_doc2para\n",
    "from ccnet_spark.pipe_lid import predictLang\n",
    "from ccnet_spark.pipe_tokenized import doSentencePiece\n",
    "from ccnet_spark.pipe_perplexity import doDocLM\n",
    "from ccnet_spark.pipe_ppbucket import doPPBucket\n",
    "from ccnet_spark.pipe_save import save_partation,load_partation\n",
    "import time\n",
    "from pyspark.sql import SparkSession\n",
    "from pyspark.sql import functions as F\n",
    "from pyspark.sql.functions import explode\n",
    "from pyspark.sql.functions import sum as spark_sum\n",
    "\n",
    "# 初始化 SparkSession\n",
    "spark = SparkSession.builder.appName(\"CCNETSpark\")  \\\n",
    "                    .config(\"spark.executor.memory\", \"64g\") \\\n",
    "                    .config(\"spark.driver.memory\", \"32g\") \\\n",
    "                    .config(\"spark.driver.maxResultSize\", \"32g\") \\\n",
    "                    .config('spark.sql.execution.arrow.pyspark.enabled', 'true') \\\n",
    "                    .getOrCreate()"
   ]
  },
  {
   "cell_type": "code",
   "execution_count": 4,
   "id": "5d578f1e-3d84-4ce1-a777-c3adec38ecff",
   "metadata": {},
   "outputs": [],
   "source": [
    "def getModePara(mode):\n",
    "    if(mode==\"test\"):\n",
    "        n_segments=10\n",
    "        cache_folder=\"/root/wxl_folder/cache_data/\"\n",
    "        date=\"2019-09\" ## hardcode ,现在只能是这个\n",
    "        segments=[i for i in range(n_segments)]\n",
    "        min_len=300\n",
    "        isSample=True\n",
    "        sampleRate=0.01\n",
    "        num_partitions=1\n",
    "    else:\n",
    "        n_segments=4\n",
    "        cache_folder=\"/root/wxl_folder/cache_data/\"\n",
    "        date=\"2019-09\" ## hardcode ,现在只能是这个\n",
    "        segments=[i for i in range(n_segments)]\n",
    "        min_len=300\n",
    "        isSample=False\n",
    "        sampleRate=1\n",
    "        num_partitions=4\n",
    "    return [cache_folder,date,segments,min_len,isSample,sampleRate,num_partitions]\n",
    "mode=\"dev\"\n",
    "cache_folder,date,segments,min_len,isSample,sampleRate,num_partitions=getModePara(mode)"
   ]
  },
  {
   "cell_type": "code",
   "execution_count": 7,
   "id": "b58e340b-1dcf-4517-a299-252768cad689",
   "metadata": {},
   "outputs": [
    {
     "name": "stdout",
     "output_type": "stream",
     "text": [
      "+--------------------+--------------------+----------+------+----------+\n",
      "|                 url|         raw_content|perplexity|length|cc_segment|\n",
      "+--------------------+--------------------+----------+------+----------+\n",
      "|https://phetnakar...|mobile intermitte...|    3173.1| 10323|         0|\n",
      "|http://www.graceu...|Telephone: 952-43...|     824.5|   740|         1|\n",
      "|https://css.cdn.a...|Scotland, is it n...|     701.6| 10971|         1|\n",
      "|https://www.defen...|Welcome to Defens...|    2133.2|  1129|         1|\n",
      "|https://www.alber...|Port Alberni Blac...|     521.5|  4442|         2|\n",
      "|http://paws2care....|Synergy 2\\nZ Gall...|    8983.2|  1133|         2|\n",
      "|https://phillysto...|$1,896.99 – $3,84...|     707.2|  3806|         0|\n",
      "|http://nova-antiq...|German Beer Stein...|    1202.0|  2626|         2|\n",
      "|https://www.anime...|No Bootleg Policy...|    1466.7|  1149|         0|\n",
      "|http://roncarspea...|Other Guides\\nNew...|     593.1|  2958|         0|\n",
      "|https://tacanow.o...|Company name to b...|    1714.6|  5246|         0|\n",
      "|https://www.hunyu...|increasing natura...|    1157.6|   540|         3|\n",
      "|https://www.krbar...|Traffic Ticket At...|     822.8|  1981|         0|\n",
      "|https://www.roofi...|IRE Show Daily\\nA...|    2323.3|  6883|         0|\n",
      "|http://allnewcarr...|2019 Mazda RX-9 P...|    1686.7|  3712|         0|\n",
      "|http://www.roundf...|Fiction (general)...|    1173.7|  5420|         3|\n",
      "|https://breathepr...|Clairton Coke Wor...|    1093.2|   143|         2|\n",
      "|http://settoplinu...|Android Clock Wid...|   14260.6|   171|         2|\n",
      "|http://djcswallac...|Prefix One-In the...|    1918.5|  1389|         3|\n",
      "|http://realgaytub...|Wavy Hunk Latino ...|    1706.7|  6575|         3|\n",
      "+--------------------+--------------------+----------+------+----------+\n",
      "only showing top 20 rows\n",
      "\n",
      "51080\n"
     ]
    }
   ],
   "source": [
    "selected_bucket=\"tail\"\n",
    "selected_lang=\"en\"\n",
    "df_en_head=load_partation(spark,selected_lang,selected_bucket,cache_folder,date,isSample,sampleRate,min_len)\n",
    "df_en_head.select(\"url\",\"raw_content\",\"perplexity\",\"length\",\"cc_segment\").show()\n",
    "print(df_en_head.count())"
   ]
  },
  {
   "cell_type": "code",
   "execution_count": null,
   "id": "9ba43277-de74-4e6e-ab4e-1e0e6aa24b06",
   "metadata": {},
   "outputs": [],
   "source": []
  }
 ],
 "metadata": {
  "kernelspec": {
   "display_name": "Python 3 (ipykernel)",
   "language": "python",
   "name": "python3"
  },
  "language_info": {
   "codemirror_mode": {
    "name": "ipython",
    "version": 3
   },
   "file_extension": ".py",
   "mimetype": "text/x-python",
   "name": "python",
   "nbconvert_exporter": "python",
   "pygments_lexer": "ipython3",
   "version": "3.9.19"
  }
 },
 "nbformat": 4,
 "nbformat_minor": 5
}

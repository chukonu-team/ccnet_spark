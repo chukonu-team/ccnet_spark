{
 "cells": [
  {
   "cell_type": "code",
   "execution_count": 2,
   "id": "6e1eae5f-5891-4c50-bd22-36e48a5f50a4",
   "metadata": {},
   "outputs": [
    {
     "name": "stderr",
     "output_type": "stream",
     "text": [
      "Downloading https://data.commoncrawl.org/crawl-data/CC-MAIN-2019-18/wet.paths.gz: 100%|###########################################################################################################################| 181k/181k [00:00<00:00, 345kB/s]\n"
     ]
    },
    {
     "name": "stdout",
     "output_type": "stream",
     "text": [
      "Downloaded https://data.commoncrawl.org/crawl-data/CC-MAIN-2019-18/wet.paths.gz\n"
     ]
    },
    {
     "name": "stderr",
     "output_type": "stream",
     "text": [
      "Downloading CC-MAIN-20190418101243-20190418122248-00011.warc.wet.gz: 100%|#######################################################################################################################################| 137M/137M [00:10<00:00, 13.3MB/s]\n",
      "2024-04-12 11:43 INFO 2046623:ccnet_spark.pipe_preprocess - Opening ../../cached_data/commoncrawl_data/2019-18/CC-MAIN-20190418101243-20190418122248-00011.warc.wet.gz with mode 'rt'\n"
     ]
    },
    {
     "name": "stdout",
     "output_type": "stream",
     "text": [
      "Downloaded ../../cached_data/commoncrawl_data/2019-18/CC-MAIN-20190418101243-20190418122248-00011.warc.wet.gz\n"
     ]
    },
    {
     "name": "stderr",
     "output_type": "stream",
     "text": [
      "2024-04-12 11:43 INFO 2046623:root - Created DataFrame with 42009 documents\n",
      "2024-04-12 11:43 INFO 2046623:root - load segment 0, 420 docs, with sampleRate:1.0%,min_len:300,with dump:2019-18\n",
      "2024-04-12 11:43 INFO 2046623:root - load segment 0, with sampleRate:1.0%,min_len:300,with date:2019-18\n"
     ]
    }
   ],
   "source": [
    "from ccnet_spark.pipe_line import Pipeline, Config,PipelineStep\n",
    "import time\n",
    "from pyspark.sql import SparkSession\n",
    "import sys\n",
    "spark = (\n",
    "    SparkSession.builder.appName(\"CCNETSpark_debug\")\n",
    "    # .master(\"local[*]\")\n",
    "    .config(\"spark.executor.memory\", \"100g\")\n",
    "    .config(\"spark.driver.memory\", \"100g\")\n",
    "    .config(\"spark.driver.maxResultSize\", \"100g\")\n",
    "    .config(\"spark.sql.execution.arrow.pyspark.enabled\", \"true\")\n",
    "    # .config(\"spark.executor.extraJavaOptions\", \"-XX:+PrintGCDetails -XX:+PrintGCDateStamps -XX:+PrintGCTimeStamps\")\n",
    "    # .config(\"spark.driver.extraJavaOptions\", \"-XX:+PrintGCDetails -XX:+PrintGCDateStamps -XX:+PrintGCTimeStamps\")\n",
    "    .getOrCreate()\n",
    ")\n",
    "config = Config(\n",
    "        isSample=True,\n",
    "        n_segments=1,\n",
    "        sampleRate=0.01,\n",
    "        cache_dir=\"../../cached_data/\",\n",
    "        output_dir=\"../../cached_data/\",\n",
    "        fasttext_model_path=\"../../cc_net/bin/lid.bin\",\n",
    "        lm_dir=\"../../cc_net/data/lm_sp\",\n",
    "        cutoff_csv_path=\"../../cc_net/cc_net/data/cutoff.csv\",\n",
    "        dump=\"2019-18\",\n",
    "    )\n",
    "pipeline = Pipeline(config,spark)\n",
    "df = pipeline.load_data()"
   ]
  },
  {
   "cell_type": "code",
   "execution_count": 3,
   "id": "349baf4e-3ecc-4a2c-98a3-467cacf89640",
   "metadata": {},
   "outputs": [
    {
     "name": "stdout",
     "output_type": "stream",
     "text": [
      "['url', 'date_download', 'digest', 'length', 'nlines', 'source_domain', 'title', 'raw_content', 'cc_segment']\n",
      "+--------------------+------+------+----------------------+--------------------+\n",
      "|                 url|length|nlines|           raw_content|          cc_segment|\n",
      "+--------------------+------+------+----------------------+--------------------+\n",
      "|https://www.plcca...|  8763|   355|  Toggle menu\\nORDE...|CC-MAIN-201904181...|\n",
      "|https://www.malar...|  6916|    78|  Skip to content\\n...|CC-MAIN-201904181...|\n",
      "|http://www.889906...| 92403|    63|首 页\\nwww.889906.c...|CC-MAIN-201904181...|\n",
      "|https://babydecor...|  8187|   411|  Koszyk: (pusty)\\n...|CC-MAIN-201904181...|\n",
      "|http://www.unmiko...|  8324|   104|  This Site: UNMIK ...|CC-MAIN-201904181...|\n",
      "+--------------------+------+------+----------------------+--------------------+\n",
      "only showing top 5 rows\n",
      "\n"
     ]
    }
   ],
   "source": [
    "print(df.columns)\n",
    "df.select(\"url\",\"length\",\"nlines\",\"raw_content\",\"cc_segment\").show(5)"
   ]
  },
  {
   "cell_type": "code",
   "execution_count": 5,
   "id": "1356d67e-e5cd-4fc7-9f6d-5b22995031cf",
   "metadata": {},
   "outputs": [
    {
     "name": "stdout",
     "output_type": "stream",
     "text": [
      "['url', 'date_download', 'digest', 'length', 'nlines', 'source_domain', 'title', 'raw_content', 'cc_segment']\n",
      "+------+\n",
      "|length|\n",
      "+------+\n",
      "|  8514|\n",
      "|  6663|\n",
      "| 40038|\n",
      "|  7803|\n",
      "|  8255|\n",
      "+------+\n",
      "only showing top 5 rows\n",
      "\n"
     ]
    }
   ],
   "source": [
    "pipeline.run_step(PipelineStep.REAL_LEN)\n",
    "print(pipeline.df.columns)\n",
    "pipeline.df.select(\"length\").show(5)"
   ]
  },
  {
   "cell_type": "code",
   "execution_count": 8,
   "id": "602da8d5-9423-4cab-94d0-f0017a7685f2",
   "metadata": {},
   "outputs": [
    {
     "name": "stdout",
     "output_type": "stream",
     "text": [
      "['url', 'date_download', 'digest', 'length', 'nlines', 'source_domain', 'title', 'raw_content', 'cc_segment', 'exploded_content', 'hash_value']\n",
      "+------+--------------------+\n",
      "|length|          hash_value|\n",
      "+------+--------------------+\n",
      "|  8514|[3E 7B C7 5D 29 5...|\n",
      "|  8514|[F9 73 EF EF 40 5...|\n",
      "|  8514|[7F 58 0C E2 E9 5...|\n",
      "|  8514|[B6 58 9F C6 AB 0...|\n",
      "|  8514|[35 59 D7 AC CF 0...|\n",
      "+------+--------------------+\n",
      "only showing top 5 rows\n",
      "\n"
     ]
    }
   ],
   "source": [
    "pipeline.run_step(PipelineStep.HASH)\n",
    "print(pipeline.df.columns)\n",
    "pipeline.df.select(\"length\", 'hash_value').show(5)"
   ]
  },
  {
   "cell_type": "code",
   "execution_count": 14,
   "id": "535834cb-fbb7-4be1-9e0b-c8c657fcdf95",
   "metadata": {},
   "outputs": [
    {
     "name": "stdout",
     "output_type": "stream",
     "text": [
      "+-------+\n",
      "|lengtha|\n",
      "+-------+\n",
      "|      8|\n",
      "|      8|\n",
      "|      8|\n",
      "|      8|\n",
      "|      8|\n",
      "|      8|\n",
      "|      8|\n",
      "|      8|\n",
      "|      8|\n",
      "|      8|\n",
      "|      8|\n",
      "|      8|\n",
      "|      8|\n",
      "|      8|\n",
      "|      8|\n",
      "|      8|\n",
      "|      8|\n",
      "|      8|\n",
      "|      8|\n",
      "|      8|\n",
      "+-------+\n",
      "only showing top 20 rows\n",
      "\n"
     ]
    }
   ],
   "source": [
    "from pyspark.sql import functions as F\n",
    "pipeline.df.withColumn(\"lengtha\", F.length(pipeline.df[\"hash_value\"])).select('lengtha').show()"
   ]
  },
  {
   "cell_type": "code",
   "execution_count": null,
   "id": "9941e1a3-f4aa-43ba-8d0d-8d2f41e1932a",
   "metadata": {},
   "outputs": [],
   "source": []
  }
 ],
 "metadata": {
  "kernelspec": {
   "display_name": "Python 3 (ipykernel)",
   "language": "python",
   "name": "python3"
  },
  "language_info": {
   "codemirror_mode": {
    "name": "ipython",
    "version": 3
   },
   "file_extension": ".py",
   "mimetype": "text/x-python",
   "name": "python",
   "nbconvert_exporter": "python",
   "pygments_lexer": "ipython3",
   "version": "3.9.19"
  }
 },
 "nbformat": 4,
 "nbformat_minor": 5
}

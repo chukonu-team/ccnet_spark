{
 "cells": [
  {
   "cell_type": "code",
   "execution_count": 1,
   "id": "2594801d-1520-420e-bb79-26414ae769a6",
   "metadata": {},
   "outputs": [
    {
     "name": "stderr",
     "output_type": "stream",
     "text": [
      "24/04/07 10:30:03 WARN Utils: Service 'SparkUI' could not bind on port 4040. Attempting port 4041.\n",
      "24/04/07 10:30:03 WARN Utils: Service 'SparkUI' could not bind on port 4041. Attempting port 4042.\n"
     ]
    }
   ],
   "source": [
    "from ccnet_spark.pipeline import Pipeline,Config"
   ]
  },
  {
   "cell_type": "code",
   "execution_count": null,
   "id": "d7a49aee-887e-446a-b6e4-f0404180e263",
   "metadata": {},
   "outputs": [
    {
     "name": "stderr",
     "output_type": "stream",
     "text": [
      "2024-04-07 10:30 INFO 998065:root - load segment 0, with sampleRate:100%,min_len:300,with date:2019-09\n",
      "2024-04-07 10:30 INFO 998065:root - load segment 1, with sampleRate:100%,min_len:300,with date:2019-09\n",
      "2024-04-07 10:30 INFO 998065:root - load segment 2, with sampleRate:100%,min_len:300,with date:2019-09\n",
      "2024-04-07 10:30 INFO 998065:root - load segment 3, with sampleRate:100%,min_len:300,with date:2019-09\n",
      "2024-04-07 10:30 INFO 998065:root - load segment 4, with sampleRate:100%,min_len:300,with date:2019-09\n",
      "2024-04-07 10:30 INFO 998065:root - load segment 5, with sampleRate:100%,min_len:300,with date:2019-09\n",
      "2024-04-07 10:30 INFO 998065:root - load segment 6, with sampleRate:100%,min_len:300,with date:2019-09\n",
      "2024-04-07 10:30 INFO 998065:root - load segment 7, with sampleRate:100%,min_len:300,with date:2019-09\n",
      "2024-04-07 10:30 INFO 998065:root - load segment 8, with sampleRate:100%,min_len:300,with date:2019-09\n",
      "2024-04-07 10:30 INFO 998065:root - load segment 9, with sampleRate:100%,min_len:300,with date:2019-09\n",
      "[Stage 32:>                                                       (0 + 12) / 12]\r"
     ]
    }
   ],
   "source": [
    "config=Config()\n",
    "pipeline=Pipeline(config)\n",
    "pipeline.load_data()\n",
    "pipeline.run()\n",
    "pipeline.save_data()"
   ]
  },
  {
   "cell_type": "code",
   "execution_count": null,
   "id": "7c4f17b7-22b2-442d-9376-a09fa6d8408f",
   "metadata": {},
   "outputs": [],
   "source": []
  }
 ],
 "metadata": {
  "kernelspec": {
   "display_name": "Python 3 (ipykernel)",
   "language": "python",
   "name": "python3"
  },
  "language_info": {
   "codemirror_mode": {
    "name": "ipython",
    "version": 3
   },
   "file_extension": ".py",
   "mimetype": "text/x-python",
   "name": "python",
   "nbconvert_exporter": "python",
   "pygments_lexer": "ipython3",
   "version": "3.9.19"
  }
 },
 "nbformat": 4,
 "nbformat_minor": 5
}

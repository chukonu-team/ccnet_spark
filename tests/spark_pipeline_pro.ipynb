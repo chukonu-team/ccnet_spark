{
 "cells": [
  {
   "cell_type": "code",
   "execution_count": 1,
   "id": "e45bf866-59e7-4fa1-b3f3-0eac31f300f7",
   "metadata": {},
   "outputs": [
    {
     "ename": "ModuleNotFoundError",
     "evalue": "No module named 'ccnet_spark'",
     "output_type": "error",
     "traceback": [
      "\u001b[0;31m---------------------------------------------------------------------------\u001b[0m",
      "\u001b[0;31mModuleNotFoundError\u001b[0m                       Traceback (most recent call last)",
      "Cell \u001b[0;32mIn[1], line 1\u001b[0m\n\u001b[0;32m----> 1\u001b[0m \u001b[38;5;28;01mfrom\u001b[39;00m \u001b[38;5;21;01mccnet_spark\u001b[39;00m\u001b[38;5;21;01m.\u001b[39;00m\u001b[38;5;21;01mtext_normalizer\u001b[39;00m \u001b[38;5;28;01mimport\u001b[39;00m normalize\n\u001b[1;32m      2\u001b[0m \u001b[38;5;28;01mfrom\u001b[39;00m \u001b[38;5;21;01mccnet_spark\u001b[39;00m\u001b[38;5;21;01m.\u001b[39;00m\u001b[38;5;21;01mpipe_preprocess\u001b[39;00m \u001b[38;5;28;01mimport\u001b[39;00m load_segments\n\u001b[1;32m      3\u001b[0m \u001b[38;5;28;01mfrom\u001b[39;00m \u001b[38;5;21;01mccnet_spark\u001b[39;00m\u001b[38;5;21;01m.\u001b[39;00m\u001b[38;5;21;01mpipe_hash\u001b[39;00m \u001b[38;5;28;01mimport\u001b[39;00m compute_hashes,split_doc2para\n",
      "\u001b[0;31mModuleNotFoundError\u001b[0m: No module named 'ccnet_spark'"
     ]
    }
   ],
   "source": [
    "from ccnet_spark.text_normalizer import normalize\n",
    "from ccnet_spark.pipe_preprocess import load_segments\n",
    "from ccnet_spark.pipe_hash import compute_hashes,split_doc2para\n",
    "from ccnet_spark.pipe_lid import predictLang\n",
    "from ccnet_spark.pipe_tokenized import doSentencePiece\n",
    "from ccnet_spark.pipe_perplexity import doDocLM\n",
    "from ccnet_spark.pipe_ppbucket import doPPBucket\n",
    "from ccnet_spark.pipe_save import save_partation,load_partation\n",
    "import time\n",
    "from pyspark.sql import SparkSession\n",
    "from pyspark.sql import functions as F\n",
    "from pyspark.sql.functions import explode\n",
    "from pyspark.sql.functions import sum as spark_sum\n",
    "from pyspark.sql.functions import col\n",
    "# 初始化 SparkSession\n",
    "spark = SparkSession.builder.appName(\"CCNETSpark\")  \\\n",
    "                    .config(\"spark.executor.memory\", \"100g\") \\\n",
    "                    .config(\"spark.driver.memory\", \"32g\") \\\n",
    "                    .config(\"spark.driver.maxResultSize\", \"32g\") \\\n",
    "                    .config('spark.sql.execution.arrow.pyspark.enabled', 'true') \\\n",
    "                    .getOrCreate()"
   ]
  },
  {
   "cell_type": "code",
   "execution_count": 2,
   "id": "6033320f-74a2-41e5-91b8-e1c0bd6ea14f",
   "metadata": {},
   "outputs": [],
   "source": [
    "def getModePara(mode):\n",
    "    if(mode==\"test\"):\n",
    "        n_segments=10\n",
    "        cache_folder=\"/root/wxl_folder/cache_data/\"\n",
    "        date=\"2019-09\" ## hardcode ,现在只能是这个\n",
    "        segments=[i for i in range(n_segments)]\n",
    "        min_len=300\n",
    "        isSample=True\n",
    "        sampleRate=0.01\n",
    "        num_partitions=1\n",
    "    else:\n",
    "        n_segments=4\n",
    "        cache_folder=\"/root/wxl_folder/cache_data/\"\n",
    "        date=\"2019-09\" ## hardcode ,现在只能是这个\n",
    "        segments=[i for i in range(n_segments)]\n",
    "        min_len=300\n",
    "        isSample=False\n",
    "        sampleRate=1\n",
    "        num_partitions=4\n",
    "    return [cache_folder,date,segments,min_len,isSample,sampleRate,num_partitions]\n",
    "mode=\"test\"\n",
    "cache_folder,date,segments,min_len,isSample,sampleRate,num_partitions=getModePara(mode)"
   ]
  },
  {
   "cell_type": "code",
   "execution_count": 3,
   "id": "2cb8b4a6-d77d-4e06-bb9a-ffc38f461fd8",
   "metadata": {},
   "outputs": [
    {
     "name": "stderr",
     "output_type": "stream",
     "text": [
      "2024-04-07 09:29 INFO 981237:root - load segment 0, with sampleRate:1.0%,min_len:300,with date:2019-09\n",
      "2024-04-07 09:29 INFO 981237:root - load segment 1, with sampleRate:1.0%,min_len:300,with date:2019-09\n",
      "2024-04-07 09:29 INFO 981237:root - load segment 2, with sampleRate:1.0%,min_len:300,with date:2019-09\n",
      "2024-04-07 09:29 INFO 981237:root - load segment 3, with sampleRate:1.0%,min_len:300,with date:2019-09\n",
      "2024-04-07 09:29 INFO 981237:root - load segment 4, with sampleRate:1.0%,min_len:300,with date:2019-09\n",
      "2024-04-07 09:29 INFO 981237:root - load segment 5, with sampleRate:1.0%,min_len:300,with date:2019-09\n",
      "2024-04-07 09:29 INFO 981237:root - load segment 6, with sampleRate:1.0%,min_len:300,with date:2019-09\n",
      "2024-04-07 09:29 INFO 981237:root - load segment 7, with sampleRate:1.0%,min_len:300,with date:2019-09\n",
      "2024-04-07 09:29 INFO 981237:root - load segment 8, with sampleRate:1.0%,min_len:300,with date:2019-09\n",
      "2024-04-07 09:29 INFO 981237:root - load segment 9, with sampleRate:1.0%,min_len:300,with date:2019-09\n"
     ]
    }
   ],
   "source": [
    "spark_df=load_segments(spark,segments,cache_folder,date=date,isSample=isSample,sampleRate=sampleRate,min_len=min_len)\n",
    "spark_df=spark_df.withColumn(\"length\", F.length(spark_df[\"raw_content\"]))\n",
    "split_result = spark_df.withColumn(\"split_content\", split_doc2para(spark_df[\"raw_content\"]))\n",
    "exploded_df=split_result.withColumn(\"exploded_content\", explode(split_result.split_content)) \\\n",
    "                        .drop(\"split_content\")\n",
    "hash_df = exploded_df.withColumn(\"hash_value\", compute_hashes(exploded_df.exploded_content.raw_line))\n"
   ]
  },
  {
   "cell_type": "code",
   "execution_count": 4,
   "id": "5899ef74-6706-4550-a03e-d3ca7cf201fa",
   "metadata": {},
   "outputs": [],
   "source": [
    "#deduplicated_df = hash_df.dropDuplicates(['hash_value']) # 第一种是保留一次重复行\n",
    "\n",
    "## 第二种是不保留重复行\n",
    "# 使用 groupBy 和 count 识别重复行\n",
    "duplicate_counts = hash_df.groupBy(\"hash_value\").count().where(col(\"count\") > 1)\n",
    "# 根据重复行的信息，使用 filter 过滤掉重复行\n",
    "deduplicated_df = hash_df.join(duplicate_counts, on=\"hash_value\", how=\"left_anti\")"
   ]
  },
  {
   "cell_type": "code",
   "execution_count": 5,
   "id": "bf4fcd79-75bc-48da-92eb-d0cd4e0d6378",
   "metadata": {},
   "outputs": [
    {
     "name": "stderr",
     "output_type": "stream",
     "text": [
      "                                                                                \r"
     ]
    },
    {
     "name": "stdout",
     "output_type": "stream",
     "text": [
      "+--------------------+--------------------+--------------------+--------------------+------+------+--------------+-------------------------------------+---------------------------------+----------+------------------------------+\n",
      "|          hash_value|                 url|       date_download|              digest|length|nlines| source_domain|                                title|                      raw_content|cc_segment|              exploded_content|\n",
      "+--------------------+--------------------+--------------------+--------------------+------+------+--------------+-------------------------------------+---------------------------------+----------+------------------------------+\n",
      "|[51 1F 35 D0 30 B...|http://www.drperi...|2019-02-15T20:06:54Z|sha1:TETCOD7OGM66...|  3474|    94|www.drperi.com|宋志平到山东济南、烟台和青州交流调...|OA登录 人力资源系统 协同办公系...|         0| {0, OA登录 人力资源系统 协...|\n",
      "|[14 29 D1 A8 69 C...|http://www.drperi...|2019-02-15T20:06:54Z|sha1:TETCOD7OGM66...|  3474|    94|www.drperi.com|宋志平到山东济南、烟台和青州交流调...|OA登录 人力资源系统 协同办公系...|         0|                {1, 邮箱登录|}|\n",
      "|[75 F4 B5 95 7C 4...|http://www.drperi...|2019-02-15T20:06:54Z|sha1:TETCOD7OGM66...|  3474|    94|www.drperi.com|宋志平到山东济南、烟台和青州交流调...|OA登录 人力资源系统 协同办公系...|         0|                {2, 下载专区|}|\n",
      "|[3C 0E 8F B0 9C 8...|http://www.drperi...|2019-02-15T20:06:54Z|sha1:TETCOD7OGM66...|  3474|    94|www.drperi.com|宋志平到山东济南、烟台和青州交流调...|OA登录 人力资源系统 协同办公系...|         0|                {3, 信息报送|}|\n",
      "|[2D D3 B4 41 04 2...|http://www.drperi...|2019-02-15T20:06:54Z|sha1:TETCOD7OGM66...|  3474|    94|www.drperi.com|宋志平到山东济南、烟台和青州交流调...|OA登录 人力资源系统 协同办公系...|         0|                {4, 档案系统|}|\n",
      "|[D0 E9 77 F8 CB 9...|http://www.drperi...|2019-02-15T20:06:54Z|sha1:TETCOD7OGM66...|  3474|    94|www.drperi.com|宋志平到山东济南、烟台和青州交流调...|OA登录 人力资源系统 协同办公系...|         0|               {5, 集团网站群}|\n",
      "|[48 FA 4B FC C9 E...|http://www.drperi...|2019-02-15T20:06:54Z|sha1:TETCOD7OGM66...|  3474|    94|www.drperi.com|宋志平到山东济南、烟台和青州交流调...|OA登录 人力资源系统 协同办公系...|         0|{6, 快速通道 客户 投资者 从...|\n",
      "|[EB 63 4B FA 12 D...|http://www.drperi...|2019-02-15T20:06:54Z|sha1:TETCOD7OGM66...|  3474|    94|www.drperi.com|宋志平到山东济南、烟台和青州交流调...|OA登录 人力资源系统 协同办公系...|         0|          {7, 繁體中文English}|\n",
      "|[D9 CD 41 18 90 0...|http://www.drperi...|2019-02-15T20:06:54Z|sha1:TETCOD7OGM66...|  3474|    94|www.drperi.com|宋志平到山东济南、烟台和青州交流调...|OA登录 人力资源系统 协同办公系...|         0|                 {9, 集团介绍}|\n",
      "|[7B 73 F1 36 14 E...|http://www.drperi...|2019-02-15T20:06:54Z|sha1:TETCOD7OGM66...|  3474|    94|www.drperi.com|宋志平到山东济南、烟台和青州交流调...|OA登录 人力资源系统 协同办公系...|         0|                {11, 业务平台}|\n",
      "|[23 26 D0 7F 60 C...|http://www.drperi...|2019-02-15T20:06:54Z|sha1:TETCOD7OGM66...|  3474|    94|www.drperi.com|宋志平到山东济南、烟台和青州交流调...|OA登录 人力资源系统 协同办公系...|         0|                {12, 科技创新}|\n",
      "|[7E A6 C6 39 DB E...|http://www.drperi...|2019-02-15T20:06:54Z|sha1:TETCOD7OGM66...|  3474|    94|www.drperi.com|宋志平到山东济南、烟台和青州交流调...|OA登录 人力资源系统 协同办公系...|         0|                {16, 党的建设}|\n",
      "|[46 A7 B1 2C 0F 1...|http://www.drperi...|2019-02-15T20:06:54Z|sha1:TETCOD7OGM66...|  3474|    94|www.drperi.com|宋志平到山东济南、烟台和青州交流调...|OA登录 人力资源系统 协同办公系...|         0| {18, 当前位置：首页 > 新闻...|\n",
      "|[52 C4 9C 27 0E 9...|http://www.drperi...|2019-02-15T20:06:54Z|sha1:TETCOD7OGM66...|  3474|    94|www.drperi.com|宋志平到山东济南、烟台和青州交流调...|OA登录 人力资源系统 协同办公系...|         0|                {21, 集团要闻}|\n",
      "|[93 29 72 2D 15 B...|http://www.drperi...|2019-02-15T20:06:54Z|sha1:TETCOD7OGM66...|  3474|    94|www.drperi.com|宋志平到山东济南、烟台和青州交流调...|OA登录 人力资源系统 协同办公系...|         0|                {22, 领导动态}|\n",
      "|[EC E9 0F 6D 7A 3...|http://www.drperi...|2019-02-15T20:06:54Z|sha1:TETCOD7OGM66...|  3474|    94|www.drperi.com|宋志平到山东济南、烟台和青州交流调...|OA登录 人力资源系统 协同办公系...|         0|                {26, 行业聚焦}|\n",
      "|[CA 09 82 5A 75 6...|http://www.drperi...|2019-02-15T20:06:54Z|sha1:TETCOD7OGM66...|  3474|    94|www.drperi.com|宋志平到山东济南、烟台和青州交流调...|OA登录 人力资源系统 协同办公系...|         0|                {27, 国资关注}|\n",
      "|[87 52 74 4C F5 3...|http://www.drperi...|2019-02-15T20:06:54Z|sha1:TETCOD7OGM66...|  3474|    94|www.drperi.com|宋志平到山东济南、烟台和青州交流调...|OA登录 人力资源系统 协同办公系...|         0|                {28, 专题栏目}|\n",
      "|[75 0B 33 A4 8B 0...|http://www.drperi...|2019-02-15T20:06:54Z|sha1:TETCOD7OGM66...|  3474|    94|www.drperi.com|宋志平到山东济南、烟台和青州交流调...|OA登录 人力资源系统 协同办公系...|         0|                {29, 视频专区}|\n",
      "|[A1 13 DB 73 38 9...|http://www.drperi...|2019-02-15T20:06:54Z|sha1:TETCOD7OGM66...|  3474|    94|www.drperi.com|宋志平到山东济南、烟台和青州交流调...|OA登录 人力资源系统 协同办公系...|         0|                {30, 专题专栏}|\n",
      "+--------------------+--------------------+--------------------+--------------------+------+------+--------------+-------------------------------------+---------------------------------+----------+------------------------------+\n",
      "only showing top 20 rows\n",
      "\n"
     ]
    }
   ],
   "source": [
    "deduplicated_df.show()"
   ]
  },
  {
   "cell_type": "code",
   "execution_count": 6,
   "id": "0c76d1e5-48e4-44bd-b015-c7f66d39277f",
   "metadata": {},
   "outputs": [],
   "source": [
    "group_df = deduplicated_df.groupBy(\"digest\").agg(\n",
    "    F.first(\"url\").alias(\"url\"),\n",
    "    F.first(\"date_download\").alias(\"date_download\"),\n",
    "    F.first(\"source_domain\").alias(\"source_domain\"),\n",
    "    F.first(\"cc_segment\").alias(\"cc_segment\"),\n",
    "    F.first(\"length\").alias(\"original_length\"),\n",
    "    F.first(\"nlines\").alias(\"original_nlines\"),\n",
    "    F.first(\"title\").alias(\"title\"),\n",
    "    F.count(\"exploded_content.raw_line_id\").alias(\"nlines\"),\n",
    "    F.sort_array(F.collect_list(\"exploded_content\")).alias(\"exploded_content\")\n",
    ")\n",
    "group_df = group_df.withColumn(\"raw_content\", F.concat_ws(\"\\n\", \"exploded_content.raw_line\")) \n",
    "group_df = group_df.withColumn(\"raw_line_id\", group_df.exploded_content.raw_line_id) \n",
    "group_df = group_df.withColumn(\"length\", F.length(\"raw_content\")).drop(\"exploded_content\")"
   ]
  },
  {
   "cell_type": "code",
   "execution_count": 7,
   "id": "762eaae8-2808-428a-9ee5-ea0ff9fe255b",
   "metadata": {},
   "outputs": [],
   "source": [
    "lang_df = group_df.withColumn(\"lang_score\", predictLang(\"raw_content\"))\n",
    "lang_df = lang_df.withColumn(\"lang\", lang_df.lang_score.lang) \\\n",
    "                         .withColumn(\"score\", lang_df.lang_score.score) \\\n",
    "                         .drop(\"lang_score\")\n",
    "lm_df = lang_df.withColumn(\"tokenized\", doSentencePiece(\"raw_content\",\"lang\"))\n",
    "doclm_df = lm_df.withColumn(\"perplexity\", doDocLM(\"tokenized\",\"lang\"))\n",
    "bucket_df = doclm_df.withColumn(\"bucket\", doPPBucket(\"perplexity\",\"lang\"))\n",
    "drop_df = bucket_df.drop(\"tokenized\")"
   ]
  },
  {
   "cell_type": "code",
   "execution_count": 8,
   "id": "4be083ca-6921-4b4f-b410-c3202be814e9",
   "metadata": {},
   "outputs": [
    {
     "name": "stderr",
     "output_type": "stream",
     "text": [
      "Warning : `load_model` does not return WordVectorModel or SupervisedModel any more, but a `FastText` object which is very similar.\n",
      "Warning : `load_model` does not return WordVectorModel or SupervisedModel any more, but a `FastText` object which is very similar.\n",
      "Warning : `load_model` does not return WordVectorModel or SupervisedModel any more, but a `FastText` object which is very similar.\n",
      "Warning : `load_model` does not return WordVectorModel or SupervisedModel any more, but a `FastText` object which is very similar.\n",
      "Warning : `load_model` does not return WordVectorModel or SupervisedModel any more, but a `FastText` object which is very similar.\n",
      "Warning : `load_model` does not return WordVectorModel or SupervisedModel any more, but a `FastText` object which is very similar.\n",
      "Warning : `load_model` does not return WordVectorModel or SupervisedModel any more, but a `FastText` object which is very similar.\n",
      "Warning : `load_model` does not return WordVectorModel or SupervisedModel any more, but a `FastText` object which is very similar.\n",
      "Warning : `load_model` does not return WordVectorModel or SupervisedModel any more, but a `FastText` object which is very similar.\n",
      "Warning : `load_model` does not return WordVectorModel or SupervisedModel any more, but a `FastText` object which is very similar.\n",
      "Warning : `load_model` does not return WordVectorModel or SupervisedModel any more, but a `FastText` object which is very similar.\n",
      "Warning : `load_model` does not return WordVectorModel or SupervisedModel any more, but a `FastText` object which is very similar.\n",
      "                                                                                \r"
     ]
    }
   ],
   "source": [
    "save_partation(drop_df,cache_folder,date,isSample,sampleRate,min_len)"
   ]
  },
  {
   "cell_type": "code",
   "execution_count": 9,
   "id": "8117ccf3-6fd0-44bd-a183-4b7fc975ff56",
   "metadata": {},
   "outputs": [],
   "source": [
    "selected_bucket=\"head\"\n",
    "selected_lang=\"en\"\n",
    "df_en_head=load_partation(spark,selected_lang,selected_bucket,cache_folder,date,isSample,sampleRate,min_len)"
   ]
  },
  {
   "cell_type": "code",
   "execution_count": 10,
   "id": "6c0e8921-fb3e-4477-aac6-1526a2efcd7d",
   "metadata": {},
   "outputs": [
    {
     "name": "stdout",
     "output_type": "stream",
     "text": [
      "+--------------------+--------------------+--------------------+--------------------+----------+---------------+---------------+--------------------+------+--------------------+--------------------+------+-----+----------+\n",
      "|              digest|                 url|       date_download|       source_domain|cc_segment|original_length|original_nlines|               title|nlines|         raw_content|         raw_line_id|length|score|perplexity|\n",
      "+--------------------+--------------------+--------------------+--------------------+----------+---------------+---------------+--------------------+------+--------------------+--------------------+------+-----+----------+\n",
      "|sha1:3MY7PKVVTUN2...|http://www.cactus...|2019-02-15T19:12:15Z| www.cactusranch.com|         8|           1542|             25|          On Gilling|    19|On Gilling\\nPoste...|[0, 2, 3, 4, 5, 6...|  1381| 0.99|     339.1|\n",
      "|sha1:6G2HUH7IWO3Z...|https://www.filmf...|2019-02-15T18:56:31Z| www.filmfestival.be|         5|           2987|             73|Archived: Black j...|    37|8 > 18 Oct 2019\\n...|[0, 1, 5, 6, 12, ...|  2526| 0.66|      72.4|\n",
      "|sha1:7WDMW36WBB53...|https://phiquyenc...|2019-02-15T19:46:35Z|   phiquyenchinh.org|         1|          18282|            208|Manufacturing Tru...|    94|Phi Quyền Chính -...|[3, 4, 7, 9, 10, ...| 15952| 0.94|     279.6|\n",
      "|sha1:CE5AZ76ONHUI...|http://icetulip.c...|2019-02-15T20:19:21Z|        icetulip.com|         8|         377358|           3459|Baby pope has no ...|  3339|Client Services\\n...|[3, 6, 7, 11, 13,...|376028| 0.54|     225.5|\n",
      "|sha1:F5DAXLSEWM4I...|http://www.djvinc...|2019-02-15T18:50:21Z|      www.djvinc.com|         7|           1970|             32|John A. Ververell...|    17|Home / Our Team /...|[8, 11, 12, 13, 1...|  1785| 0.93|     326.8|\n",
      "|sha1:P67A6Z5QERM6...|https://mybeachge...|2019-02-15T18:57:45Z| mybeachgetaways.com|         2|           3069|             76|Phoenix V Unit 14...|    39|Orange Beach\\nGul...|[7, 8, 9, 19, 20,...|  2650| 0.67|     188.9|\n",
      "|sha1:UAULXJMVIGZS...|https://brightkit...|2019-02-15T19:02:31Z|      brightkite.com|         9|          11120|            101|Macbeth's Downfal...|    90|This website uses...|[0, 7, 9, 10, 11,...| 10836| 0.94|     320.9|\n",
      "|sha1:YMYG7TQXFESH...|https://arousingg...|2019-02-15T18:43:47Z| arousinggrammar.com|         6|          13730|            131|Civil War: Mr. Fa...|    39|Civil War: Mr. Fa...|[4, 5, 6, 7, 8, 9...| 11257| 0.97|     335.3|\n",
      "|sha1:7K4TIX6A3K3L...|https://www.waiko...|2019-02-15T20:09:42Z|  www.waikoloacc.org|         7|            568|             36|Events - Waikoloa...|     6|Sunday Worship Op...|[18, 19, 20, 21, ...|   317|  0.7|      78.6|\n",
      "|sha1:BGA6KKXBQ57G...|http://dedicatedd...|2019-02-15T19:57:29Z|dedicateddentalca...|         3|           5275|             98|Guide to Improvin...|    24|Dedicated Dental ...|[3, 24, 25, 57, 5...|  4250| 0.94|     312.3|\n",
      "|sha1:BO7H4VQQG2JQ...|https://www.killc...|2019-02-15T18:51:49Z|  www.killcastro.com|         0|           5171|             34|Military Figures ...|    23|Military Issue\\nH...|[2, 3, 4, 5, 6, 7...|  4998| 0.97|     280.1|\n",
      "|sha1:GOPTF3TUG4QS...|https://rainbowpu...|2019-02-15T19:47:53Z|     rainbowpush.org|         8|           6216|            110|Mayor of San Juan...|    43|Rainbow Push\\nBus...|[6, 9, 10, 17, 23...|  5095| 0.95|     330.4|\n",
      "|sha1:OZWWPLVDYIGZ...|http://gregmankiw...|2019-02-15T19:02:36Z|gregmankiw.blogsp...|         6|          18547|            258|Greg Mankiw's Blo...|    91|Greg Mankiw's Blo...|[0, 1, 2, 3, 4, 5...| 16455| 0.97|     319.0|\n",
      "|sha1:RWHVDHLBXHQS...|https://www.newsa...|2019-02-15T20:06:23Z|   www.newsarama.com|         8|           9737|             86|Examining Trauma ...|    57|Film&TV\\nCountdow...|[3, 5, 11, 13, 14...|  9308| 0.96|     302.2|\n",
      "|sha1:TMF2IJUGS323...|https://www.senta...|2019-02-15T19:21:40Z|     www.sentara.com|         4|           5429|             46|PET/CT Scan Imagi...|    39|PET/CT Scan\\nPET/...|[2, 3, 4, 5, 6, 7...|  5359| 0.92|     312.0|\n",
      "|sha1:WJNOYYBTTH3S...|https://eager-rea...|2019-02-15T19:39:37Z|    eager-reader.com|         0|           3892|             52|Review : Walk the...|    25|Diary of an Eager...|[0, 1, 8, 14, 15,...|  3413| 0.97|     326.2|\n",
      "|sha1:4TEKNX7XDC2Z...|https://www.bpbcp...|2019-02-15T20:00:34Z|      www.bpbcpa.com|         5|          11802|            221|How to Build Busi...|    58|berkowitz pollack...|[0, 64, 67, 68, 6...|  7899| 0.95|     291.0|\n",
      "|sha1:4VCNBQZXNZGD...|https://www.quick...|2019-02-15T18:51:25Z|   www.quickship.com|         3|            746|             22|Kodak EasyShare M...|     5|If you are using ...|  [0, 1, 12, 13, 19]|   600| 0.85|     252.5|\n",
      "|sha1:AYJC27MOJM2L...|http://www.csleug...|2019-02-15T18:45:46Z|   www.csleugene.org|         0|           5826|             64|Ministers | Cente...|    40|Inspiring minds, ...|[0, 2, 9, 11, 14,...|  5570| 0.97|     334.7|\n",
      "|sha1:POYJFTQKRLYE...|https://own-two-h...|2019-02-15T19:19:36Z|   own-two-hands.com|         2|           5412|             40|cook – Own Two Hands|    15|Own Two Hands\\nTa...|[1, 7, 8, 9, 10, ...|  5080| 0.98|     283.7|\n",
      "+--------------------+--------------------+--------------------+--------------------+----------+---------------+---------------+--------------------+------+--------------------+--------------------+------+-----+----------+\n",
      "only showing top 20 rows\n",
      "\n"
     ]
    }
   ],
   "source": [
    "df_en_head.show()"
   ]
  },
  {
   "cell_type": "code",
   "execution_count": 11,
   "id": "bc078fed-6833-485d-87a1-1a7219288e82",
   "metadata": {},
   "outputs": [
    {
     "name": "stdout",
     "output_type": "stream",
     "text": [
      "+--------------------+--------------------+----------+------+----------+\n",
      "|                 url|         raw_content|perplexity|length|cc_segment|\n",
      "+--------------------+--------------------+----------+------+----------+\n",
      "|http://www.cactus...|On Gilling\\nPoste...|     339.1|  1381|         8|\n",
      "|https://www.filmf...|8 > 18 Oct 2019\\n...|      72.4|  2526|         5|\n",
      "|https://phiquyenc...|Phi Quyền Chính -...|     279.6| 15952|         1|\n",
      "|http://icetulip.c...|Client Services\\n...|     225.5|376028|         8|\n",
      "|http://www.djvinc...|Home / Our Team /...|     326.8|  1785|         7|\n",
      "|https://mybeachge...|Orange Beach\\nGul...|     188.9|  2650|         2|\n",
      "|https://brightkit...|This website uses...|     320.9| 10836|         9|\n",
      "|https://arousingg...|Civil War: Mr. Fa...|     335.3| 11257|         6|\n",
      "|https://www.waiko...|Sunday Worship Op...|      78.6|   317|         7|\n",
      "|http://dedicatedd...|Dedicated Dental ...|     312.3|  4250|         3|\n",
      "|https://www.killc...|Military Issue\\nH...|     280.1|  4998|         0|\n",
      "|https://rainbowpu...|Rainbow Push\\nBus...|     330.4|  5095|         8|\n",
      "|http://gregmankiw...|Greg Mankiw's Blo...|     319.0| 16455|         6|\n",
      "|https://www.newsa...|Film&TV\\nCountdow...|     302.2|  9308|         8|\n",
      "|https://www.senta...|PET/CT Scan\\nPET/...|     312.0|  5359|         4|\n",
      "|https://eager-rea...|Diary of an Eager...|     326.2|  3413|         0|\n",
      "|https://www.bpbcp...|berkowitz pollack...|     291.0|  7899|         5|\n",
      "|https://www.quick...|If you are using ...|     252.5|   600|         3|\n",
      "|http://www.csleug...|Inspiring minds, ...|     334.7|  5570|         0|\n",
      "|https://own-two-h...|Own Two Hands\\nTa...|     283.7|  5080|         2|\n",
      "+--------------------+--------------------+----------+------+----------+\n",
      "only showing top 20 rows\n",
      "\n",
      "66\n"
     ]
    }
   ],
   "source": [
    "df_en_head.select(\"url\",\"raw_content\",\"perplexity\",\"length\",\"cc_segment\").show()\n",
    "print(df_en_head.count())"
   ]
  },
  {
   "cell_type": "code",
   "execution_count": null,
   "id": "819a913b-c55a-4112-a5e0-f1a0c87cbcd3",
   "metadata": {},
   "outputs": [],
   "source": []
  },
  {
   "cell_type": "code",
   "execution_count": null,
   "id": "cfab746d-ee94-4a3d-a3f1-4df5103f589e",
   "metadata": {},
   "outputs": [],
   "source": []
  },
  {
   "cell_type": "code",
   "execution_count": null,
   "id": "5aaea937-a756-49c5-9579-e13097b5a771",
   "metadata": {},
   "outputs": [],
   "source": []
  }
 ],
 "metadata": {
  "kernelspec": {
   "display_name": "Python 3 (ipykernel)",
   "language": "python",
   "name": "python3"
  },
  "language_info": {
   "codemirror_mode": {
    "name": "ipython",
    "version": 3
   },
   "file_extension": ".py",
   "mimetype": "text/x-python",
   "name": "python",
   "nbconvert_exporter": "python",
   "pygments_lexer": "ipython3",
   "version": "3.9.19"
  }
 },
 "nbformat": 4,
 "nbformat_minor": 5
}

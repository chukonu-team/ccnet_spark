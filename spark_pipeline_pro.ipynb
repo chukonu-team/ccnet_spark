{
 "cells": [
  {
   "cell_type": "code",
   "execution_count": 1,
   "id": "e45bf866-59e7-4fa1-b3f3-0eac31f300f7",
   "metadata": {},
   "outputs": [
    {
     "name": "stderr",
     "output_type": "stream",
     "text": [
      "24/04/02 14:26:49 WARN Utils: Service 'SparkUI' could not bind on port 4040. Attempting port 4041.\n"
     ]
    }
   ],
   "source": [
    "from ccnet_spark.text_normalizer import normalize\n",
    "from ccnet_spark.pipe_preprocess import load_segments\n",
    "from ccnet_spark.pipe_hash import compute_hashes,split_doc2para\n",
    "from ccnet_spark.pipe_lid import predictLang,predictScore\n",
    "from ccnet_spark.pipe_tokenized import doSentencePiece\n",
    "from ccnet_spark.pipe_perplexity import doDocLM\n",
    "from ccnet_spark.pipe_ppbucket import doPPBucket\n",
    "from ccnet_spark.pipe_save import save_partation,load_partation\n",
    "import time\n",
    "from pyspark.sql import SparkSession\n",
    "from pyspark.sql import functions as F\n",
    "from pyspark.sql.functions import explode\n",
    "from pyspark.sql.functions import sum as spark_sum\n",
    "\n",
    "# 初始化 SparkSession\n",
    "spark = SparkSession.builder.appName(\"CCNETSpark\")  \\\n",
    "                    .config(\"spark.executor.memory\", \"100g\") \\\n",
    "                    .config(\"spark.driver.memory\", \"32g\") \\\n",
    "                    .config(\"spark.driver.maxResultSize\", \"32g\") \\\n",
    "                    .config('spark.sql.execution.arrow.pyspark.enabled', 'true') \\\n",
    "                    .getOrCreate()\n",
    "sc = spark.sparkContext"
   ]
  },
  {
   "cell_type": "code",
   "execution_count": 2,
   "id": "6033320f-74a2-41e5-91b8-e1c0bd6ea14f",
   "metadata": {},
   "outputs": [],
   "source": [
    "def getModePara(mode):\n",
    "    if(mode==\"test\"):\n",
    "        cache_folder=\"/root/wxl_folder/cache_data/\"\n",
    "        date=\"2019-09\" ## hardcode ,现在只能是这个\n",
    "        segments=[i for i in range(10)]\n",
    "        min_len=300\n",
    "        isSample=True\n",
    "        sampleRate=0.01\n",
    "    else:\n",
    "        cache_folder=\"/root/wxl_folder/cache_data/\"\n",
    "        date=\"2019-09\" ## hardcode ,现在只能是这个\n",
    "        segments=[i for i in range(10)]\n",
    "        min_len=300\n",
    "        isSample=True\n",
    "        sampleRate=0.01\n",
    "    return [cache_folder,date,segments,min_len,isSample,sampleRate]\n",
    "mode=\"test\"\n",
    "cache_folder,date,segments,min_len,isSample,sampleRate=getModePara(mode)"
   ]
  },
  {
   "cell_type": "code",
   "execution_count": 3,
   "id": "2cb8b4a6-d77d-4e06-bb9a-ffc38f461fd8",
   "metadata": {},
   "outputs": [
    {
     "name": "stderr",
     "output_type": "stream",
     "text": [
      "2024-04-02 14:26 INFO 708667:ccnet_spark.pipe_preprocess - Opening /root/wxl_folder/cache_data/2019-09/CC-MAIN-20190215183319-20190215205319-00000.warc.wet.gz with mode 'rt'\n",
      "2024-04-02 14:26 INFO 708667:root - Created DataFrame with 42618 documents\n",
      "2024-04-02 14:26 INFO 708667:root - load segment 0, 426 docs, with sampleRate:1.0%,min_len:300,with date:2019-09\n",
      "2024-04-02 14:27 INFO 708667:root - load segment 0, with sampleRate:1.0%,min_len:300,with date:2019-09\n",
      "2024-04-02 14:27 INFO 708667:ccnet_spark.pipe_preprocess - Opening /root/wxl_folder/cache_data/2019-09/CC-MAIN-20190215183319-20190215205319-00001.warc.wet.gz with mode 'rt'\n",
      "2024-04-02 14:27 INFO 708667:root - Created DataFrame with 41939 documents\n",
      "2024-04-02 14:27 INFO 708667:root - load segment 1, 419 docs, with sampleRate:1.0%,min_len:300,with date:2019-09\n",
      "2024-04-02 14:27 INFO 708667:root - load segment 1, with sampleRate:1.0%,min_len:300,with date:2019-09\n",
      "2024-04-02 14:27 INFO 708667:ccnet_spark.pipe_preprocess - Opening /root/wxl_folder/cache_data/2019-09/CC-MAIN-20190215183319-20190215205319-00002.warc.wet.gz with mode 'rt'\n",
      "2024-04-02 14:27 INFO 708667:root - Created DataFrame with 42864 documents\n",
      "2024-04-02 14:27 INFO 708667:root - load segment 2, 428 docs, with sampleRate:1.0%,min_len:300,with date:2019-09\n",
      "2024-04-02 14:27 INFO 708667:root - load segment 2, with sampleRate:1.0%,min_len:300,with date:2019-09\n",
      "2024-04-02 14:27 INFO 708667:ccnet_spark.pipe_preprocess - Opening /root/wxl_folder/cache_data/2019-09/CC-MAIN-20190215183319-20190215205319-00003.warc.wet.gz with mode 'rt'\n",
      "2024-04-02 14:27 INFO 708667:root - Created DataFrame with 42470 documents\n",
      "2024-04-02 14:27 INFO 708667:root - load segment 3, 424 docs, with sampleRate:1.0%,min_len:300,with date:2019-09\n",
      "2024-04-02 14:27 INFO 708667:root - load segment 3, with sampleRate:1.0%,min_len:300,with date:2019-09\n",
      "2024-04-02 14:27 INFO 708667:ccnet_spark.pipe_preprocess - Opening /root/wxl_folder/cache_data/2019-09/CC-MAIN-20190215183319-20190215205319-00004.warc.wet.gz with mode 'rt'\n",
      "2024-04-02 14:27 INFO 708667:root - Created DataFrame with 42343 documents\n",
      "2024-04-02 14:27 INFO 708667:root - load segment 4, 423 docs, with sampleRate:1.0%,min_len:300,with date:2019-09\n",
      "2024-04-02 14:27 INFO 708667:root - load segment 4, with sampleRate:1.0%,min_len:300,with date:2019-09\n",
      "2024-04-02 14:27 INFO 708667:ccnet_spark.pipe_preprocess - Opening /root/wxl_folder/cache_data/2019-09/CC-MAIN-20190215183319-20190215205319-00005.warc.wet.gz with mode 'rt'\n",
      "2024-04-02 14:27 INFO 708667:root - Created DataFrame with 42613 documents\n",
      "2024-04-02 14:27 INFO 708667:root - load segment 5, 426 docs, with sampleRate:1.0%,min_len:300,with date:2019-09\n",
      "2024-04-02 14:27 INFO 708667:root - load segment 5, with sampleRate:1.0%,min_len:300,with date:2019-09\n",
      "2024-04-02 14:27 INFO 708667:ccnet_spark.pipe_preprocess - Opening /root/wxl_folder/cache_data/2019-09/CC-MAIN-20190215183319-20190215205319-00006.warc.wet.gz with mode 'rt'\n",
      "2024-04-02 14:27 INFO 708667:root - Created DataFrame with 42227 documents\n",
      "2024-04-02 14:27 INFO 708667:root - load segment 6, 422 docs, with sampleRate:1.0%,min_len:300,with date:2019-09\n",
      "24/04/02 14:27:39 WARN TaskSetManager: Stage 6 contains a task of very large size (1223 KiB). The maximum recommended task size is 1000 KiB.\n",
      "2024-04-02 14:27 INFO 708667:root - load segment 6, with sampleRate:1.0%,min_len:300,with date:2019-09\n",
      "2024-04-02 14:27 INFO 708667:ccnet_spark.pipe_preprocess - Opening /root/wxl_folder/cache_data/2019-09/CC-MAIN-20190215183319-20190215205319-00007.warc.wet.gz with mode 'rt'\n",
      "2024-04-02 14:27 INFO 708667:root - Created DataFrame with 42469 documents\n",
      "2024-04-02 14:27 INFO 708667:root - load segment 7, 424 docs, with sampleRate:1.0%,min_len:300,with date:2019-09\n",
      "2024-04-02 14:27 INFO 708667:root - load segment 7, with sampleRate:1.0%,min_len:300,with date:2019-09\n",
      "2024-04-02 14:27 INFO 708667:ccnet_spark.pipe_preprocess - Opening /root/wxl_folder/cache_data/2019-09/CC-MAIN-20190215183319-20190215205319-00008.warc.wet.gz with mode 'rt'\n",
      "2024-04-02 14:27 INFO 708667:root - Created DataFrame with 42536 documents\n",
      "2024-04-02 14:27 INFO 708667:root - load segment 8, 425 docs, with sampleRate:1.0%,min_len:300,with date:2019-09\n",
      "2024-04-02 14:27 INFO 708667:root - load segment 8, with sampleRate:1.0%,min_len:300,with date:2019-09\n",
      "2024-04-02 14:27 INFO 708667:ccnet_spark.pipe_preprocess - Opening /root/wxl_folder/cache_data/2019-09/CC-MAIN-20190215183319-20190215205319-00009.warc.wet.gz with mode 'rt'\n",
      "2024-04-02 14:27 INFO 708667:root - Created DataFrame with 42606 documents\n",
      "2024-04-02 14:27 INFO 708667:root - load segment 9, 426 docs, with sampleRate:1.0%,min_len:300,with date:2019-09\n",
      "2024-04-02 14:27 INFO 708667:root - load segment 9, with sampleRate:1.0%,min_len:300,with date:2019-09\n"
     ]
    }
   ],
   "source": [
    "spark_df=load_segments(spark,segments,cache_folder,date=date,isSample=isSample,sampleRate=sampleRate,min_len=min_len)\n",
    "spark_df=spark_df.withColumn(\"length\", F.length(spark_df[\"raw_content\"]))\n",
    "split_result = spark_df.withColumn(\"split_content\", split_doc2para(spark_df[\"raw_content\"]))\n",
    "exploded_df=split_result.withColumn(\"exploded_content\", explode(split_result.split_content))\n",
    "exploded_df = exploded_df.withColumn(\"raw_line_id\", exploded_df.exploded_content.raw_line_id) \\\n",
    "                         .withColumn(\"raw_line\", exploded_df.exploded_content.raw_line) \\\n",
    "                         .drop(\"exploded_content\")\n",
    "hash_df = exploded_df.withColumn(\"hash_value\", compute_hashes(exploded_df.raw_line))\n",
    "deduplicated_df = hash_df.dropDuplicates(['hash_value'])"
   ]
  },
  {
   "cell_type": "code",
   "execution_count": 4,
   "id": "0c76d1e5-48e4-44bd-b015-c7f66d39277f",
   "metadata": {},
   "outputs": [],
   "source": [
    "group_df = deduplicated_df.groupBy(\"digest\").agg(\n",
    "    F.first(\"url\").alias(\"url\"),\n",
    "    F.first(\"date_download\").alias(\"date_download\"),\n",
    "    F.first(\"source_domain\").alias(\"source_domain\"),\n",
    "    F.first(\"cc_segment\").alias(\"cc_segment\"),\n",
    "    F.first(\"length\").alias(\"original_length\"),\n",
    "    F.first(\"nlines\").alias(\"original_nlines\"),\n",
    "    F.first(\"title\").alias(\"title\"),\n",
    "    F.concat_ws(\"\\n\", F.collect_list(\"raw_line\").alias(\"raw_content\")).alias(\"raw_content\"),\n",
    "    F.count(\"raw_line_id\").alias(\"nlines\"),\n",
    "    F.collect_list(\"raw_line_id\").alias(\"line_ids\"),\n",
    ")\n",
    "group_df=group_df.withColumn(\"length\", F.length(group_df[\"raw_content\"]))"
   ]
  },
  {
   "cell_type": "code",
   "execution_count": 5,
   "id": "762eaae8-2808-428a-9ee5-ea0ff9fe255b",
   "metadata": {},
   "outputs": [],
   "source": [
    "lang_df = group_df.withColumn(\"lang\", predictLang(\"raw_content\"))\n",
    "lang_df = lang_df.withColumn(\"score\", predictScore(\"raw_content\"))\n",
    "lm_df = lang_df.withColumn(\"tokenized\", doSentencePiece(\"raw_content\",\"lang\"))\n",
    "doclm_df = lm_df.withColumn(\"perplexity\", doDocLM(\"tokenized\",\"lang\"))\n",
    "bucket_df = doclm_df.withColumn(\"bucket\", doPPBucket(\"perplexity\",\"lang\"))\n",
    "drop_df = bucket_df.drop(\"tokenized\")"
   ]
  },
  {
   "cell_type": "code",
   "execution_count": 6,
   "id": "4be083ca-6921-4b4f-b410-c3202be814e9",
   "metadata": {},
   "outputs": [
    {
     "name": "stderr",
     "output_type": "stream",
     "text": [
      "24/04/02 14:28:25 WARN TaskSetManager: Stage 10 contains a task of very large size (1223 KiB). The maximum recommended task size is 1000 KiB.\n",
      "Warning : `load_model` does not return WordVectorModel or SupervisedModel any more, but a `FastText` object which is very similar.\n",
      "Warning : `load_model` does not return WordVectorModel or SupervisedModel any more, but a `FastText` object which is very similar.\n",
      "Warning : `load_model` does not return WordVectorModel or SupervisedModel any more, but a `FastText` object which is very similar.\n",
      "Warning : `load_model` does not return WordVectorModel or SupervisedModel any more, but a `FastText` object which is very similar.\n",
      "Warning : `load_model` does not return WordVectorModel or SupervisedModel any more, but a `FastText` object which is very similar.\n",
      "Warning : `load_model` does not return WordVectorModel or SupervisedModel any more, but a `FastText` object which is very similar.\n",
      "Warning : `load_model` does not return WordVectorModel or SupervisedModel any more, but a `FastText` object which is very similar.\n",
      "Warning : `load_model` does not return WordVectorModel or SupervisedModel any more, but a `FastText` object which is very similar.\n",
      "Warning : `load_model` does not return WordVectorModel or SupervisedModel any more, but a `FastText` object which is very similar.\n",
      "Warning : `load_model` does not return WordVectorModel or SupervisedModel any more, but a `FastText` object which is very similar.\n",
      "Warning : `load_model` does not return WordVectorModel or SupervisedModel any more, but a `FastText` object which is very similar.\n",
      "Warning : `load_model` does not return WordVectorModel or SupervisedModel any more, but a `FastText` object which is very similar.\n",
      "                                                                                \r"
     ]
    }
   ],
   "source": [
    "save_partation(drop_df,cache_folder,date,isSample,sampleRate,min_len)"
   ]
  },
  {
   "cell_type": "code",
   "execution_count": 7,
   "id": "8117ccf3-6fd0-44bd-a183-4b7fc975ff56",
   "metadata": {},
   "outputs": [],
   "source": [
    "selected_bucket=\"head\"\n",
    "selected_lang=\"en\"\n",
    "df_en_head=load_partation(spark,selected_lang,selected_bucket,cache_folder,date,isSample,sampleRate,min_len)"
   ]
  },
  {
   "cell_type": "code",
   "execution_count": 9,
   "id": "bc078fed-6833-485d-87a1-1a7219288e82",
   "metadata": {},
   "outputs": [
    {
     "name": "stdout",
     "output_type": "stream",
     "text": [
      "+--------------------+--------------------+----------+------+----------+\n",
      "|                 url|         raw_content|perplexity|length|cc_segment|\n",
      "+--------------------+--------------------+----------+------+----------+\n",
      "|https://www.filmf...|Other festival fi...|      90.6|  2658|         5|\n",
      "|https://phiquyenc...|Tham Khảo\\nAt thi...|     282.8| 16135|         1|\n",
      "|http://icetulip.c...|Man orders Kindle...|     225.7|376028|         8|\n",
      "|http://www.djvinc...|DJVI has speciali...|     338.4|  1810|         7|\n",
      "|https://mybeachge...|Property Inquiry\\...|     207.0|  2701|         2|\n",
      "|https://brightkit...|The English Law o...|     317.9| 10923|         9|\n",
      "|https://arousingg...|Repeat forever.\\n...|     336.5| 11391|         6|\n",
      "|http://tatteredan...|I have not found ...|     307.5| 27630|         9|\n",
      "|https://scrappera...|About Me!\\nMy Cur...|     328.1|  2818|         7|\n",
      "|https://ppmforums...|Blood color probl...|     189.1| 23599|         9|\n",
      "|http://www.georgi...|This Agreement is...|     324.2| 12108|         7|\n",
      "|https://medicine....|451 Newton Road\\n...|     252.2|  2892|         5|\n",
      "|https://cinefeely...|Hector and the Se...|     306.4| 29547|         4|\n",
      "|https://advertisi...|On the other hand...|     289.0| 19834|         9|\n",
      "|http://blog.timmc...|Saving the world,...|     331.1| 16150|         7|\n",
      "|http://hinditorre...|The Accidental Pr...|     332.2|  8182|         9|\n",
      "|http://fatherwool...|For high above th...|     321.9| 23717|         3|\n",
      "|https://www.afric...|Rose Kennedy Gree...|     216.0|  5483|         0|\n",
      "|https://www.eastb...|This is a no-brai...|     294.3| 12675|         8|\n",
      "|https://www.waiko...|Children’s Minist...|      81.4|   317|         7|\n",
      "+--------------------+--------------------+----------+------+----------+\n",
      "only showing top 20 rows\n",
      "\n",
      "50\n"
     ]
    }
   ],
   "source": [
    "df_en_head.select(\"url\",\"raw_content\",\"perplexity\",\"length\",\"cc_segment\").show()\n",
    "print(df_en_head.count())"
   ]
  },
  {
   "cell_type": "code",
   "execution_count": null,
   "id": "819a913b-c55a-4112-a5e0-f1a0c87cbcd3",
   "metadata": {},
   "outputs": [],
   "source": []
  },
  {
   "cell_type": "code",
   "execution_count": null,
   "id": "cfab746d-ee94-4a3d-a3f1-4df5103f589e",
   "metadata": {},
   "outputs": [],
   "source": []
  }
 ],
 "metadata": {
  "kernelspec": {
   "display_name": "Python 3 (ipykernel)",
   "language": "python",
   "name": "python3"
  },
  "language_info": {
   "codemirror_mode": {
    "name": "ipython",
    "version": 3
   },
   "file_extension": ".py",
   "mimetype": "text/x-python",
   "name": "python",
   "nbconvert_exporter": "python",
   "pygments_lexer": "ipython3",
   "version": "3.9.19"
  }
 },
 "nbformat": 4,
 "nbformat_minor": 5
}

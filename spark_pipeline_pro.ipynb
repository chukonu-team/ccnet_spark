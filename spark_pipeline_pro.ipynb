{
 "cells": [
  {
   "cell_type": "code",
   "execution_count": 1,
   "id": "e45bf866-59e7-4fa1-b3f3-0eac31f300f7",
   "metadata": {},
   "outputs": [
    {
     "name": "stderr",
     "output_type": "stream",
     "text": [
      "24/04/03 15:23:30 WARN Utils: Service 'SparkUI' could not bind on port 4040. Attempting port 4041.\n"
     ]
    }
   ],
   "source": [
    "from ccnet_spark.text_normalizer import normalize\n",
    "from ccnet_spark.pipe_preprocess import load_segments\n",
    "from ccnet_spark.pipe_hash import compute_hashes,split_doc2para\n",
    "from ccnet_spark.pipe_lid import predictLang\n",
    "from ccnet_spark.pipe_tokenized import doSentencePiece\n",
    "from ccnet_spark.pipe_perplexity import doDocLM\n",
    "from ccnet_spark.pipe_ppbucket import doPPBucket\n",
    "from ccnet_spark.pipe_save import save_partation,load_partation\n",
    "import time\n",
    "from pyspark.sql import SparkSession\n",
    "from pyspark.sql import functions as F\n",
    "from pyspark.sql.functions import explode\n",
    "from pyspark.sql.functions import sum as spark_sum\n",
    "from pyspark.sql.functions import col\n",
    "# 初始化 SparkSession\n",
    "spark = SparkSession.builder.appName(\"CCNETSpark\")  \\\n",
    "                    .config(\"spark.executor.memory\", \"100g\") \\\n",
    "                    .config(\"spark.driver.memory\", \"32g\") \\\n",
    "                    .config(\"spark.driver.maxResultSize\", \"32g\") \\\n",
    "                    .config('spark.sql.execution.arrow.pyspark.enabled', 'true') \\\n",
    "                    .getOrCreate()"
   ]
  },
  {
   "cell_type": "code",
   "execution_count": 2,
   "id": "6033320f-74a2-41e5-91b8-e1c0bd6ea14f",
   "metadata": {},
   "outputs": [],
   "source": [
    "def getModePara(mode):\n",
    "    if(mode==\"test\"):\n",
    "        n_segments=10\n",
    "        cache_folder=\"/root/wxl_folder/cache_data/\"\n",
    "        date=\"2019-09\" ## hardcode ,现在只能是这个\n",
    "        segments=[i for i in range(n_segments)]\n",
    "        min_len=300\n",
    "        isSample=True\n",
    "        sampleRate=0.01\n",
    "        num_partitions=1\n",
    "    else:\n",
    "        n_segments=4\n",
    "        cache_folder=\"/root/wxl_folder/cache_data/\"\n",
    "        date=\"2019-09\" ## hardcode ,现在只能是这个\n",
    "        segments=[i for i in range(n_segments)]\n",
    "        min_len=300\n",
    "        isSample=False\n",
    "        sampleRate=1\n",
    "        num_partitions=4\n",
    "    return [cache_folder,date,segments,min_len,isSample,sampleRate,num_partitions]\n",
    "mode=\"test\"\n",
    "cache_folder,date,segments,min_len,isSample,sampleRate,num_partitions=getModePara(mode)"
   ]
  },
  {
   "cell_type": "code",
   "execution_count": 3,
   "id": "2cb8b4a6-d77d-4e06-bb9a-ffc38f461fd8",
   "metadata": {},
   "outputs": [
    {
     "name": "stderr",
     "output_type": "stream",
     "text": [
      "2024-04-03 15:23 INFO 897436:root - load segment 0, with sampleRate:1.0%,min_len:300,with date:2019-09\n",
      "2024-04-03 15:23 INFO 897436:root - load segment 1, with sampleRate:1.0%,min_len:300,with date:2019-09\n",
      "2024-04-03 15:23 INFO 897436:root - load segment 2, with sampleRate:1.0%,min_len:300,with date:2019-09\n",
      "2024-04-03 15:23 INFO 897436:root - load segment 3, with sampleRate:1.0%,min_len:300,with date:2019-09\n",
      "2024-04-03 15:23 INFO 897436:root - load segment 4, with sampleRate:1.0%,min_len:300,with date:2019-09\n",
      "2024-04-03 15:23 INFO 897436:root - load segment 5, with sampleRate:1.0%,min_len:300,with date:2019-09\n",
      "2024-04-03 15:23 INFO 897436:root - load segment 6, with sampleRate:1.0%,min_len:300,with date:2019-09\n",
      "2024-04-03 15:23 INFO 897436:root - load segment 7, with sampleRate:1.0%,min_len:300,with date:2019-09\n",
      "2024-04-03 15:23 INFO 897436:root - load segment 8, with sampleRate:1.0%,min_len:300,with date:2019-09\n",
      "2024-04-03 15:23 INFO 897436:root - load segment 9, with sampleRate:1.0%,min_len:300,with date:2019-09\n"
     ]
    }
   ],
   "source": [
    "spark_df=load_segments(spark,segments,cache_folder,date=date,isSample=isSample,sampleRate=sampleRate,min_len=min_len)\n",
    "spark_df=spark_df.withColumn(\"length\", F.length(spark_df[\"raw_content\"]))\n",
    "split_result = spark_df.withColumn(\"split_content\", split_doc2para(spark_df[\"raw_content\"]))\n",
    "exploded_df=split_result.withColumn(\"exploded_content\", explode(split_result.split_content)) \\\n",
    "                        .drop(\"split_content\")\n",
    "hash_df = exploded_df.withColumn(\"hash_value\", compute_hashes(exploded_df.exploded_content.raw_line))\n"
   ]
  },
  {
   "cell_type": "code",
   "execution_count": 9,
   "id": "5899ef74-6706-4550-a03e-d3ca7cf201fa",
   "metadata": {},
   "outputs": [],
   "source": [
    "#deduplicated_df = hash_df.dropDuplicates(['hash_value']) # 第一种是保留一次重复行\n",
    "\n",
    "## 第二种是不保留重复行\n",
    "# 使用 groupBy 和 count 识别重复行\n",
    "duplicate_counts = hash_df.groupBy(\"hash_value\").count().where(col(\"count\") > 1)\n",
    "# 根据重复行的信息，使用 filter 过滤掉重复行\n",
    "deduplicated_df = hash_df.join(duplicate_counts, on=\"hash_value\", how=\"left_anti\")"
   ]
  },
  {
   "cell_type": "code",
   "execution_count": 11,
   "id": "bf4fcd79-75bc-48da-92eb-d0cd4e0d6378",
   "metadata": {},
   "outputs": [
    {
     "name": "stderr",
     "output_type": "stream",
     "text": [
      "                                                                                \r"
     ]
    },
    {
     "name": "stdout",
     "output_type": "stream",
     "text": [
      "+--------------------+--------------------+--------------------+--------------------+------+------+--------------+-------------------------------------+---------------------------------+----------+------------------------------+\n",
      "|          hash_value|                 url|       date_download|              digest|length|nlines| source_domain|                                title|                      raw_content|cc_segment|              exploded_content|\n",
      "+--------------------+--------------------+--------------------+--------------------+------+------+--------------+-------------------------------------+---------------------------------+----------+------------------------------+\n",
      "|[51 1F 35 D0 30 B...|http://www.drperi...|2019-02-15T20:06:54Z|sha1:TETCOD7OGM66...|  3474|    94|www.drperi.com|宋志平到山东济南、烟台和青州交流调...|OA登录 人力资源系统 协同办公系...|         0| {0, OA登录 人力资源系统 协...|\n",
      "|[14 29 D1 A8 69 C...|http://www.drperi...|2019-02-15T20:06:54Z|sha1:TETCOD7OGM66...|  3474|    94|www.drperi.com|宋志平到山东济南、烟台和青州交流调...|OA登录 人力资源系统 协同办公系...|         0|                {1, 邮箱登录|}|\n",
      "|[75 F4 B5 95 7C 4...|http://www.drperi...|2019-02-15T20:06:54Z|sha1:TETCOD7OGM66...|  3474|    94|www.drperi.com|宋志平到山东济南、烟台和青州交流调...|OA登录 人力资源系统 协同办公系...|         0|                {2, 下载专区|}|\n",
      "|[3C 0E 8F B0 9C 8...|http://www.drperi...|2019-02-15T20:06:54Z|sha1:TETCOD7OGM66...|  3474|    94|www.drperi.com|宋志平到山东济南、烟台和青州交流调...|OA登录 人力资源系统 协同办公系...|         0|                {3, 信息报送|}|\n",
      "|[2D D3 B4 41 04 2...|http://www.drperi...|2019-02-15T20:06:54Z|sha1:TETCOD7OGM66...|  3474|    94|www.drperi.com|宋志平到山东济南、烟台和青州交流调...|OA登录 人力资源系统 协同办公系...|         0|                {4, 档案系统|}|\n",
      "|[D0 E9 77 F8 CB 9...|http://www.drperi...|2019-02-15T20:06:54Z|sha1:TETCOD7OGM66...|  3474|    94|www.drperi.com|宋志平到山东济南、烟台和青州交流调...|OA登录 人力资源系统 协同办公系...|         0|               {5, 集团网站群}|\n",
      "|[48 FA 4B FC C9 E...|http://www.drperi...|2019-02-15T20:06:54Z|sha1:TETCOD7OGM66...|  3474|    94|www.drperi.com|宋志平到山东济南、烟台和青州交流调...|OA登录 人力资源系统 协同办公系...|         0|{6, 快速通道 客户 投资者 从...|\n",
      "|[EB 63 4B FA 12 D...|http://www.drperi...|2019-02-15T20:06:54Z|sha1:TETCOD7OGM66...|  3474|    94|www.drperi.com|宋志平到山东济南、烟台和青州交流调...|OA登录 人力资源系统 协同办公系...|         0|          {7, 繁體中文English}|\n",
      "|[D9 CD 41 18 90 0...|http://www.drperi...|2019-02-15T20:06:54Z|sha1:TETCOD7OGM66...|  3474|    94|www.drperi.com|宋志平到山东济南、烟台和青州交流调...|OA登录 人力资源系统 协同办公系...|         0|                 {9, 集团介绍}|\n",
      "|[7B 73 F1 36 14 E...|http://www.drperi...|2019-02-15T20:06:54Z|sha1:TETCOD7OGM66...|  3474|    94|www.drperi.com|宋志平到山东济南、烟台和青州交流调...|OA登录 人力资源系统 协同办公系...|         0|                {11, 业务平台}|\n",
      "|[23 26 D0 7F 60 C...|http://www.drperi...|2019-02-15T20:06:54Z|sha1:TETCOD7OGM66...|  3474|    94|www.drperi.com|宋志平到山东济南、烟台和青州交流调...|OA登录 人力资源系统 协同办公系...|         0|                {12, 科技创新}|\n",
      "|[7E A6 C6 39 DB E...|http://www.drperi...|2019-02-15T20:06:54Z|sha1:TETCOD7OGM66...|  3474|    94|www.drperi.com|宋志平到山东济南、烟台和青州交流调...|OA登录 人力资源系统 协同办公系...|         0|                {16, 党的建设}|\n",
      "|[46 A7 B1 2C 0F 1...|http://www.drperi...|2019-02-15T20:06:54Z|sha1:TETCOD7OGM66...|  3474|    94|www.drperi.com|宋志平到山东济南、烟台和青州交流调...|OA登录 人力资源系统 协同办公系...|         0| {18, 当前位置：首页 > 新闻...|\n",
      "|[52 C4 9C 27 0E 9...|http://www.drperi...|2019-02-15T20:06:54Z|sha1:TETCOD7OGM66...|  3474|    94|www.drperi.com|宋志平到山东济南、烟台和青州交流调...|OA登录 人力资源系统 协同办公系...|         0|                {21, 集团要闻}|\n",
      "|[93 29 72 2D 15 B...|http://www.drperi...|2019-02-15T20:06:54Z|sha1:TETCOD7OGM66...|  3474|    94|www.drperi.com|宋志平到山东济南、烟台和青州交流调...|OA登录 人力资源系统 协同办公系...|         0|                {22, 领导动态}|\n",
      "|[EC E9 0F 6D 7A 3...|http://www.drperi...|2019-02-15T20:06:54Z|sha1:TETCOD7OGM66...|  3474|    94|www.drperi.com|宋志平到山东济南、烟台和青州交流调...|OA登录 人力资源系统 协同办公系...|         0|                {26, 行业聚焦}|\n",
      "|[CA 09 82 5A 75 6...|http://www.drperi...|2019-02-15T20:06:54Z|sha1:TETCOD7OGM66...|  3474|    94|www.drperi.com|宋志平到山东济南、烟台和青州交流调...|OA登录 人力资源系统 协同办公系...|         0|                {27, 国资关注}|\n",
      "|[87 52 74 4C F5 3...|http://www.drperi...|2019-02-15T20:06:54Z|sha1:TETCOD7OGM66...|  3474|    94|www.drperi.com|宋志平到山东济南、烟台和青州交流调...|OA登录 人力资源系统 协同办公系...|         0|                {28, 专题栏目}|\n",
      "|[75 0B 33 A4 8B 0...|http://www.drperi...|2019-02-15T20:06:54Z|sha1:TETCOD7OGM66...|  3474|    94|www.drperi.com|宋志平到山东济南、烟台和青州交流调...|OA登录 人力资源系统 协同办公系...|         0|                {29, 视频专区}|\n",
      "|[A1 13 DB 73 38 9...|http://www.drperi...|2019-02-15T20:06:54Z|sha1:TETCOD7OGM66...|  3474|    94|www.drperi.com|宋志平到山东济南、烟台和青州交流调...|OA登录 人力资源系统 协同办公系...|         0|                {30, 专题专栏}|\n",
      "+--------------------+--------------------+--------------------+--------------------+------+------+--------------+-------------------------------------+---------------------------------+----------+------------------------------+\n",
      "only showing top 20 rows\n",
      "\n"
     ]
    }
   ],
   "source": [
    "deduplicated_df.show()"
   ]
  },
  {
   "cell_type": "code",
   "execution_count": 4,
   "id": "0c76d1e5-48e4-44bd-b015-c7f66d39277f",
   "metadata": {},
   "outputs": [],
   "source": [
    "group_df = deduplicated_df.groupBy(\"digest\").agg(\n",
    "    F.first(\"url\").alias(\"url\"),\n",
    "    F.first(\"date_download\").alias(\"date_download\"),\n",
    "    F.first(\"source_domain\").alias(\"source_domain\"),\n",
    "    F.first(\"cc_segment\").alias(\"cc_segment\"),\n",
    "    F.first(\"length\").alias(\"original_length\"),\n",
    "    F.first(\"nlines\").alias(\"original_nlines\"),\n",
    "    F.first(\"title\").alias(\"title\"),\n",
    "    F.count(\"exploded_content.raw_line_id\").alias(\"nlines\"),\n",
    "    F.sort_array(F.collect_list(\"exploded_content\")).alias(\"exploded_content\")\n",
    ")\n",
    "group_df = group_df.withColumn(\"raw_content\", F.concat_ws(\"\\n\", \"exploded_content.raw_line\")) \n",
    "group_df = group_df.withColumn(\"raw_line_id\", group_df.exploded_content.raw_line_id) \n",
    "group_df = group_df.withColumn(\"length\", F.length(\"raw_content\")).drop(\"exploded_content\")"
   ]
  },
  {
   "cell_type": "code",
   "execution_count": 5,
   "id": "762eaae8-2808-428a-9ee5-ea0ff9fe255b",
   "metadata": {},
   "outputs": [],
   "source": [
    "lang_df = group_df.withColumn(\"lang_score\", predictLang(\"raw_content\"))\n",
    "lang_df = lang_df.withColumn(\"lang\", lang_df.lang_score.lang) \\\n",
    "                         .withColumn(\"score\", lang_df.lang_score.score) \\\n",
    "                         .drop(\"lang_score\")\n",
    "lm_df = lang_df.withColumn(\"tokenized\", doSentencePiece(\"raw_content\",\"lang\"))\n",
    "doclm_df = lm_df.withColumn(\"perplexity\", doDocLM(\"tokenized\",\"lang\"))\n",
    "bucket_df = doclm_df.withColumn(\"bucket\", doPPBucket(\"perplexity\",\"lang\"))\n",
    "drop_df = bucket_df.drop(\"tokenized\")"
   ]
  },
  {
   "cell_type": "code",
   "execution_count": 6,
   "id": "4be083ca-6921-4b4f-b410-c3202be814e9",
   "metadata": {},
   "outputs": [
    {
     "name": "stderr",
     "output_type": "stream",
     "text": [
      "Warning : `load_model` does not return WordVectorModel or SupervisedModel any more, but a `FastText` object which is very similar.\n",
      "Warning : `load_model` does not return WordVectorModel or SupervisedModel any more, but a `FastText` object which is very similar.\n",
      "Warning : `load_model` does not return WordVectorModel or SupervisedModel any more, but a `FastText` object which is very similar.\n",
      "Warning : `load_model` does not return WordVectorModel or SupervisedModel any more, but a `FastText` object which is very similar.\n",
      "Warning : `load_model` does not return WordVectorModel or SupervisedModel any more, but a `FastText` object which is very similar.\n",
      "Warning : `load_model` does not return WordVectorModel or SupervisedModel any more, but a `FastText` object which is very similar.\n",
      "Warning : `load_model` does not return WordVectorModel or SupervisedModel any more, but a `FastText` object which is very similar.\n",
      "Warning : `load_model` does not return WordVectorModel or SupervisedModel any more, but a `FastText` object which is very similar.\n",
      "Warning : `load_model` does not return WordVectorModel or SupervisedModel any more, but a `FastText` object which is very similar.\n",
      "Warning : `load_model` does not return WordVectorModel or SupervisedModel any more, but a `FastText` object which is very similar.\n",
      "Warning : `load_model` does not return WordVectorModel or SupervisedModel any more, but a `FastText` object which is very similar.\n",
      "Warning : `load_model` does not return WordVectorModel or SupervisedModel any more, but a `FastText` object which is very similar.\n",
      "                                                                                \r"
     ]
    }
   ],
   "source": [
    "save_partation(drop_df,cache_folder,date,isSample,sampleRate,min_len)"
   ]
  },
  {
   "cell_type": "code",
   "execution_count": 7,
   "id": "8117ccf3-6fd0-44bd-a183-4b7fc975ff56",
   "metadata": {},
   "outputs": [],
   "source": [
    "selected_bucket=\"head\"\n",
    "selected_lang=\"en\"\n",
    "df_en_head=load_partation(spark,selected_lang,selected_bucket,cache_folder,date,isSample,sampleRate,min_len)"
   ]
  },
  {
   "cell_type": "code",
   "execution_count": 9,
   "id": "6c0e8921-fb3e-4477-aac6-1526a2efcd7d",
   "metadata": {},
   "outputs": [
    {
     "name": "stdout",
     "output_type": "stream",
     "text": [
      "+--------------------+--------------------+--------------------+--------------------+----------+---------------+---------------+--------------------+------+--------------------+--------------------+------+-----+----------+\n",
      "|              digest|                 url|       date_download|       source_domain|cc_segment|original_length|original_nlines|               title|nlines|         raw_content|         raw_line_id|length|score|perplexity|\n",
      "+--------------------+--------------------+--------------------+--------------------+----------+---------------+---------------+--------------------+------+--------------------+--------------------+------+-----+----------+\n",
      "|sha1:6G2HUH7IWO3Z...|https://www.filmf...|2019-02-15T18:56:31Z| www.filmfestival.be|         5|           2987|             73|Archived: Black j...|    44|8 > 18 Oct 2019\\n...|[0, 1, 5, 6, 12, ...|  2658| 0.66|      89.4|\n",
      "|sha1:7WDMW36WBB53...|https://phiquyenc...|2019-02-15T19:46:35Z|   phiquyenchinh.org|         1|          18282|            208|Manufacturing Tru...|   104|Phi Quyền Chính -...|[3, 4, 5, 6, 7, 9...| 16135| 0.93|     281.2|\n",
      "|sha1:CE5AZ76ONHUI...|http://icetulip.c...|2019-02-15T20:19:21Z|        icetulip.com|         8|         377358|           3459|Baby pope has no ...|  3340|Client Services\\n...|[3, 6, 7, 11, 13,...|376034| 0.54|     225.5|\n",
      "|sha1:F5DAXLSEWM4I...|http://www.djvinc...|2019-02-15T18:50:21Z|      www.djvinc.com|         7|           1970|             32|John A. Ververell...|    19|Home / Our Team /...|[8, 9, 11, 12, 13...|  1820| 0.93|     333.7|\n",
      "|sha1:P67A6Z5QERM6...|https://mybeachge...|2019-02-15T18:57:45Z| mybeachgetaways.com|         2|           3069|             76|Phoenix V Unit 14...|    43|Orange Beach\\nGul...|[7, 8, 9, 12, 17,...|  2701| 0.68|     199.5|\n",
      "|sha1:UAULXJMVIGZS...|https://brightkit...|2019-02-15T19:02:31Z|      brightkite.com|         9|          11120|            101|Macbeth's Downfal...|    92|This website uses...|[0, 6, 7, 9, 10, ...| 10923| 0.94|     317.2|\n",
      "|sha1:YMYG7TQXFESH...|https://arousingg...|2019-02-15T18:43:47Z| arousinggrammar.com|         6|          13730|            131|Civil War: Mr. Fa...|    44|← Civil War: Mr. ...|[2, 3, 4, 5, 6, 7...| 11391| 0.97|     335.6|\n",
      "|sha1:5HSVMAT23EUQ...|http://www.news-r...|2019-02-15T18:53:40Z|www.news-ridgecre...|         6|            745|             14|                Home|     5|China Lake\\nPolic...|  [6, 7, 10, 11, 12]|   647| 0.96|     335.2|\n",
      "|sha1:6U5NW7I4AKXM...|http://tatteredan...|2019-02-15T20:12:33Z|tatteredandlostep...|         9|          30347|            292|Tattered and Lost...|   148|CHRISTMESS GIFT I...|[2, 3, 4, 5, 6, 7...| 27630| 0.96|     306.3|\n",
      "|sha1:VMZ4LPIJ5SYP...|https://ppmforums...|2019-02-15T18:44:48Z|       ppmforums.com|         9|          24154|            192|Project Perfect M...|   143|:: Home :: Get Ho...|[0, 1, 2, 3, 5, 1...| 23599| 0.69|     189.9|\n",
      "|sha1:OHZB3UACHA4U...|http://www.georgi...|2019-02-15T18:34:52Z|www.georgiaonsite...|         7|          12997|            109|Terms and conditi...|    55|Call us now: 678-...|[2, 7, 18, 19, 20...| 12108| 0.84|     323.4|\n",
      "|sha1:UTPLCD4QWJVH...|https://medicine....|2019-02-15T20:24:38Z|  medicine.uiowa.edu|         5|           3109|             35|Drs. Jiang and Zh...|    18|Carver College of...|[2, 11, 12, 13, 1...|  2892| 0.94|     252.2|\n",
      "|sha1:W3H3222CB2GT...|https://cinefeely...|2019-02-15T19:22:55Z|    cinefeelyeah.net|         4|          31347|            282|James Le Gros | C...|   167|CINE FEEL YEAH\\ns...|[1, 2, 5, 6, 7, 8...| 29547| 0.95|     301.9|\n",
      "|sha1:2FKRQ6RUSEJV...|http://fatherwool...|2019-02-15T19:24:27Z|   fatherwoolley.com|         3|          24958|            241|Most recently pre...|   149|fatherwoolley.com...|[0, 1, 2, 4, 5, 7...| 23717| 0.96|     321.6|\n",
      "|sha1:2WFXNYC4YNJL...|https://www.afric...|2019-02-15T18:39:20Z|www.africanameric...|         0|           5560|             34|17th Century — Af...|    28|African American ...|[0, 3, 4, 5, 6, 8...|  5497| 0.95|     220.1|\n",
      "|sha1:ZKCR6ECOB7PX...|https://www.eastb...|2019-02-15T19:34:14Z|www.eastbournesli...|         8|          13063|            107|esladmin – Eastbo...|    76|Eastbourne Sling ...|[1, 2, 7, 8, 9, 1...| 12675| 0.95|     297.9|\n",
      "|sha1:7K4TIX6A3K3L...|https://www.waiko...|2019-02-15T20:09:42Z|  www.waikoloacc.org|         7|            568|             36|Events - Waikoloa...|     6|Sunday Worship Op...|[18, 19, 20, 21, ...|   317|  0.7|      78.6|\n",
      "|sha1:BO7H4VQQG2JQ...|https://www.killc...|2019-02-15T18:51:49Z|  www.killcastro.com|         0|           5171|             34|Military Figures ...|    26|Military Issue\\nH...|[2, 3, 4, 5, 6, 7...|  5066| 0.97|     288.5|\n",
      "|sha1:OZWWPLVDYIGZ...|http://gregmankiw...|2019-02-15T19:02:36Z|gregmankiw.blogsp...|         6|          18547|            258|Greg Mankiw's Blo...|    94|Greg Mankiw's Blo...|[0, 1, 2, 3, 4, 5...| 16510| 0.97|     321.0|\n",
      "|sha1:RWHVDHLBXHQS...|https://www.newsa...|2019-02-15T20:06:23Z|   www.newsarama.com|         8|           9737|             86|Examining Trauma ...|    59|Film&TV\\nCountdow...|[3, 5, 11, 13, 14...|  9375| 0.96|     310.4|\n",
      "+--------------------+--------------------+--------------------+--------------------+----------+---------------+---------------+--------------------+------+--------------------+--------------------+------+-----+----------+\n",
      "only showing top 20 rows\n",
      "\n"
     ]
    }
   ],
   "source": [
    "df_en_head.show()"
   ]
  },
  {
   "cell_type": "code",
   "execution_count": 8,
   "id": "bc078fed-6833-485d-87a1-1a7219288e82",
   "metadata": {},
   "outputs": [
    {
     "name": "stdout",
     "output_type": "stream",
     "text": [
      "+--------------------+--------------------+----------+------+----------+\n",
      "|                 url|         raw_content|perplexity|length|cc_segment|\n",
      "+--------------------+--------------------+----------+------+----------+\n",
      "|https://www.filmf...|8 > 18 Oct 2019\\n...|      89.4|  2658|         5|\n",
      "|https://phiquyenc...|Phi Quyền Chính -...|     281.2| 16135|         1|\n",
      "|http://icetulip.c...|Client Services\\n...|     225.5|376034|         8|\n",
      "|http://www.djvinc...|Home / Our Team /...|     333.7|  1820|         7|\n",
      "|https://mybeachge...|Orange Beach\\nGul...|     199.5|  2701|         2|\n",
      "|https://brightkit...|This website uses...|     317.2| 10923|         9|\n",
      "|https://arousingg...|← Civil War: Mr. ...|     335.6| 11391|         6|\n",
      "|http://www.news-r...|China Lake\\nPolic...|     335.2|   647|         6|\n",
      "|http://tatteredan...|CHRISTMESS GIFT I...|     306.3| 27630|         9|\n",
      "|https://ppmforums...|:: Home :: Get Ho...|     189.9| 23599|         9|\n",
      "|http://www.georgi...|Call us now: 678-...|     323.4| 12108|         7|\n",
      "|https://medicine....|Carver College of...|     252.2|  2892|         5|\n",
      "|https://cinefeely...|CINE FEEL YEAH\\ns...|     301.9| 29547|         4|\n",
      "|http://fatherwool...|fatherwoolley.com...|     321.6| 23717|         3|\n",
      "|https://www.afric...|African American ...|     220.1|  5497|         0|\n",
      "|https://www.eastb...|Eastbourne Sling ...|     297.9| 12675|         8|\n",
      "|https://www.waiko...|Sunday Worship Op...|      78.6|   317|         7|\n",
      "|https://www.killc...|Military Issue\\nH...|     288.5|  5066|         0|\n",
      "|http://gregmankiw...|Greg Mankiw's Blo...|     321.0| 16510|         6|\n",
      "|https://www.newsa...|Film&TV\\nCountdow...|     310.4|  9375|         8|\n",
      "+--------------------+--------------------+----------+------+----------+\n",
      "only showing top 20 rows\n",
      "\n",
      "49\n"
     ]
    }
   ],
   "source": [
    "df_en_head.select(\"url\",\"raw_content\",\"perplexity\",\"length\",\"cc_segment\").show()\n",
    "print(df_en_head.count())"
   ]
  },
  {
   "cell_type": "code",
   "execution_count": null,
   "id": "819a913b-c55a-4112-a5e0-f1a0c87cbcd3",
   "metadata": {},
   "outputs": [],
   "source": []
  },
  {
   "cell_type": "code",
   "execution_count": null,
   "id": "cfab746d-ee94-4a3d-a3f1-4df5103f589e",
   "metadata": {},
   "outputs": [],
   "source": []
  },
  {
   "cell_type": "code",
   "execution_count": null,
   "id": "5aaea937-a756-49c5-9579-e13097b5a771",
   "metadata": {},
   "outputs": [],
   "source": []
  }
 ],
 "metadata": {
  "kernelspec": {
   "display_name": "Python 3 (ipykernel)",
   "language": "python",
   "name": "python3"
  },
  "language_info": {
   "codemirror_mode": {
    "name": "ipython",
    "version": 3
   },
   "file_extension": ".py",
   "mimetype": "text/x-python",
   "name": "python",
   "nbconvert_exporter": "python",
   "pygments_lexer": "ipython3",
   "version": "3.9.19"
  }
 },
 "nbformat": 4,
 "nbformat_minor": 5
}

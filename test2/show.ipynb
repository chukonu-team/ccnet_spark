{
 "cells": [
  {
   "cell_type": "code",
   "execution_count": 12,
   "id": "091b16bd-85a2-4a3a-b9d8-a9c787499581",
   "metadata": {},
   "outputs": [
    {
     "name": "stderr",
     "output_type": "stream",
     "text": [
      "24/04/11 09:34:31 WARN DataSource: All paths were ignored:\n",
      "  file:/root/wxl_folder/cached_data/sdf_parquet/2019-18/_sampleRate_1_segment_0_min_len_300.parquet\n",
      "2024-04-11 09:34 INFO 1860083:root - load segment 0, with sampleRate:1.0%,min_len:300,with date:2019-18\n"
     ]
    }
   ],
   "source": [
    "from ccnet_spark.pipe_line import Pipeline, Config\n",
    "import time\n",
    "from pyspark.sql import SparkSession\n",
    "import sys\n",
    "\n",
    "pipeline=[\n",
    "    \"real_len\",\n",
    "    \"hash\",\n",
    "    \"dedup_keep\",\n",
    "    \"lid\",\n",
    "    \"sp\",\n",
    "    \"lm\",\n",
    "    \"pp_bucket\",\n",
    "    \"drop\",\n",
    "]\n",
    "\n",
    "spark = (\n",
    "    SparkSession.builder.appName(\"CCNETSpark_ONLY\")\n",
    "    # .master(\"local[*]\")\n",
    "    .config(\"spark.executor.memory\", \"100g\")\n",
    "    .config(\"spark.driver.memory\", \"100g\")\n",
    "    .config(\"spark.driver.maxResultSize\", \"100g\")\n",
    "    .config(\"spark.sql.execution.arrow.pyspark.enabled\", \"true\")\n",
    "    # .config(\"spark.executor.extraJavaOptions\", \"-XX:+PrintGCDetails -XX:+PrintGCDateStamps -XX:+PrintGCTimeStamps\")\n",
    "    # .config(\"spark.driver.extraJavaOptions\", \"-XX:+PrintGCDetails -XX:+PrintGCDateStamps -XX:+PrintGCTimeStamps\")\n",
    "    .getOrCreate()\n",
    ")\n",
    "config = Config(\n",
    "        isSample=True,\n",
    "        n_segments=1,\n",
    "        sampleRate=0.01,\n",
    "        cache_dir=\"../../cached_data/\",\n",
    "        output_dir=\"../../cached_data/\",\n",
    "        fasttext_model_path=\"../../cc_net/bin/lid.bin\",\n",
    "        lm_dir=\"../../cc_net/data/lm_sp\",\n",
    "        cutoff_csv_path=\"../../cc_net/cc_net/data/cutoff.csv\",\n",
    "        dump=\"2019-18\",\n",
    "        pipeline=pipeline,\n",
    "    )\n",
    "pipeline = Pipeline(config,spark)\n",
    "df = pipeline.load_data()"
   ]
  },
  {
   "cell_type": "code",
   "execution_count": 13,
   "id": "17d4eda1-0aa2-4ed5-ab1f-19a56d4c5b1a",
   "metadata": {},
   "outputs": [
    {
     "name": "stdout",
     "output_type": "stream",
     "text": [
      "['url', 'date_download', 'digest', 'length', 'nlines', 'source_domain', 'title', 'raw_content', 'cc_segment']\n",
      "+--------------------+------+------+--------------------------------+--------------------+\n",
      "|                 url|length|nlines|                     raw_content|          cc_segment|\n",
      "+--------------------+------+------+--------------------------------+--------------------+\n",
      "|http://rgdv.com.c...|  2286|    63|  更多\\n更多\\n全站搜索\\n更多\\...|CC-MAIN-201904181...|\n",
      "|https://www.place...|  4964|   141|            Explore\\nLife\\nFo...|CC-MAIN-201904181...|\n",
      "|http://voidslave....|369505|  7353|            sample lunch and ...|CC-MAIN-201904181...|\n",
      "|https://inaba-afi...| 14478|   260|年中行事\\nこどもの日\\n母の日\\...|CC-MAIN-201904181...|\n",
      "|https://www.wamp....|  1694|    41|            Skip to main cont...|CC-MAIN-201904181...|\n",
      "+--------------------+------+------+--------------------------------+--------------------+\n",
      "only showing top 5 rows\n",
      "\n"
     ]
    }
   ],
   "source": [
    "print(df.columns)\n",
    "df.select(\"url\",\"length\",\"nlines\",\"raw_content\",\"cc_segment\").show(5)"
   ]
  },
  {
   "cell_type": "code",
   "execution_count": 14,
   "id": "ac4ca282-efb6-4fae-bab8-772426ec4c81",
   "metadata": {},
   "outputs": [
    {
     "name": "stdout",
     "output_type": "stream",
     "text": [
      "['url', 'date_download', 'digest', 'length', 'nlines', 'source_domain', 'title', 'raw_content', 'cc_segment']\n",
      "+--------------------+------+------+--------------------------------+--------------------+\n",
      "|                 url|length|nlines|                     raw_content|          cc_segment|\n",
      "+--------------------+------+------+--------------------------------+--------------------+\n",
      "|http://rgdv.com.c...|  1054|    63|  更多\\n更多\\n全站搜索\\n更多\\...|CC-MAIN-201904181...|\n",
      "|https://www.place...|  4898|   141|            Explore\\nLife\\nFo...|CC-MAIN-201904181...|\n",
      "|http://voidslave....|369489|  7353|            sample lunch and ...|CC-MAIN-201904181...|\n",
      "|https://inaba-afi...|  5299|   260|年中行事\\nこどもの日\\n母の日\\...|CC-MAIN-201904181...|\n",
      "|https://www.wamp....|  1672|    41|            Skip to main cont...|CC-MAIN-201904181...|\n",
      "+--------------------+------+------+--------------------------------+--------------------+\n",
      "only showing top 5 rows\n",
      "\n"
     ]
    }
   ],
   "source": [
    "pipeline.run_step(\"real_len\")\n",
    "print(pipeline.df.columns)\n",
    "pipeline.df.select(\"url\",\"length\",\"nlines\",\"raw_content\",\"cc_segment\").show(5)"
   ]
  },
  {
   "cell_type": "code",
   "execution_count": 15,
   "id": "837c81dd-426a-432c-a450-38623d92f924",
   "metadata": {},
   "outputs": [
    {
     "name": "stdout",
     "output_type": "stream",
     "text": [
      "['url', 'date_download', 'digest', 'length', 'nlines', 'source_domain', 'title', 'raw_content', 'cc_segment', 'exploded_content', 'hash_value']\n",
      "+--------------------+------+------+------------------------------+--------------------+----------------+--------------------+\n",
      "|                 url|length|nlines|                   raw_content|          cc_segment|exploded_content|          hash_value|\n",
      "+--------------------+------+------+------------------------------+--------------------+----------------+--------------------+\n",
      "|http://rgdv.com.c...|  1054|    63|更多\\n更多\\n全站搜索\\n更多\\...|CC-MAIN-201904181...|       {0, 更多}|[9B 0C 6C 78 58 B...|\n",
      "|http://rgdv.com.c...|  1054|    63|更多\\n更多\\n全站搜索\\n更多\\...|CC-MAIN-201904181...|       {1, 更多}|[9B 0C 6C 78 58 B...|\n",
      "|http://rgdv.com.c...|  1054|    63|更多\\n更多\\n全站搜索\\n更多\\...|CC-MAIN-201904181...|   {2, 全站搜索}|[97 B8 03 99 98 C...|\n",
      "|http://rgdv.com.c...|  1054|    63|更多\\n更多\\n全站搜索\\n更多\\...|CC-MAIN-201904181...|       {3, 更多}|[9B 0C 6C 78 58 B...|\n",
      "|http://rgdv.com.c...|  1054|    63|更多\\n更多\\n全站搜索\\n更多\\...|CC-MAIN-201904181...|       {4, 更多}|[9B 0C 6C 78 58 B...|\n",
      "+--------------------+------+------+------------------------------+--------------------+----------------+--------------------+\n",
      "only showing top 5 rows\n",
      "\n"
     ]
    }
   ],
   "source": [
    "pipeline.run_step(\"hash\")\n",
    "print(pipeline.df.columns)\n",
    "pipeline.df.select(\"url\",\"length\",\"nlines\",\"raw_content\",\"cc_segment\",'exploded_content', 'hash_value').show(5)"
   ]
  },
  {
   "cell_type": "code",
   "execution_count": 16,
   "id": "daf52b67-73cc-4837-a296-b7ca8583abe6",
   "metadata": {},
   "outputs": [
    {
     "name": "stdout",
     "output_type": "stream",
     "text": [
      "['digest', 'url', 'date_download', 'source_domain', 'cc_segment', 'original_length', 'original_nlines', 'title', 'nlines', 'raw_content', 'raw_line_id', 'length']\n"
     ]
    },
    {
     "name": "stderr",
     "output_type": "stream",
     "text": [
      "[Stage 12:>                                                       (0 + 16) / 16]\r"
     ]
    },
    {
     "name": "stdout",
     "output_type": "stream",
     "text": [
      "+--------------------+------+------+--------------------+--------------------+--------------------+---------------+---------------+\n",
      "|                 url|length|nlines|         raw_content|          cc_segment|         raw_line_id|original_length|original_nlines|\n",
      "+--------------------+------+------+--------------------+--------------------+--------------------+---------------+---------------+\n",
      "|http://ecrack1.ui...| 42384|    64|Ring ring\\n1234 6...|CC-MAIN-201904181...|[0, 1, 2, 3, 4, 5...|          44461|            108|\n",
      "|https://romankhon...|  2943|   124|رفتن به مطلب\\nفرو...|CC-MAIN-201904181...|[0, 1, 2, 3, 4, 5...|           3655|            189|\n",
      "|https://www.obesi...|  1597|    71|Navigation\\nBaria...|CC-MAIN-201904181...|[0, 1, 2, 3, 4, 5...|           3519|            185|\n",
      "|http://publicrepo...|  7398|    72|Reports on Long-T...|CC-MAIN-201904181...|[0, 4, 6, 7, 8, 9...|           7742|             96|\n",
      "|http://www.e-isla...|  4531|    38|e-Ислам\\nНовостно...|CC-MAIN-201904181...|[0, 1, 2, 3, 5, 6...|           4753|             54|\n",
      "+--------------------+------+------+--------------------+--------------------+--------------------+---------------+---------------+\n",
      "only showing top 5 rows\n",
      "\n"
     ]
    },
    {
     "name": "stderr",
     "output_type": "stream",
     "text": [
      "                                                                                \r"
     ]
    }
   ],
   "source": [
    "pipeline.run_step(\"dedup_keep\")\n",
    "print(pipeline.df.columns)\n",
    "pipeline.df.select(\"url\",\"length\",\"nlines\",\"raw_content\",\"cc_segment\",'raw_line_id','original_length','original_nlines').show(5)"
   ]
  },
  {
   "cell_type": "code",
   "execution_count": 20,
   "id": "93d94d63-a5f9-4dfe-9aa8-966dc19b9e63",
   "metadata": {},
   "outputs": [
    {
     "name": "stdout",
     "output_type": "stream",
     "text": [
      "['digest', 'url', 'date_download', 'source_domain', 'cc_segment', 'original_length', 'original_nlines', 'title', 'nlines', 'raw_content', 'raw_line_id', 'length', 'lang', 'score']\n",
      "+--------------------+------+------+--------------------+--------------------+---------------+---------------+----+-----+\n",
      "|                 url|length|nlines|         raw_content|         raw_line_id|original_length|original_nlines|lang|score|\n",
      "+--------------------+------+------+--------------------+--------------------+---------------+---------------+----+-----+\n",
      "|http://ecrack1.ui...| 42384|    64|Ring ring\\n1234 6...|[0, 1, 2, 3, 4, 5...|          44461|            108|null| null|\n",
      "|https://romankhon...|  2943|   124|رفتن به مطلب\\nفرو...|[0, 1, 2, 3, 4, 5...|           3655|            189|  fa| 0.99|\n",
      "|https://www.obesi...|  1597|    71|Navigation\\nBaria...|[0, 1, 2, 3, 4, 5...|           3519|            185|  en|  0.7|\n",
      "|http://publicrepo...|  7398|    72|Reports on Long-T...|[0, 4, 6, 7, 8, 9...|           7742|             96|  en| 0.93|\n",
      "|http://www.e-isla...|  4531|    38|e-Ислам\\nНовостно...|[0, 1, 2, 3, 5, 6...|           4753|             54|  ru| 0.99|\n",
      "+--------------------+------+------+--------------------+--------------------+---------------+---------------+----+-----+\n",
      "only showing top 5 rows\n",
      "\n"
     ]
    },
    {
     "name": "stderr",
     "output_type": "stream",
     "text": [
      "Warning : `load_model` does not return WordVectorModel or SupervisedModel any more, but a `FastText` object which is very similar.\n"
     ]
    }
   ],
   "source": [
    "pipeline.run_step(\"lid\")\n",
    "print(pipeline.df.columns)\n",
    "pipeline.df.select(\"url\",\"length\",\"nlines\",\"raw_content\",'raw_line_id','original_length','original_nlines','lang','score').show(5)"
   ]
  },
  {
   "cell_type": "code",
   "execution_count": 22,
   "id": "c21cddb4-4fb5-49c9-b70b-643baef40af8",
   "metadata": {},
   "outputs": [
    {
     "name": "stdout",
     "output_type": "stream",
     "text": [
      "['digest', 'url', 'date_download', 'source_domain', 'cc_segment', 'original_length', 'original_nlines', 'title', 'nlines', 'raw_content', 'raw_line_id', 'length', 'lang', 'score', 'tokenized']\n"
     ]
    },
    {
     "name": "stderr",
     "output_type": "stream",
     "text": [
      "Warning : `load_model` does not return WordVectorModel or SupervisedModel any more, but a `FastText` object which is very similar.\n"
     ]
    },
    {
     "name": "stdout",
     "output_type": "stream",
     "text": [
      "+--------------------+------+------+--------------------+--------------------+----+-----+--------------------+\n",
      "|                 url|length|nlines|         raw_content|         raw_line_id|lang|score|           tokenized|\n",
      "+--------------------+------+------+--------------------+--------------------+----+-----+--------------------+\n",
      "|http://ecrack1.ui...| 42384|    64|Ring ring\\n1234 6...|[0, 1, 2, 3, 4, 5...|null| null|                null|\n",
      "|https://romankhon...|  2943|   124|رفتن به مطلب\\nفرو...|[0, 1, 2, 3, 4, 5...|  fa| 0.99|▁رفتن ▁به ▁مطلب ف...|\n",
      "|https://www.obesi...|  1597|    71|Navigation\\nBaria...|[0, 1, 2, 3, 4, 5...|  en|  0.7|▁navigation bari ...|\n",
      "|http://publicrepo...|  7398|    72|Reports on Long-T...|[0, 4, 6, 7, 8, 9...|  en| 0.93|▁reports ▁on ▁lon...|\n",
      "|http://www.e-isla...|  4531|    38|e-Ислам\\nНовостно...|[0, 1, 2, 3, 5, 6...|  ru| 0.99|▁e - ислам ново с...|\n",
      "+--------------------+------+------+--------------------+--------------------+----+-----+--------------------+\n",
      "only showing top 5 rows\n",
      "\n"
     ]
    }
   ],
   "source": [
    "pipeline.run_step(\"sp\")\n",
    "print(pipeline.df.columns)\n",
    "pipeline.df.select(\"url\",\"length\",\"nlines\",\"raw_content\",'raw_line_id','lang','score','tokenized').show(5)"
   ]
  },
  {
   "cell_type": "code",
   "execution_count": 25,
   "id": "586695d9-e5d7-488f-82d6-585db7ccc63b",
   "metadata": {},
   "outputs": [
    {
     "name": "stdout",
     "output_type": "stream",
     "text": [
      "['digest', 'url', 'date_download', 'source_domain', 'cc_segment', 'original_length', 'original_nlines', 'title', 'nlines', 'raw_content', 'raw_line_id', 'length', 'lang', 'score', 'tokenized', 'perplexity']\n"
     ]
    },
    {
     "name": "stderr",
     "output_type": "stream",
     "text": [
      "Warning : `load_model` does not return WordVectorModel or SupervisedModel any more, but a `FastText` object which is very similar.\n",
      "[Stage 59:>                                                         (0 + 1) / 1]\r"
     ]
    },
    {
     "name": "stdout",
     "output_type": "stream",
     "text": [
      "+--------------------+------+------+--------------------+--------------------+----+-----+----------+\n",
      "|                 url|length|nlines|         raw_content|         raw_line_id|lang|score|perplexity|\n",
      "+--------------------+------+------+--------------------+--------------------+----+-----+----------+\n",
      "|http://ecrack1.ui...| 42384|    64|Ring ring\\n1234 6...|[0, 1, 2, 3, 4, 5...|null| null|      null|\n",
      "|https://romankhon...|  2943|   124|رفتن به مطلب\\nفرو...|[0, 1, 2, 3, 4, 5...|  fa| 0.99|    2919.3|\n",
      "|https://www.obesi...|  1597|    71|Navigation\\nBaria...|[0, 1, 2, 3, 4, 5...|  en|  0.7|    4605.3|\n",
      "|http://publicrepo...|  7398|    72|Reports on Long-T...|[0, 4, 6, 7, 8, 9...|  en| 0.93|     313.1|\n",
      "|http://www.e-isla...|  4531|    38|e-Ислам\\nНовостно...|[0, 1, 2, 3, 5, 6...|  ru| 0.99|     166.6|\n",
      "+--------------------+------+------+--------------------+--------------------+----+-----+----------+\n",
      "only showing top 5 rows\n",
      "\n"
     ]
    },
    {
     "name": "stderr",
     "output_type": "stream",
     "text": [
      "                                                                                \r"
     ]
    }
   ],
   "source": [
    "pipeline.run_step(\"lm\")\n",
    "print(pipeline.df.columns)\n",
    "pipeline.df.select(\"url\",\"length\",\"nlines\",\"raw_content\",'raw_line_id','lang','score','perplexity').show(5)"
   ]
  },
  {
   "cell_type": "code",
   "execution_count": 28,
   "id": "31c8eadd-978e-4146-8a4e-4055b5096426",
   "metadata": {},
   "outputs": [
    {
     "name": "stdout",
     "output_type": "stream",
     "text": [
      "['digest', 'url', 'date_download', 'source_domain', 'cc_segment', 'original_length', 'original_nlines', 'title', 'nlines', 'raw_content', 'raw_line_id', 'length', 'lang', 'score', 'tokenized', 'perplexity', 'bucket']\n"
     ]
    },
    {
     "name": "stderr",
     "output_type": "stream",
     "text": [
      "Warning : `load_model` does not return WordVectorModel or SupervisedModel any more, but a `FastText` object which is very similar.\n",
      "[Stage 65:>                                                         (0 + 1) / 1]\r"
     ]
    },
    {
     "name": "stdout",
     "output_type": "stream",
     "text": [
      "+--------------------+------+------+--------------------+----+-----+----------+------+\n",
      "|                 url|length|nlines|         raw_content|lang|score|perplexity|bucket|\n",
      "+--------------------+------+------+--------------------+----+-----+----------+------+\n",
      "|http://ecrack1.ui...| 42384|    64|Ring ring\\n1234 6...|null| null|      null|   all|\n",
      "|https://romankhon...|  2943|   124|رفتن به مطلب\\nفرو...|  fa| 0.99|    2919.3|  tail|\n",
      "|https://www.obesi...|  1597|    71|Navigation\\nBaria...|  en|  0.7|    4605.3|  tail|\n",
      "|http://publicrepo...|  7398|    72|Reports on Long-T...|  en| 0.93|     313.1|  head|\n",
      "|http://www.e-isla...|  4531|    38|e-Ислам\\nНовостно...|  ru| 0.99|     166.6|  head|\n",
      "+--------------------+------+------+--------------------+----+-----+----------+------+\n",
      "only showing top 5 rows\n",
      "\n"
     ]
    },
    {
     "name": "stderr",
     "output_type": "stream",
     "text": [
      "                                                                                \r"
     ]
    }
   ],
   "source": [
    "pipeline.run_step(\"pp_bucket\")\n",
    "print(pipeline.df.columns)\n",
    "pipeline.df.select(\"url\",\"length\",\"nlines\",\"raw_content\",'lang','score','perplexity','bucket').show(5)"
   ]
  },
  {
   "cell_type": "code",
   "execution_count": 29,
   "id": "1472ab00-59dd-4371-9ca6-3e2f6a18ecc5",
   "metadata": {},
   "outputs": [
    {
     "name": "stdout",
     "output_type": "stream",
     "text": [
      "['digest', 'url', 'date_download', 'source_domain', 'cc_segment', 'original_length', 'original_nlines', 'title', 'nlines', 'raw_content', 'raw_line_id', 'length', 'lang', 'score', 'perplexity', 'bucket']\n"
     ]
    }
   ],
   "source": [
    "pipeline.run_step(\"drop\")\n",
    "print(pipeline.df.columns)"
   ]
  },
  {
   "cell_type": "code",
   "execution_count": null,
   "id": "d9655369-55b0-4fc4-b2fc-2ecd3b39ffa4",
   "metadata": {},
   "outputs": [],
   "source": []
  }
 ],
 "metadata": {
  "kernelspec": {
   "display_name": "Python 3 (ipykernel)",
   "language": "python",
   "name": "python3"
  },
  "language_info": {
   "codemirror_mode": {
    "name": "ipython",
    "version": 3
   },
   "file_extension": ".py",
   "mimetype": "text/x-python",
   "name": "python",
   "nbconvert_exporter": "python",
   "pygments_lexer": "ipython3",
   "version": "3.9.19"
  }
 },
 "nbformat": 4,
 "nbformat_minor": 5
}

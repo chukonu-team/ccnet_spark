{
 "cells": [
  {
   "cell_type": "code",
   "execution_count": 1,
   "id": "ff0e51b9-01db-42a9-ae2b-8659aaed1e67",
   "metadata": {},
   "outputs": [
    {
     "name": "stderr",
     "output_type": "stream",
     "text": [
      "24/04/12 13:47:48 WARN DataSource: All paths were ignored:\n",
      "  file:/root/wxl_folder/cached_data/sdf_parquet/2019-18/_sampleRate_1_segment_0_min_len_300.parquet\n",
      "2024-04-12 13:47 INFO 2070853:root - load segment 0, with sampleRate:1.0%,min_len:300,with date:2019-18\n"
     ]
    }
   ],
   "source": [
    "from ccnet_spark.pipe_line import Pipeline, Config,PipelineStep\n",
    "import time\n",
    "from pyspark.sql import SparkSession\n",
    "import sys\n",
    "\n",
    "pipeline=[\n",
    "        PipelineStep.REAL_LEN,\n",
    "        PipelineStep.HASH,\n",
    "        PipelineStep.DEDUP_KEEP,\n",
    "        PipelineStep.LID,\n",
    "        PipelineStep.SP,\n",
    "        PipelineStep.LM,\n",
    "        PipelineStep.PP_BUCKET,\n",
    "        PipelineStep.DROP,\n",
    "],\n",
    "spark = (\n",
    "    SparkSession.builder.appName(\"CCNETSpark_ONLY\")\n",
    "    # .master(\"local[*]\")\n",
    "    .config(\"spark.executor.memory\", \"100g\")\n",
    "    .config(\"spark.driver.memory\", \"100g\")\n",
    "    .config(\"spark.driver.maxResultSize\", \"100g\")\n",
    "    .config(\"spark.sql.execution.arrow.pyspark.enabled\", \"true\")\n",
    "    # .config(\"spark.executor.extraJavaOptions\", \"-XX:+PrintGCDetails -XX:+PrintGCDateStamps -XX:+PrintGCTimeStamps\")\n",
    "    # .config(\"spark.driver.extraJavaOptions\", \"-XX:+PrintGCDetails -XX:+PrintGCDateStamps -XX:+PrintGCTimeStamps\")\n",
    "    .getOrCreate()\n",
    ")\n",
    "config = Config(\n",
    "        isSample=True,\n",
    "        n_segments=1,\n",
    "        sampleRate=0.01,\n",
    "        cache_dir=\"../../cached_data/\",\n",
    "        output_dir=\"../../cached_data/\",\n",
    "        fasttext_model_path=\"../../cc_net/bin/lid.bin\",\n",
    "        lm_dir=\"../../cc_net/data/lm_sp\",\n",
    "        cutoff_csv_path=\"../../cc_net/cc_net/data/cutoff.csv\",\n",
    "        dump=\"2019-18\",\n",
    "        pipeline=pipeline,\n",
    "    )\n",
    "pipeline = Pipeline(config,spark)\n",
    "df = pipeline.load_data()"
   ]
  },
  {
   "cell_type": "code",
   "execution_count": 2,
   "id": "46055503-218b-41fc-a45f-b2a8a59a39e6",
   "metadata": {},
   "outputs": [
    {
     "name": "stdout",
     "output_type": "stream",
     "text": [
      "['url', 'date_download', 'digest', 'length', 'nlines', 'source_domain', 'title', 'raw_content', 'cc_segment']\n",
      "+--------------------+------+------+--------------------------------+--------------------+\n",
      "|                 url|length|nlines|                     raw_content|          cc_segment|\n",
      "+--------------------+------+------+--------------------------------+--------------------+\n",
      "|http://rgdv.com.c...|  2286|    63|  更多\\n更多\\n全站搜索\\n更多\\...|CC-MAIN-201904181...|\n",
      "|https://www.place...|  4964|   141|            Explore\\nLife\\nFo...|CC-MAIN-201904181...|\n",
      "|http://voidslave....|369505|  7353|            sample lunch and ...|CC-MAIN-201904181...|\n",
      "|https://inaba-afi...| 14478|   260|年中行事\\nこどもの日\\n母の日\\...|CC-MAIN-201904181...|\n",
      "|https://www.wamp....|  1694|    41|            Skip to main cont...|CC-MAIN-201904181...|\n",
      "+--------------------+------+------+--------------------------------+--------------------+\n",
      "only showing top 5 rows\n",
      "\n"
     ]
    }
   ],
   "source": [
    "print(df.columns)\n",
    "df.select(\"url\",\"length\",\"nlines\",\"raw_content\",\"cc_segment\").show(5)"
   ]
  },
  {
   "cell_type": "code",
   "execution_count": 3,
   "id": "0e7ee3e6-f7d2-4438-ade1-d3184e555f12",
   "metadata": {},
   "outputs": [
    {
     "name": "stdout",
     "output_type": "stream",
     "text": [
      "['url', 'date_download', 'digest', 'length', 'nlines', 'source_domain', 'title', 'raw_content', 'cc_segment']\n",
      "+--------------------+------+------+--------------------------------+--------------------+\n",
      "|                 url|length|nlines|                     raw_content|          cc_segment|\n",
      "+--------------------+------+------+--------------------------------+--------------------+\n",
      "|http://rgdv.com.c...|  1054|    63|  更多\\n更多\\n全站搜索\\n更多\\...|CC-MAIN-201904181...|\n",
      "|https://www.place...|  4898|   141|            Explore\\nLife\\nFo...|CC-MAIN-201904181...|\n",
      "|http://voidslave....|369489|  7353|            sample lunch and ...|CC-MAIN-201904181...|\n",
      "|https://inaba-afi...|  5299|   260|年中行事\\nこどもの日\\n母の日\\...|CC-MAIN-201904181...|\n",
      "|https://www.wamp....|  1672|    41|            Skip to main cont...|CC-MAIN-201904181...|\n",
      "+--------------------+------+------+--------------------------------+--------------------+\n",
      "only showing top 5 rows\n",
      "\n"
     ]
    }
   ],
   "source": [
    "pipeline.run_step(PipelineStep.REAL_LEN)\n",
    "print(pipeline.df.columns)\n",
    "pipeline.df.select(\"url\",\"length\",\"nlines\",\"raw_content\",\"cc_segment\").show(5)"
   ]
  },
  {
   "cell_type": "code",
   "execution_count": 4,
   "id": "5c9820e7-9559-41f6-a437-d0bf015ce60e",
   "metadata": {},
   "outputs": [
    {
     "name": "stdout",
     "output_type": "stream",
     "text": [
      "['url', 'date_download', 'digest', 'length', 'nlines', 'source_domain', 'title', 'raw_content', 'cc_segment', 'exploded_content', 'hash_value']\n",
      "+--------------------+------+------+------------------------------+--------------------+----------------+--------------------+\n",
      "|                 url|length|nlines|                   raw_content|          cc_segment|exploded_content|          hash_value|\n",
      "+--------------------+------+------+------------------------------+--------------------+----------------+--------------------+\n",
      "|http://rgdv.com.c...|  1054|    63|更多\\n更多\\n全站搜索\\n更多\\...|CC-MAIN-201904181...|       {0, 更多}|[9B 0C 6C 78 58 B...|\n",
      "|http://rgdv.com.c...|  1054|    63|更多\\n更多\\n全站搜索\\n更多\\...|CC-MAIN-201904181...|       {1, 更多}|[9B 0C 6C 78 58 B...|\n",
      "|http://rgdv.com.c...|  1054|    63|更多\\n更多\\n全站搜索\\n更多\\...|CC-MAIN-201904181...|   {2, 全站搜索}|[97 B8 03 99 98 C...|\n",
      "|http://rgdv.com.c...|  1054|    63|更多\\n更多\\n全站搜索\\n更多\\...|CC-MAIN-201904181...|       {3, 更多}|[9B 0C 6C 78 58 B...|\n",
      "|http://rgdv.com.c...|  1054|    63|更多\\n更多\\n全站搜索\\n更多\\...|CC-MAIN-201904181...|       {4, 更多}|[9B 0C 6C 78 58 B...|\n",
      "+--------------------+------+------+------------------------------+--------------------+----------------+--------------------+\n",
      "only showing top 5 rows\n",
      "\n"
     ]
    },
    {
     "name": "stderr",
     "output_type": "stream",
     "text": [
      "                                                                                \r"
     ]
    }
   ],
   "source": [
    "pipeline.run_step(PipelineStep.HASH)\n",
    "print(pipeline.df.columns)\n",
    "pipeline.df.select(\"url\",\"length\",\"nlines\",\"raw_content\",\"cc_segment\",'exploded_content', 'hash_value').show(5)"
   ]
  },
  {
   "cell_type": "code",
   "execution_count": 5,
   "id": "2f0f0ba8-f2e0-4dad-8d10-7cc3de04fbec",
   "metadata": {},
   "outputs": [
    {
     "name": "stdout",
     "output_type": "stream",
     "text": [
      "['digest', 'url', 'date_download', 'source_domain', 'cc_segment', 'original_length', 'original_nlines', 'title', 'nlines', 'raw_content', 'raw_line_id', 'length']\n"
     ]
    },
    {
     "name": "stderr",
     "output_type": "stream",
     "text": [
      "                                                                                \r"
     ]
    },
    {
     "name": "stdout",
     "output_type": "stream",
     "text": [
      "+--------------------+------+------+--------------------+--------------------+--------------------+---------------+---------------+\n",
      "|                 url|length|nlines|         raw_content|          cc_segment|         raw_line_id|original_length|original_nlines|\n",
      "+--------------------+------+------+--------------------+--------------------+--------------------+---------------+---------------+\n",
      "|http://ecrack1.ui...| 42384|    64|Ring ring\\n1234 6...|CC-MAIN-201904181...|[0, 1, 2, 3, 4, 5...|          44461|            108|\n",
      "|https://romankhon...|  2943|   124|رفتن به مطلب\\nفرو...|CC-MAIN-201904181...|[0, 1, 2, 3, 4, 5...|           3655|            189|\n",
      "|https://www.obesi...|  1597|    71|Navigation\\nBaria...|CC-MAIN-201904181...|[0, 1, 2, 3, 4, 5...|           3519|            185|\n",
      "|http://publicrepo...|  7398|    72|Reports on Long-T...|CC-MAIN-201904181...|[0, 4, 6, 7, 8, 9...|           7742|             96|\n",
      "|http://www.e-isla...|  4531|    38|e-Ислам\\nНовостно...|CC-MAIN-201904181...|[0, 1, 2, 3, 5, 6...|           4753|             54|\n",
      "+--------------------+------+------+--------------------+--------------------+--------------------+---------------+---------------+\n",
      "only showing top 5 rows\n",
      "\n"
     ]
    }
   ],
   "source": [
    "pipeline.run_step(PipelineStep.DEDUP_KEEP)\n",
    "print(pipeline.df.columns)\n",
    "pipeline.df.select(\"url\",\"length\",\"nlines\",\"raw_content\",\"cc_segment\",'raw_line_id','original_length','original_nlines').show(5)"
   ]
  },
  {
   "cell_type": "code",
   "execution_count": 16,
   "id": "95bf205f-0630-41d7-bd5c-fe29efd7c46a",
   "metadata": {
    "scrolled": true
   },
   "outputs": [
    {
     "data": {
      "text/plain": [
       "DataFrame[digest: string, url: string, date_download: string, source_domain: string, cc_segment: string, original_length: int, original_nlines: bigint, title: string, nlines: bigint, raw_content: string, raw_line_id: array<int>, length: int, raw_content_len: int, raw_line_id_len: int]"
      ]
     },
     "execution_count": 16,
     "metadata": {},
     "output_type": "execute_result"
    }
   ],
   "source": [
    "from pyspark.sql import functions as F\n",
    "pipeline.df.withColumn(\"raw_content_len\", F.length(pipeline.df[\"raw_content\"])).withColumn(\"raw_line_id_len\", F.size(pipeline.df[\"raw_line_id\"]))"
   ]
  },
  {
   "cell_type": "code",
   "execution_count": 17,
   "id": "626bfd4e-8e52-42b0-8cb4-64bc9f39bebf",
   "metadata": {},
   "outputs": [
    {
     "name": "stdout",
     "output_type": "stream",
     "text": [
      "+--------------------+\n",
      "|         raw_line_id|\n",
      "+--------------------+\n",
      "|[0, 1, 2, 3, 4, 5...|\n",
      "|[0, 1, 2, 3, 4, 5...|\n",
      "|[0, 1, 2, 3, 4, 5...|\n",
      "|[0, 4, 6, 7, 8, 9...|\n",
      "|[0, 1, 2, 3, 5, 6...|\n",
      "|[0, 1, 2, 3, 4, 5...|\n",
      "|[0, 3, 4, 5, 6, 9...|\n",
      "|[0, 1, 4, 7, 10, ...|\n",
      "|[2, 3, 4, 6, 7, 8...|\n",
      "|[2, 3, 4, 5, 6, 7...|\n",
      "|[0, 1, 3, 4, 5, 7...|\n",
      "|[0, 1, 3, 4, 6, 7...|\n",
      "|[0, 2, 3, 4, 5, 6...|\n",
      "|[0, 1, 2, 3, 4, 6...|\n",
      "|[0, 1, 3, 4, 5, 6...|\n",
      "|[1, 2, 4, 5, 6, 7...|\n",
      "|[0, 1, 2, 3, 4, 8...|\n",
      "|[0, 1, 2, 4, 5, 6...|\n",
      "|[0, 1, 2, 3, 4, 5...|\n",
      "|[0, 1, 2, 3, 4, 5...|\n",
      "+--------------------+\n",
      "only showing top 20 rows\n",
      "\n"
     ]
    }
   ],
   "source": [
    "pipeline.df.select(\"raw_line_id\").show()"
   ]
  },
  {
   "cell_type": "code",
   "execution_count": 15,
   "id": "ff324ee2-b711-4e30-92c6-79d0423b2d04",
   "metadata": {},
   "outputs": [
    {
     "data": {
      "text/plain": [
       "DataFrame[digest: string, url: string, date_download: string, source_domain: string, cc_segment: string, original_length: int, original_nlines: bigint, title: string, nlines: bigint, raw_content: string, raw_line_id: array<int>, length: int, raw_line_id_len: int]"
      ]
     },
     "execution_count": 15,
     "metadata": {},
     "output_type": "execute_result"
    }
   ],
   "source": [
    "pipeline.df.withColumn(\"raw_line_id_len\", F.size(pipeline.df[\"raw_line_id\"]))\n"
   ]
  },
  {
   "cell_type": "code",
   "execution_count": null,
   "id": "2dfea492-d7c4-44fa-907c-d5928daa583c",
   "metadata": {},
   "outputs": [],
   "source": []
  }
 ],
 "metadata": {
  "kernelspec": {
   "display_name": "Python 3 (ipykernel)",
   "language": "python",
   "name": "python3"
  },
  "language_info": {
   "codemirror_mode": {
    "name": "ipython",
    "version": 3
   },
   "file_extension": ".py",
   "mimetype": "text/x-python",
   "name": "python",
   "nbconvert_exporter": "python",
   "pygments_lexer": "ipython3",
   "version": "3.9.19"
  }
 },
 "nbformat": 4,
 "nbformat_minor": 5
}

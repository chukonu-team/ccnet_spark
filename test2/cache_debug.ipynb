{
 "cells": [
  {
   "cell_type": "code",
   "execution_count": 1,
   "id": "0dede136-1720-414c-8fd9-2d6c09f5c19d",
   "metadata": {},
   "outputs": [],
   "source": [
    "from ccnet_spark.pipe_lid import getFastTextModel,predict\n",
    "import time"
   ]
  },
  {
   "cell_type": "code",
   "execution_count": 2,
   "id": "724807ef-f9d3-4cc7-a836-c184db998b37",
   "metadata": {},
   "outputs": [
    {
     "name": "stdout",
     "output_type": "stream",
     "text": [
      "e-s: 0.08913850784301758\n",
      "e-s: 2.384185791015625e-05\n",
      "e-s: 7.152557373046875e-06\n",
      "e-s: 5.7220458984375e-06\n",
      "e-s: 5.245208740234375e-06\n",
      "e-s: 5.0067901611328125e-06\n",
      "e-s: 5.0067901611328125e-06\n",
      "e-s: 5.0067901611328125e-06\n",
      "e-s: 4.76837158203125e-06\n",
      "e-s: 4.76837158203125e-06\n"
     ]
    },
    {
     "name": "stderr",
     "output_type": "stream",
     "text": [
      "Warning : `load_model` does not return WordVectorModel or SupervisedModel any more, but a `FastText` object which is very similar.\n"
     ]
    }
   ],
   "source": [
    "fasttext_model_path=\"../../cc_net/bin/lid.bin\"\n",
    "for i in range(10):\n",
    "    s=time.time()\n",
    "    res=predict(getFastTextModel(fasttext_model_path),\"Who Are You?\")\n",
    "    e=time.time()\n",
    "    print(\"e-s:\",e-s)"
   ]
  },
  {
   "cell_type": "code",
   "execution_count": 2,
   "id": "46a7f4d7-b350-4957-94bb-2db0044c9eaa",
   "metadata": {},
   "outputs": [
    {
     "name": "stdout",
     "output_type": "stream",
     "text": [
      "e-s: 5.316734313964844e-05\n",
      "e-s: 3.838539123535156e-05\n",
      "e-s: 2.8371810913085938e-05\n",
      "e-s: 2.5987625122070312e-05\n",
      "e-s: 2.6464462280273438e-05\n",
      "e-s: 2.956390380859375e-05\n",
      "e-s: 1.6450881958007812e-05\n",
      "e-s: 2.5272369384765625e-05\n",
      "e-s: 1.4066696166992188e-05\n",
      "e-s: 9.298324584960938e-06\n",
      "6.461143493652344e-05\n"
     ]
    },
    {
     "name": "stderr",
     "output_type": "stream",
     "text": [
      "Warning : `load_model` does not return WordVectorModel or SupervisedModel any more, but a `FastText` object which is very similar.\n"
     ]
    }
   ],
   "source": [
    "import threading\n",
    "import time\n",
    "\n",
    "# 定义一个函数用于预测\n",
    "def predict_in_thread(text):\n",
    "    \n",
    "    # 创建 FastText 模型\n",
    "    model = getFastTextModel(\"../../cc_net/bin/lid.bin\")\n",
    "\n",
    "    s = time.time()\n",
    "    res = predict(model, text)\n",
    "    e = time.time()\n",
    "    print(\"e-s:\", e - s)\n",
    "\n",
    "\n",
    "# 定义线程数\n",
    "num_threads = 10\n",
    "\n",
    "# 创建线程列表\n",
    "threads = []\n",
    "\n",
    "# 启动多个线程执行预测任务\n",
    "for i in range(num_threads):\n",
    "    thread = threading.Thread(target=predict_in_thread, args=( \"Who Are You?\",))\n",
    "    threads.append(thread)\n",
    "    thread.start()\n",
    "\n",
    "# 等待所有线程结束\n",
    "s=time.time()\n",
    "for thread in threads:\n",
    "    thread.join()\n",
    "e=time.time()\n",
    "print(e-s)"
   ]
  },
  {
   "cell_type": "code",
   "execution_count": null,
   "id": "7adca6a8-3c3f-4779-b065-a7d82f77c48c",
   "metadata": {},
   "outputs": [],
   "source": []
  }
 ],
 "metadata": {
  "kernelspec": {
   "display_name": "Python 3 (ipykernel)",
   "language": "python",
   "name": "python3"
  },
  "language_info": {
   "codemirror_mode": {
    "name": "ipython",
    "version": 3
   },
   "file_extension": ".py",
   "mimetype": "text/x-python",
   "name": "python",
   "nbconvert_exporter": "python",
   "pygments_lexer": "ipython3",
   "version": "3.9.19"
  }
 },
 "nbformat": 4,
 "nbformat_minor": 5
}

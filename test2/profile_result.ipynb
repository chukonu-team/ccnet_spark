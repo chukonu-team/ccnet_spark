{
 "cells": [
  {
   "cell_type": "code",
   "execution_count": 33,
   "id": "6f172a98-3486-48ed-a9a7-b2c027492a0d",
   "metadata": {},
   "outputs": [],
   "source": [
    "from ccnet_spark.pipe_save import load_all,convert_to_absolute_path\n",
    "import time\n",
    "from pyspark.sql import SparkSession\n",
    "import sys\n",
    "import subprocess\n",
    "import os\n",
    "from pyspark.sql import functions as F\n",
    "from pyspark.sql.functions import col\n",
    "from pyspark.sql.types import IntegerType"
   ]
  },
  {
   "cell_type": "code",
   "execution_count": 2,
   "id": "188da4dd-864c-4ca7-bded-d93187fc8222",
   "metadata": {},
   "outputs": [],
   "source": [
    "spark = (\n",
    "    SparkSession.builder.appName(\"ccnetspark_profile_profile\")\n",
    "    .master(\"local[*]\")\n",
    "    .config(\"spark.executor.memory\", \"40g\")\n",
    "    .config(\"spark.driver.memory\", \"40g\")\n",
    "    .config(\"spark.dynamicAllocation.enabled\", \"false\")\n",
    "    .config(\"spark.driver.maxResultSize\", \"40g\")\n",
    "    .config(\"spark.sql.execution.arrow.pyspark.enabled\", \"true\")\n",
    "    # .config(\"spark.sql.autoBroadcastJoinThreshold\",\"-1\")\n",
    "    # .config(\"spark.executor.extraJavaOptions\", \"-XX:+PrintGCDetails -XX:+PrintGCDateStamps -XX:+PrintGCTimeStamps\")\n",
    "    # .config(\"spark.driver.extraJavaOptions\", \"-XX:+PrintGCDetails -XX:+PrintGCDateStamps -XX:+PrintGCTimeStamps\")\n",
    "    .getOrCreate()\n",
    ")"
   ]
  },
  {
   "cell_type": "code",
   "execution_count": 67,
   "id": "888c1c06-674b-485e-b264-ad9b4c17df67",
   "metadata": {},
   "outputs": [],
   "source": [
    "def get_result(path_name):\n",
    "    isSample=True\n",
    "    min_len=300\n",
    "    sampleRate=1\n",
    "    dump=\"2019-18\"\n",
    "    save_type=\"file\"\n",
    "    output_dir=\"/metadata0/wxl_data/cached_data/\"\n",
    "    saved_sdf_name = \"_sampleRate_\" + str(int(sampleRate*100 if isSample else 100)) + \"_min_len_\"+str(min_len)+\".parquet\"\n",
    "    saved_sdf_path = os.path.join(output_dir,path_name,dump,saved_sdf_name)\n",
    "    saved_sdf_path = convert_to_absolute_path(saved_sdf_path)\n",
    "    df = spark.read.parquet(f\"{save_type}:///{saved_sdf_path}\")\n",
    "    return df\n",
    "def analy_df(df):\n",
    "    # 定义聚合函数求和\n",
    "    sum_columns = [\n",
    "        F.sum('original_length').alias('sum_original_length'),\n",
    "        F.sum('length').alias('sum_length'),\n",
    "        F.sum('nlines').alias('sum_nlines'),\n",
    "        F.sum('original_nlines').alias('sum_original_nlines')\n",
    "    ]\n",
    "    # 按照 'bucket' 和 'lang' 字段进行分组，并计算每个组合的数量和求和\n",
    "    aggregated_df = df.groupBy('bucket', 'lang').agg(\n",
    "        F.count('*').alias('count'), *sum_columns\n",
    "    )\n",
    "    # 添加两列做比较\n",
    "    aggregated_df = aggregated_df.withColumn('length_ratio', F.col('sum_length') / F.col('sum_original_length'))\n",
    "    aggregated_df = aggregated_df.withColumn('nlines_ratio', F.col('sum_nlines') / F.col('sum_original_nlines'))\n",
    "    aggregated_df = aggregated_df.withColumn(\"n_count\", col(\"count\").cast(IntegerType()))\n",
    "    # 显示聚合后的结果\n",
    "    # aggregated_df.show(50)\n",
    "    return aggregated_df"
   ]
  },
  {
   "cell_type": "code",
   "execution_count": 68,
   "id": "37a944d1-2808-414d-a986-0c284d5bd917",
   "metadata": {},
   "outputs": [],
   "source": [
    "def show_cal(df):\n",
    "    lang_counts = df.groupBy(\"lang\").agg(sum(\"count\").alias(\"total_count\"))\n",
    "    lang_counts.show()\n",
    "    bucket_counts=df.groupBy(\"bucket\").agg(sum(\"count\").alias(\"total_count\"))\n",
    "    bucket_counts.show()"
   ]
  },
  {
   "cell_type": "code",
   "execution_count": 71,
   "id": "9da7643d-0705-408e-87a2-96049d8e20be",
   "metadata": {},
   "outputs": [
    {
     "name": "stderr",
     "output_type": "stream",
     "text": [
      "24/04/25 08:50:14 WARN DataSource: All paths were ignored:\n",
      "  file:/metadata0/wxl_data/cached_data/result_sdf_parquet_nokeep/2019-18/_sampleRate_100_min_len_300.parquet\n"
     ]
    }
   ],
   "source": [
    "df_nokeep=get_result(\"result_sdf_parquet_nokeep\")\n",
    "df_nokeep_an=analy_df(df_nokeep)\n"
   ]
  },
  {
   "cell_type": "code",
   "execution_count": 76,
   "id": "6ca657b6-1b38-4ec6-8f52-b06ee4917b76",
   "metadata": {},
   "outputs": [
    {
     "ename": "TypeError",
     "evalue": "unsupported operand type(s) for +: 'int' and 'str'",
     "output_type": "error",
     "traceback": [
      "\u001b[0;31m---------------------------------------------------------------------------\u001b[0m",
      "\u001b[0;31mTypeError\u001b[0m                                 Traceback (most recent call last)",
      "Cell \u001b[0;32mIn[76], line 1\u001b[0m\n\u001b[0;32m----> 1\u001b[0m df_nokeep_an\u001b[38;5;241m.\u001b[39magg(\u001b[38;5;28;43msum\u001b[39;49m\u001b[43m(\u001b[49m\u001b[38;5;124;43m\"\u001b[39;49m\u001b[38;5;124;43mn_count\u001b[39;49m\u001b[38;5;124;43m\"\u001b[39;49m\u001b[43m)\u001b[49m)\u001b[38;5;241m.\u001b[39mshow()\n",
      "\u001b[0;31mTypeError\u001b[0m: unsupported operand type(s) for +: 'int' and 'str'"
     ]
    }
   ],
   "source": [
    "df_nokeep_an.agg(sum(\"n_count\")).show()"
   ]
  },
  {
   "cell_type": "code",
   "execution_count": null,
   "id": "68b88b41-f510-40e1-8100-2347fced8fcb",
   "metadata": {},
   "outputs": [],
   "source": []
  },
  {
   "cell_type": "code",
   "execution_count": null,
   "id": "05d3f23d-0011-4851-9a74-0007d20f26c7",
   "metadata": {},
   "outputs": [],
   "source": []
  },
  {
   "cell_type": "code",
   "execution_count": null,
   "id": "8ab53daa-8a95-4207-b027-6e00b604f061",
   "metadata": {},
   "outputs": [],
   "source": []
  },
  {
   "cell_type": "code",
   "execution_count": null,
   "id": "0463fdeb-c28c-40d4-ba02-bbb36ad3bca7",
   "metadata": {},
   "outputs": [],
   "source": []
  },
  {
   "cell_type": "code",
   "execution_count": 69,
   "id": "c28625a6-029b-4a38-8b9b-ce8990ffe914",
   "metadata": {},
   "outputs": [
    {
     "ename": "TypeError",
     "evalue": "unsupported operand type(s) for +: 'int' and 'str'",
     "output_type": "error",
     "traceback": [
      "\u001b[0;31m---------------------------------------------------------------------------\u001b[0m",
      "\u001b[0;31mTypeError\u001b[0m                                 Traceback (most recent call last)",
      "Cell \u001b[0;32mIn[69], line 1\u001b[0m\n\u001b[0;32m----> 1\u001b[0m df_nokeep_an\u001b[38;5;241m.\u001b[39magg(\u001b[38;5;28;43msum\u001b[39;49m\u001b[43m(\u001b[49m\u001b[38;5;124;43m\"\u001b[39;49m\u001b[38;5;124;43mcount\u001b[39;49m\u001b[38;5;124;43m\"\u001b[39;49m\u001b[43m)\u001b[49m\u001b[38;5;241m.\u001b[39malias(\u001b[38;5;124m\"\u001b[39m\u001b[38;5;124mcount_sum\u001b[39m\u001b[38;5;124m\"\u001b[39m))\n",
      "\u001b[0;31mTypeError\u001b[0m: unsupported operand type(s) for +: 'int' and 'str'"
     ]
    }
   ],
   "source": [
    "df_nokeep_an.agg(sum(\"count\").alias(\"count_sum\"))"
   ]
  },
  {
   "cell_type": "code",
   "execution_count": 64,
   "id": "b96f12e8-e279-4d9a-a9ff-8578881ce682",
   "metadata": {},
   "outputs": [
    {
     "data": {
      "text/plain": [
       "DataFrame[bucket: string, lang: string, count: int, sum_original_length: bigint, sum_length: bigint, sum_nlines: bigint, sum_original_nlines: bigint, length_ratio: double, nlines_ratio: double]"
      ]
     },
     "execution_count": 64,
     "metadata": {},
     "output_type": "execute_result"
    }
   ],
   "source": [
    "df_nokeep_an"
   ]
  },
  {
   "cell_type": "code",
   "execution_count": 62,
   "id": "788237c6-776e-4bdd-9480-824c7ad0d7e6",
   "metadata": {},
   "outputs": [
    {
     "ename": "TypeError",
     "evalue": "unsupported operand type(s) for +: 'int' and 'str'",
     "output_type": "error",
     "traceback": [
      "\u001b[0;31m---------------------------------------------------------------------------\u001b[0m",
      "\u001b[0;31mTypeError\u001b[0m                                 Traceback (most recent call last)",
      "Cell \u001b[0;32mIn[62], line 2\u001b[0m\n\u001b[1;32m      1\u001b[0m df_nokeep_an\u001b[38;5;241m.\u001b[39msummary()\n\u001b[0;32m----> 2\u001b[0m df_nokeep_an\u001b[38;5;241m.\u001b[39magg(\u001b[38;5;28;43msum\u001b[39;49m\u001b[43m(\u001b[49m\u001b[38;5;124;43m\"\u001b[39;49m\u001b[38;5;124;43mcount\u001b[39;49m\u001b[38;5;124;43m\"\u001b[39;49m\u001b[43m)\u001b[49m)\n",
      "\u001b[0;31mTypeError\u001b[0m: unsupported operand type(s) for +: 'int' and 'str'"
     ]
    }
   ],
   "source": [
    "\n",
    "df_nokeep_an.agg(sum(\"count\"))"
   ]
  },
  {
   "cell_type": "code",
   "execution_count": 51,
   "id": "38ebdb59-b9a8-49b2-bda9-c22470fc57b9",
   "metadata": {},
   "outputs": [
    {
     "ename": "TypeError",
     "evalue": "unsupported operand type(s) for +: 'int' and 'str'",
     "output_type": "error",
     "traceback": [
      "\u001b[0;31m---------------------------------------------------------------------------\u001b[0m",
      "\u001b[0;31mTypeError\u001b[0m                                 Traceback (most recent call last)",
      "Cell \u001b[0;32mIn[51], line 1\u001b[0m\n\u001b[0;32m----> 1\u001b[0m df_nokeep_an\u001b[38;5;241m.\u001b[39mgroupBy(\u001b[38;5;124m\"\u001b[39m\u001b[38;5;124mlang\u001b[39m\u001b[38;5;124m\"\u001b[39m)\u001b[38;5;241m.\u001b[39magg({\u001b[38;5;124m\"\u001b[39m\u001b[38;5;124mlang\u001b[39m\u001b[38;5;124m\"\u001b[39m: \u001b[38;5;28;43msum\u001b[39;49m\u001b[43m(\u001b[49m\u001b[38;5;124;43m\"\u001b[39;49m\u001b[38;5;124;43mcount\u001b[39;49m\u001b[38;5;124;43m\"\u001b[39;49m\u001b[43m)\u001b[49m})\n",
      "\u001b[0;31mTypeError\u001b[0m: unsupported operand type(s) for +: 'int' and 'str'"
     ]
    }
   ],
   "source": [
    "df_nokeep_an.groupBy(\"lang\").agg({\"lang\": sum(\"count\")})"
   ]
  },
  {
   "cell_type": "code",
   "execution_count": 41,
   "id": "5ff0e124-d152-41c8-96d2-c107f56de33b",
   "metadata": {},
   "outputs": [
    {
     "name": "stderr",
     "output_type": "stream",
     "text": [
      "24/04/25 08:39:28 WARN DataSource: All paths were ignored:\n",
      "  file:/metadata0/wxl_data/cached_data/result_sdf_parquet_nokeep/2019-18/_sampleRate_100_min_len_300.parquet\n",
      "24/04/25 08:39:29 WARN SharedInMemoryCache: Evicting cached table partition metadata from memory due to size constraints (spark.sql.hive.filesourcePartitionFileCacheSize = 262144000 bytes). This may impact query planning performance.\n"
     ]
    },
    {
     "ename": "TypeError",
     "evalue": "unsupported operand type(s) for +: 'int' and 'str'",
     "output_type": "error",
     "traceback": [
      "\u001b[0;31m---------------------------------------------------------------------------\u001b[0m",
      "\u001b[0;31mTypeError\u001b[0m                                 Traceback (most recent call last)",
      "Cell \u001b[0;32mIn[41], line 3\u001b[0m\n\u001b[1;32m      1\u001b[0m df_nokeep\u001b[38;5;241m=\u001b[39mget_result(\u001b[38;5;124m\"\u001b[39m\u001b[38;5;124mresult_sdf_parquet_nokeep\u001b[39m\u001b[38;5;124m\"\u001b[39m)\n\u001b[1;32m      2\u001b[0m df_nokeep_an\u001b[38;5;241m=\u001b[39manaly_df(df_nokeep)\n\u001b[0;32m----> 3\u001b[0m \u001b[43mshow_cal\u001b[49m\u001b[43m(\u001b[49m\u001b[43mdf_nokeep_an\u001b[49m\u001b[43m)\u001b[49m\n",
      "Cell \u001b[0;32mIn[35], line 2\u001b[0m, in \u001b[0;36mshow_cal\u001b[0;34m(df)\u001b[0m\n\u001b[1;32m      1\u001b[0m \u001b[38;5;28;01mdef\u001b[39;00m \u001b[38;5;21mshow_cal\u001b[39m(df):\n\u001b[0;32m----> 2\u001b[0m     lang_counts \u001b[38;5;241m=\u001b[39m df\u001b[38;5;241m.\u001b[39mgroupBy(\u001b[38;5;124m\"\u001b[39m\u001b[38;5;124mlang\u001b[39m\u001b[38;5;124m\"\u001b[39m)\u001b[38;5;241m.\u001b[39magg(\u001b[38;5;28;43msum\u001b[39;49m\u001b[43m(\u001b[49m\u001b[38;5;124;43m\"\u001b[39;49m\u001b[38;5;124;43mcount\u001b[39;49m\u001b[38;5;124;43m\"\u001b[39;49m\u001b[43m)\u001b[49m\u001b[38;5;241m.\u001b[39malias(\u001b[38;5;124m\"\u001b[39m\u001b[38;5;124mtotal_count\u001b[39m\u001b[38;5;124m\"\u001b[39m))\n\u001b[1;32m      3\u001b[0m     lang_counts\u001b[38;5;241m.\u001b[39mshow()\n\u001b[1;32m      4\u001b[0m     bucket_counts\u001b[38;5;241m=\u001b[39mdf\u001b[38;5;241m.\u001b[39mgroupBy(\u001b[38;5;124m\"\u001b[39m\u001b[38;5;124mbucket\u001b[39m\u001b[38;5;124m\"\u001b[39m)\u001b[38;5;241m.\u001b[39magg(\u001b[38;5;28msum\u001b[39m(\u001b[38;5;124m\"\u001b[39m\u001b[38;5;124mcount\u001b[39m\u001b[38;5;124m\"\u001b[39m)\u001b[38;5;241m.\u001b[39malias(\u001b[38;5;124m\"\u001b[39m\u001b[38;5;124mtotal_count\u001b[39m\u001b[38;5;124m\"\u001b[39m))\n",
      "\u001b[0;31mTypeError\u001b[0m: unsupported operand type(s) for +: 'int' and 'str'"
     ]
    }
   ],
   "source": []
  },
  {
   "cell_type": "code",
   "execution_count": null,
   "id": "3659da85-40f2-4a04-b1e2-5566309db26d",
   "metadata": {},
   "outputs": [],
   "source": []
  },
  {
   "cell_type": "code",
   "execution_count": 24,
   "id": "d1359538-6ccd-44f5-ac83-939c95ca2200",
   "metadata": {},
   "outputs": [
    {
     "name": "stderr",
     "output_type": "stream",
     "text": [
      "[Stage 43:===================================================> (804 + 16) / 825]\r"
     ]
    },
    {
     "name": "stdout",
     "output_type": "stream",
     "text": [
      "+------+----+------+-------------------+----------+----------+-------------------+-------------------+-------------------+\n",
      "|bucket|lang| count|sum_original_length|sum_length|sum_nlines|sum_original_nlines|       length_ratio|       nlines_ratio|\n",
      "+------+----+------+-------------------+----------+----------+-------------------+-------------------+-------------------+\n",
      "|  tail|  en|393731|         2525061403| 980046025|  10406761|           68352621| 0.3881276011092709|0.15225108924499034|\n",
      "|middle|  en|120537|          971723594| 531501860|   3198078|           18023596| 0.5469681535796896| 0.1774383979756315|\n",
      "|   all|null|149888|         1112207560| 335905864|   3905003|           33186661|0.30201724577380146|0.11766784853709748|\n",
      "|  head|  en| 88876|          712600213| 404164082|   1819529|           12204283| 0.5671680622975059|0.14908938116233456|\n",
      "|  tail|  ru| 81920|          547078052| 179232477|   2029848|           16949451|0.32761774365607343|0.11975892316512199|\n",
      "|  tail|  zh| 49357|          214262095| 113548011|   1719323|            8504957| 0.5299491307596894| 0.2021554018438894|\n",
      "|middle|  zh| 15498|           52909822|  26863448|    469547|            1907654| 0.5077213829976597|0.24613845068340484|\n",
      "|middle|  ru| 26185|          205402264| 109759204|    701095|            4207252| 0.5343621918403003| 0.1666396498236854|\n",
      "|  tail|  fr| 47028|          324909272| 105685252|   1259795|            8918514| 0.3252761958729205|0.14125615545370002|\n",
      "|  tail|  de| 55145|          327451079| 122120499|   1379740|            9400422|0.37294272895036024|0.14677426183633033|\n",
      "|middle|  de| 18959|          136344999|  71176095|    462602|            2836926| 0.5220293778431874|0.16306452829576804|\n",
      "|  tail|  ja| 45788|          180189887|  64086537|   1811135|            9023719| 0.3556611198718383|0.20070826673569955|\n",
      "|  head|  ru| 20361|          154816725|  81549196|    442474|            2954296| 0.5267466806315662|0.14977307622526653|\n",
      "|middle|  es| 14162|          107489747|  56693019|    326799|            2101758| 0.5274272252217693|0.15548840542060505|\n",
      "|  tail|  es| 39864|          255519144|  91792712|    976774|            7040075| 0.3592400575668804|0.13874482871276228|\n",
      "|middle|  fr| 16120|          120001408|  59959595|    417106|            2515987| 0.4996574290194995| 0.1657822556316865|\n",
      "|  head|  fr|  9910|           86265932|  46674138|    221013|            1512998| 0.5410494840535659|0.14607620102604232|\n",
      "|middle|  ja| 14915|           59626733|  27094165|    631345|            2591201|0.45439626886819373|0.24364956635938315|\n",
      "|  tail|  ar|  5070|           33865198|  10277467|    153653|             893731| 0.3034816746088418|0.17192309542804265|\n",
      "|middle|  he|   507|            3854668|   2250649|     16058|              81640|  0.583876224878511|0.19669279764821165|\n",
      "+------+----+------+-------------------+----------+----------+-------------------+-------------------+-------------------+\n",
      "only showing top 20 rows\n",
      "\n"
     ]
    },
    {
     "name": "stderr",
     "output_type": "stream",
     "text": [
      "                                                                                \r"
     ]
    }
   ],
   "source": [
    "df_nokeep_an.show()"
   ]
  },
  {
   "cell_type": "code",
   "execution_count": 23,
   "id": "7b55d2f4-d203-4a47-bb86-8294275c2f8b",
   "metadata": {},
   "outputs": [
    {
     "name": "stderr",
     "output_type": "stream",
     "text": [
      "                                                                                \r"
     ]
    },
    {
     "data": {
      "text/plain": [
       "[Row(lang='en', count(lang)=603144),\n",
       " Row(lang=None, count(lang)=0),\n",
       " Row(lang='ru', count(lang)=128466),\n",
       " Row(lang='zh', count(lang)=80653),\n",
       " Row(lang='fr', count(lang)=73058),\n",
       " Row(lang='de', count(lang)=88570),\n",
       " Row(lang='ja', count(lang)=77437),\n",
       " Row(lang='es', count(lang)=64655),\n",
       " Row(lang='ar', count(lang)=8476),\n",
       " Row(lang='he', count(lang)=3295),\n",
       " Row(lang='it', count(lang)=36390),\n",
       " Row(lang='tr', count(lang)=12238),\n",
       " Row(lang='nl', count(lang)=27445),\n",
       " Row(lang='lt', count(lang)=2020),\n",
       " Row(lang='pt', count(lang)=28883),\n",
       " Row(lang='pl', count(lang)=24728),\n",
       " Row(lang='uk', count(lang)=6177),\n",
       " Row(lang='vi', count(lang)=10665),\n",
       " Row(lang='ro', count(lang)=6030),\n",
       " Row(lang='cs', count(lang)=15573),\n",
       " Row(lang='ko', count(lang)=8165),\n",
       " Row(lang='hu', count(lang)=7584),\n",
       " Row(lang='sk', count(lang)=3571),\n",
       " Row(lang='sv', count(lang)=10812),\n",
       " Row(lang='fa', count(lang)=10617),\n",
       " Row(lang='th', count(lang)=4568),\n",
       " Row(lang='sl', count(lang)=1298),\n",
       " Row(lang='el', count(lang)=7685),\n",
       " Row(lang='id', count(lang)=9994),\n",
       " Row(lang='bg', count(lang)=3579),\n",
       " Row(lang='sq', count(lang)=470),\n",
       " Row(lang='et', count(lang)=1336),\n",
       " Row(lang='no', count(lang)=4048),\n",
       " Row(lang='da', count(lang)=5446),\n",
       " Row(lang='fi', count(lang)=5670),\n",
       " Row(lang='ml', count(lang)=391),\n",
       " Row(lang='sr', count(lang)=828),\n",
       " Row(lang='my', count(lang)=110),\n",
       " Row(lang='ur', count(lang)=286),\n",
       " Row(lang='bn', count(lang)=951),\n",
       " Row(lang='mn', count(lang)=140),\n",
       " Row(lang='ca', count(lang)=3089),\n",
       " Row(lang='mk', count(lang)=298),\n",
       " Row(lang='be', count(lang)=313),\n",
       " Row(lang='ne', count(lang)=237),\n",
       " Row(lang='hy', count(lang)=437),\n",
       " Row(lang='ps', count(lang)=77),\n",
       " Row(lang='ug', count(lang)=33),\n",
       " Row(lang='kn', count(lang)=140),\n",
       " Row(lang='hi', count(lang)=1697),\n",
       " Row(lang='kk', count(lang)=282),\n",
       " Row(lang='hr', count(lang)=876),\n",
       " Row(lang='az', count(lang)=715),\n",
       " Row(lang='mr', count(lang)=150),\n",
       " Row(lang='lv', count(lang)=962),\n",
       " Row(lang='as', count(lang)=15),\n",
       " Row(lang='ta', count(lang)=778),\n",
       " Row(lang='is', count(lang)=369),\n",
       " Row(lang='eo', count(lang)=121),\n",
       " Row(lang='bo', count(lang)=42),\n",
       " Row(lang='af', count(lang)=70),\n",
       " Row(lang='ka', count(lang)=523),\n",
       " Row(lang='km', count(lang)=30),\n",
       " Row(lang='am', count(lang)=26),\n",
       " Row(lang='te', count(lang)=226),\n",
       " Row(lang='pnb', count(lang)=17),\n",
       " Row(lang='gl', count(lang)=321),\n",
       " Row(lang='si', count(lang)=99),\n",
       " Row(lang='tg', count(lang)=77),\n",
       " Row(lang='pa', count(lang)=100),\n",
       " Row(lang='ky', count(lang)=81),\n",
       " Row(lang='gu', count(lang)=99),\n",
       " Row(lang='ckb', count(lang)=89),\n",
       " Row(lang='cy', count(lang)=123),\n",
       " Row(lang='eu', count(lang)=369),\n",
       " Row(lang='nn', count(lang)=119),\n",
       " Row(lang='yi', count(lang)=17),\n",
       " Row(lang='tl', count(lang)=87),\n",
       " Row(lang='oc', count(lang)=5),\n",
       " Row(lang='hsb', count(lang)=10),\n",
       " Row(lang='tt', count(lang)=125),\n",
       " Row(lang='lo', count(lang)=19),\n",
       " Row(lang='ga', count(lang)=52),\n",
       " Row(lang='ms', count(lang)=217),\n",
       " Row(lang='ceb', count(lang)=63),\n",
       " Row(lang='cv', count(lang)=6),\n",
       " Row(lang='sa', count(lang)=13),\n",
       " Row(lang='sw', count(lang)=49),\n",
       " Row(lang='br', count(lang)=56),\n",
       " Row(lang='uz', count(lang)=23),\n",
       " Row(lang='ku', count(lang)=20),\n",
       " Row(lang='la', count(lang)=52),\n",
       " Row(lang='fy', count(lang)=35),\n",
       " Row(lang='ba', count(lang)=15),\n",
       " Row(lang='tk', count(lang)=6),\n",
       " Row(lang='lb', count(lang)=19),\n",
       " Row(lang='xmf', count(lang)=15),\n",
       " Row(lang='sd', count(lang)=31),\n",
       " Row(lang='dv', count(lang)=28),\n",
       " Row(lang='new', count(lang)=7),\n",
       " Row(lang='krc', count(lang)=8),\n",
       " Row(lang='sh', count(lang)=42),\n",
       " Row(lang='wa', count(lang)=4),\n",
       " Row(lang='or', count(lang)=39),\n",
       " Row(lang='jbo', count(lang)=2),\n",
       " Row(lang='azb', count(lang)=18),\n",
       " Row(lang='nds', count(lang)=18),\n",
       " Row(lang='arz', count(lang)=14),\n",
       " Row(lang='ast', count(lang)=4),\n",
       " Row(lang='mt', count(lang)=7),\n",
       " Row(lang='mhr', count(lang)=7),\n",
       " Row(lang='vo', count(lang)=9),\n",
       " Row(lang='su', count(lang)=7),\n",
       " Row(lang='ce', count(lang)=1),\n",
       " Row(lang='mg', count(lang)=15),\n",
       " Row(lang='gd', count(lang)=7),\n",
       " Row(lang='an', count(lang)=1),\n",
       " Row(lang='jv', count(lang)=2),\n",
       " Row(lang='als', count(lang)=3),\n",
       " Row(lang='sah', count(lang)=2),\n",
       " Row(lang='io', count(lang)=2),\n",
       " Row(lang='war', count(lang)=6),\n",
       " Row(lang='bs', count(lang)=8),\n",
       " Row(lang='scn', count(lang)=1),\n",
       " Row(lang='wuu', count(lang)=2),\n",
       " Row(lang='vep', count(lang)=1),\n",
       " Row(lang='ie', count(lang)=1),\n",
       " Row(lang='ia', count(lang)=1)]"
      ]
     },
     "execution_count": 23,
     "metadata": {},
     "output_type": "execute_result"
    }
   ],
   "source": []
  },
  {
   "cell_type": "code",
   "execution_count": 12,
   "id": "a2e0dd68-4e33-45cb-be81-8a7e423aa8b7",
   "metadata": {},
   "outputs": [
    {
     "name": "stderr",
     "output_type": "stream",
     "text": [
      "[Stage 20:===================================================> (800 + 16) / 825]\r"
     ]
    },
    {
     "name": "stdout",
     "output_type": "stream",
     "text": [
      "+----+\n",
      "|lang|\n",
      "+----+\n",
      "|  en|\n",
      "|null|\n",
      "|  ru|\n",
      "|  zh|\n",
      "|  fr|\n",
      "|  de|\n",
      "|  ja|\n",
      "|  es|\n",
      "|  ar|\n",
      "|  he|\n",
      "|  it|\n",
      "|  tr|\n",
      "|  nl|\n",
      "|  lt|\n",
      "|  pt|\n",
      "|  pl|\n",
      "|  uk|\n",
      "|  vi|\n",
      "|  ro|\n",
      "|  cs|\n",
      "+----+\n",
      "only showing top 20 rows\n",
      "\n"
     ]
    },
    {
     "name": "stderr",
     "output_type": "stream",
     "text": [
      "                                                                                \r"
     ]
    }
   ],
   "source": [
    "df_nokeep.select(\"lang\").distinct().show()"
   ]
  },
  {
   "cell_type": "code",
   "execution_count": 18,
   "id": "7d33b2ff-320e-4ae4-b8ef-4d535af5583b",
   "metadata": {},
   "outputs": [
    {
     "name": "stdout",
     "output_type": "stream",
     "text": [
      "+--------------------+--------------------+--------------------+--------------------+--------------------+---------------+---------------+--------------------+------+--------------------+--------------------+------+-----+----------+----+------+\n",
      "|              digest|                 url|       date_download|       source_domain|          cc_segment|original_length|original_nlines|               title|nlines|         raw_content|         raw_line_id|length|score|perplexity|lang|bucket|\n",
      "+--------------------+--------------------+--------------------+--------------------+--------------------+---------------+---------------+--------------------+------+--------------------+--------------------+------+-----+----------+----+------+\n",
      "|sha1:227OGOO5YHD5...|http://www.istudi...|2019-04-18T11:12:51Z|     www.istudio.com|CC-MAIN-201904181...|           1080|             34|iStudio - Darren ...|     7|Join: 13 Jun 2014...|[10, 11, 14, 17, ...|   751| 0.92|     531.4|  en|  tail|\n",
      "|sha1:22LABVMGWGOY...|http://www.crysta...|2019-04-18T10:23:36Z|www.crystals2love...|CC-MAIN-201904181...|           2561|            133|12 pieces 40ss AQ...|     6|Swarovski Crystal...|[1, 2, 4, 5, 88, ...|   359| 0.75|     833.5|  en|  tail|\n",
      "|sha1:23LMEYVLDJMX...|http://3kidsplus....|2019-04-18T10:23:57Z|        3kidsplus.me|CC-MAIN-201904181...|         443637|           2846|             Archive|  2751|relay 2005 to 200...|[5, 6, 7, 8, 9, 1...|432923| 0.76|    3787.1|  en|  tail|\n",
      "|sha1:23TCULYCGAL4...|http://cryptoconv...|2019-04-18T10:16:38Z|  cryptoconverts.com|CC-MAIN-201904181...|           4622|             46|Coinstar machines...|    11|Coinstar machines...|[0, 2, 3, 4, 5, 6...|  2869| 0.91|     574.3|  en|  tail|\n",
      "|sha1:24CHKWYSYOY6...|https://repositor...|2019-04-18T10:58:15Z|repository.tudelf...|CC-MAIN-201904181...|           2514|             54|Effect of steerin...|    13|Peeters, D.M.J. (...|[16, 17, 18, 22, ...|  1840| 0.82|     616.7|  en|  tail|\n",
      "|sha1:26UMWO4HHXBY...|https://community...|2019-04-18T10:51:49Z|   community.cbr.com|CC-MAIN-201904181...|           9907|            510|       CBR Community|   139|Welcome to the CB...|[43, 44, 47, 49, ...|  3902|  0.8|    1470.5|  en|  tail|\n",
      "|sha1:26XJ35JAUYB3...|https://www.macki...|2019-04-18T10:57:26Z|www.mackinnonmoto...|CC-MAIN-201904181...|           1474|             44|Used GREAT WALL C...|     3|Make (all) GREAT ...|        [14, 30, 31]|   349| 0.93|     982.2|  en|  tail|\n",
      "|sha1:27HKIYTMVONC...|http://www.blog.a...|2019-04-18T10:48:32Z|www.blog.axiopole...|CC-MAIN-201904181...|           6494|            214|BrainShip - Colle...|    20|BrainShip is a co...|[12, 13, 14, 15, ...|  2435|  0.9|     744.4|  en|  tail|\n",
      "|sha1:27U7BBEB3JKP...|https://www.schra...|2019-04-18T11:05:00Z| www.schrammek.co.nz|CC-MAIN-201904181...|           1856|             70|All Day Body Loti...|    19|Intensive moistur...|[45, 46, 47, 50, ...|  1216| 0.77|    1539.1|  en|  tail|\n",
      "|sha1:27WIZHLGOWDV...|http://ywnb.info/...|2019-04-18T10:32:45Z|           ywnb.info|CC-MAIN-201904181...|          19307|            219|Crazy milf porn |...|   118|Crazy milf porn\\n...|[20, 22, 24, 25, ...| 17576| 0.87|    2610.4|  en|  tail|\n",
      "|sha1:2A45UAU5NE42...|https://www.audio...|2019-04-18T11:21:55Z|www.audiodynamix.com|CC-MAIN-201904181...|           5811|            128|AC/DC Battery Pow...|    19|Products/AC/DC Ba...|[11, 26, 29, 32, ...|  1894| 0.75|    2102.1|  en|  tail|\n",
      "|sha1:2AA7LZFF3E5D...|https://halcyon2....|2019-04-18T10:55:43Z|        halcyon2.com|CC-MAIN-201904181...|           2148|             50|Tuncurry and Fors...|    12|Tuncurry and Fors...|[11, 12, 13, 14, ...|  1195| 0.94|     621.3|  en|  tail|\n",
      "|sha1:2ADXWMS4WJLF...|http://otolaryngo...|2019-04-18T11:31:28Z|otolaryngology.ut...|CC-MAIN-201904181...|           7109|            304|Alumni and Friend...|     5|Department of Oto...|[152, 158, 161, 1...|   408| 0.95|     596.8|  en|  tail|\n",
      "|sha1:2AJDOOXVRA5F...|http://www.lashae...|2019-04-18T11:24:05Z|www.lashaecollins...|CC-MAIN-201904181...|           1416|             27|Curtains: Black C...|     3|You are here: Hom...|          [4, 9, 12]|   417| 0.66|    4460.3|  en|  tail|\n",
      "|sha1:2B2HIY6NXNB3...|https://animals.d...|2019-04-18T11:22:55Z|animals.desktopne...|CC-MAIN-201904181...|           5425|            247|Whales Wallpapers...|    24|Animal Wallpapers...|[54, 57, 64, 71, ...|  1222| 0.74|    8185.9|  en|  tail|\n",
      "|sha1:2C6Z2XRTOUPO...|https://www.thefl...|2019-04-18T11:26:38Z|www.theflowerland...|CC-MAIN-201904181...|           4295|            197|Shop by Flowers D...|     7|There is nothing ...|[122, 131, 148, 1...|   998| 0.89|     682.7|  en|  tail|\n",
      "|sha1:2CAVAGIE6SLW...|https://www.compu...|2019-04-18T11:10:09Z|www.computerhelpz...|CC-MAIN-201904181...|           5592|            104|Self Help Links |...|    24|HomeSelf Help Lin...|[25, 31, 35, 36, ...|  4097|  0.9|     815.2|  en|  tail|\n",
      "|sha1:2CJ4ETRYRXIL...|https://beyogi.co...|2019-04-18T10:57:19Z|          beyogi.com|CC-MAIN-201904181...|           7081|            119|Get Bendy: 5 Yoga...|    31|6 Tips for Choosi...|[28, 30, 34, 43, ...|  4981| 0.92|     545.5|  en|  tail|\n",
      "|sha1:2CUV3WVWSFQY...|https://www.oldre...|2019-04-18T10:48:39Z|www.oldrepublicti...|CC-MAIN-201904181...|           1484|             77|Agency State Oper...|     4|Home Locations Ma...|    [53, 57, 61, 68]|   108| 0.55|    7363.2|  en|  tail|\n",
      "|sha1:2DPM6DX77UNH...|http://www.flickr...|2019-04-18T10:33:49Z|      www.flickr.com|CC-MAIN-201904181...|            710|             46|mmmm....pie | caf...|     4|ruminatrix By: ru...|    [25, 26, 27, 28]|   262| 0.99|     744.6|  en|  tail|\n",
      "+--------------------+--------------------+--------------------+--------------------+--------------------+---------------+---------------+--------------------+------+--------------------+--------------------+------+-----+----------+----+------+\n",
      "only showing top 20 rows\n",
      "\n"
     ]
    }
   ],
   "source": [
    "df_nokeep.show()"
   ]
  },
  {
   "cell_type": "code",
   "execution_count": 19,
   "id": "15b82e56-9efb-4ddf-beb2-b97299fe002b",
   "metadata": {},
   "outputs": [
    {
     "name": "stderr",
     "output_type": "stream",
     "text": [
      "                                                                                \r"
     ]
    },
    {
     "data": {
      "text/plain": [
       "0"
      ]
     },
     "execution_count": 19,
     "metadata": {},
     "output_type": "execute_result"
    }
   ],
   "source": [
    "df_nokeep.count()\n",
    "df_nokeep.filter(col(\"lang\") == \"null\").count()"
   ]
  },
  {
   "cell_type": "code",
   "execution_count": 15,
   "id": "2511808d-5038-46f7-b8b4-da5cb35b80ef",
   "metadata": {},
   "outputs": [],
   "source": [
    "# 首先对 \"lang\" 列进行去重\n",
    "distinct_lang_df = df_nokeep.select(\"lang\").distinct()\n",
    "\n",
    "# 对每种语言进行计数\n",
    "lang_counts = df_nokeep.groupBy(\"lang\").agg({\"lang\": \"count\"})\n"
   ]
  },
  {
   "cell_type": "code",
   "execution_count": 17,
   "id": "c7b5449c-54b0-44c9-a190-cadc77d6e218",
   "metadata": {},
   "outputs": [
    {
     "name": "stderr",
     "output_type": "stream",
     "text": [
      "                                                                                \r"
     ]
    },
    {
     "data": {
      "text/plain": [
       "[Row(lang='en', count(lang)=603144),\n",
       " Row(lang=None, count(lang)=0),\n",
       " Row(lang='ru', count(lang)=128466),\n",
       " Row(lang='zh', count(lang)=80653),\n",
       " Row(lang='fr', count(lang)=73058),\n",
       " Row(lang='de', count(lang)=88570),\n",
       " Row(lang='ja', count(lang)=77437),\n",
       " Row(lang='es', count(lang)=64655),\n",
       " Row(lang='ar', count(lang)=8476),\n",
       " Row(lang='he', count(lang)=3295),\n",
       " Row(lang='it', count(lang)=36390),\n",
       " Row(lang='tr', count(lang)=12238),\n",
       " Row(lang='nl', count(lang)=27445),\n",
       " Row(lang='lt', count(lang)=2020),\n",
       " Row(lang='pt', count(lang)=28883),\n",
       " Row(lang='pl', count(lang)=24728),\n",
       " Row(lang='uk', count(lang)=6177),\n",
       " Row(lang='vi', count(lang)=10665),\n",
       " Row(lang='ro', count(lang)=6030),\n",
       " Row(lang='cs', count(lang)=15573),\n",
       " Row(lang='ko', count(lang)=8165),\n",
       " Row(lang='hu', count(lang)=7584),\n",
       " Row(lang='sk', count(lang)=3571),\n",
       " Row(lang='sv', count(lang)=10812),\n",
       " Row(lang='fa', count(lang)=10617),\n",
       " Row(lang='th', count(lang)=4568),\n",
       " Row(lang='sl', count(lang)=1298),\n",
       " Row(lang='el', count(lang)=7685),\n",
       " Row(lang='id', count(lang)=9994),\n",
       " Row(lang='bg', count(lang)=3579),\n",
       " Row(lang='sq', count(lang)=470),\n",
       " Row(lang='et', count(lang)=1336),\n",
       " Row(lang='no', count(lang)=4048),\n",
       " Row(lang='da', count(lang)=5446),\n",
       " Row(lang='fi', count(lang)=5670),\n",
       " Row(lang='ml', count(lang)=391),\n",
       " Row(lang='sr', count(lang)=828),\n",
       " Row(lang='my', count(lang)=110),\n",
       " Row(lang='ur', count(lang)=286),\n",
       " Row(lang='bn', count(lang)=951),\n",
       " Row(lang='mn', count(lang)=140),\n",
       " Row(lang='ca', count(lang)=3089),\n",
       " Row(lang='mk', count(lang)=298),\n",
       " Row(lang='be', count(lang)=313),\n",
       " Row(lang='ne', count(lang)=237),\n",
       " Row(lang='hy', count(lang)=437),\n",
       " Row(lang='ps', count(lang)=77),\n",
       " Row(lang='ug', count(lang)=33),\n",
       " Row(lang='kn', count(lang)=140),\n",
       " Row(lang='hi', count(lang)=1697),\n",
       " Row(lang='kk', count(lang)=282),\n",
       " Row(lang='hr', count(lang)=876),\n",
       " Row(lang='az', count(lang)=715),\n",
       " Row(lang='mr', count(lang)=150),\n",
       " Row(lang='lv', count(lang)=962),\n",
       " Row(lang='as', count(lang)=15),\n",
       " Row(lang='ta', count(lang)=778),\n",
       " Row(lang='is', count(lang)=369),\n",
       " Row(lang='eo', count(lang)=121),\n",
       " Row(lang='bo', count(lang)=42),\n",
       " Row(lang='af', count(lang)=70),\n",
       " Row(lang='ka', count(lang)=523),\n",
       " Row(lang='km', count(lang)=30),\n",
       " Row(lang='am', count(lang)=26),\n",
       " Row(lang='te', count(lang)=226),\n",
       " Row(lang='pnb', count(lang)=17),\n",
       " Row(lang='gl', count(lang)=321),\n",
       " Row(lang='si', count(lang)=99),\n",
       " Row(lang='tg', count(lang)=77),\n",
       " Row(lang='pa', count(lang)=100),\n",
       " Row(lang='ky', count(lang)=81),\n",
       " Row(lang='gu', count(lang)=99),\n",
       " Row(lang='ckb', count(lang)=89),\n",
       " Row(lang='cy', count(lang)=123),\n",
       " Row(lang='eu', count(lang)=369),\n",
       " Row(lang='nn', count(lang)=119),\n",
       " Row(lang='yi', count(lang)=17),\n",
       " Row(lang='tl', count(lang)=87),\n",
       " Row(lang='oc', count(lang)=5),\n",
       " Row(lang='hsb', count(lang)=10),\n",
       " Row(lang='tt', count(lang)=125),\n",
       " Row(lang='lo', count(lang)=19),\n",
       " Row(lang='ga', count(lang)=52),\n",
       " Row(lang='ms', count(lang)=217),\n",
       " Row(lang='ceb', count(lang)=63),\n",
       " Row(lang='cv', count(lang)=6),\n",
       " Row(lang='sa', count(lang)=13),\n",
       " Row(lang='sw', count(lang)=49),\n",
       " Row(lang='br', count(lang)=56),\n",
       " Row(lang='uz', count(lang)=23),\n",
       " Row(lang='ku', count(lang)=20),\n",
       " Row(lang='la', count(lang)=52),\n",
       " Row(lang='fy', count(lang)=35),\n",
       " Row(lang='ba', count(lang)=15),\n",
       " Row(lang='tk', count(lang)=6),\n",
       " Row(lang='lb', count(lang)=19),\n",
       " Row(lang='xmf', count(lang)=15),\n",
       " Row(lang='sd', count(lang)=31),\n",
       " Row(lang='dv', count(lang)=28),\n",
       " Row(lang='new', count(lang)=7),\n",
       " Row(lang='krc', count(lang)=8),\n",
       " Row(lang='sh', count(lang)=42),\n",
       " Row(lang='wa', count(lang)=4),\n",
       " Row(lang='or', count(lang)=39),\n",
       " Row(lang='jbo', count(lang)=2),\n",
       " Row(lang='azb', count(lang)=18),\n",
       " Row(lang='nds', count(lang)=18),\n",
       " Row(lang='arz', count(lang)=14),\n",
       " Row(lang='ast', count(lang)=4),\n",
       " Row(lang='mt', count(lang)=7),\n",
       " Row(lang='mhr', count(lang)=7),\n",
       " Row(lang='vo', count(lang)=9),\n",
       " Row(lang='su', count(lang)=7),\n",
       " Row(lang='ce', count(lang)=1),\n",
       " Row(lang='mg', count(lang)=15),\n",
       " Row(lang='gd', count(lang)=7),\n",
       " Row(lang='an', count(lang)=1),\n",
       " Row(lang='jv', count(lang)=2),\n",
       " Row(lang='als', count(lang)=3),\n",
       " Row(lang='sah', count(lang)=2),\n",
       " Row(lang='io', count(lang)=2),\n",
       " Row(lang='war', count(lang)=6),\n",
       " Row(lang='bs', count(lang)=8),\n",
       " Row(lang='scn', count(lang)=1),\n",
       " Row(lang='wuu', count(lang)=2),\n",
       " Row(lang='vep', count(lang)=1),\n",
       " Row(lang='ie', count(lang)=1),\n",
       " Row(lang='ia', count(lang)=1)]"
      ]
     },
     "execution_count": 17,
     "metadata": {},
     "output_type": "execute_result"
    }
   ],
   "source": [
    "lang_counts.collect()"
   ]
  },
  {
   "cell_type": "code",
   "execution_count": 7,
   "id": "cc0e7055-e89f-4bab-b094-cead5a343e9d",
   "metadata": {},
   "outputs": [
    {
     "name": "stderr",
     "output_type": "stream",
     "text": [
      "[Stage 8:====================================================> (803 + 16) / 825]\r"
     ]
    },
    {
     "name": "stdout",
     "output_type": "stream",
     "text": [
      "+------+----+------+-------------------+----------+----------+-------------------+-------------------+-------------------+\n",
      "|bucket|lang| count|sum_original_length|sum_length|sum_nlines|sum_original_nlines|       length_ratio|       nlines_ratio|\n",
      "+------+----+------+-------------------+----------+----------+-------------------+-------------------+-------------------+\n",
      "|  tail|  en|393731|         2525061403| 980046025|  10406761|           68352621| 0.3881276011092709|0.15225108924499034|\n",
      "|middle|  en|120537|          971723594| 531501860|   3198078|           18023596| 0.5469681535796896| 0.1774383979756315|\n",
      "|   all|null|149888|         1112207560| 335905864|   3905003|           33186661|0.30201724577380146|0.11766784853709748|\n",
      "|  head|  en| 88876|          712600213| 404164082|   1819529|           12204283| 0.5671680622975059|0.14908938116233456|\n",
      "|  tail|  ru| 81920|          547078052| 179232477|   2029848|           16949451|0.32761774365607343|0.11975892316512199|\n",
      "|  tail|  zh| 49357|          214262095| 113548011|   1719323|            8504957| 0.5299491307596894| 0.2021554018438894|\n",
      "|middle|  zh| 15498|           52909822|  26863448|    469547|            1907654| 0.5077213829976597|0.24613845068340484|\n",
      "|middle|  ru| 26185|          205402264| 109759204|    701095|            4207252| 0.5343621918403003| 0.1666396498236854|\n",
      "|  tail|  fr| 47028|          324909272| 105685252|   1259795|            8918514| 0.3252761958729205|0.14125615545370002|\n",
      "|  tail|  de| 55145|          327451079| 122120499|   1379740|            9400422|0.37294272895036024|0.14677426183633033|\n",
      "|middle|  de| 18959|          136344999|  71176095|    462602|            2836926| 0.5220293778431874|0.16306452829576804|\n",
      "|  tail|  ja| 45788|          180189887|  64086537|   1811135|            9023719| 0.3556611198718383|0.20070826673569955|\n",
      "|  head|  ru| 20361|          154816725|  81549196|    442474|            2954296| 0.5267466806315662|0.14977307622526653|\n",
      "|middle|  es| 14162|          107489747|  56693019|    326799|            2101758| 0.5274272252217693|0.15548840542060505|\n",
      "|  tail|  es| 39864|          255519144|  91792712|    976774|            7040075| 0.3592400575668804|0.13874482871276228|\n",
      "|middle|  fr| 16120|          120001408|  59959595|    417106|            2515987| 0.4996574290194995| 0.1657822556316865|\n",
      "|  head|  fr|  9910|           86265932|  46674138|    221013|            1512998| 0.5410494840535659|0.14607620102604232|\n",
      "|middle|  ja| 14915|           59626733|  27094165|    631345|            2591201|0.45439626886819373|0.24364956635938315|\n",
      "|  tail|  ar|  5070|           33865198|  10277467|    153653|             893731| 0.3034816746088418|0.17192309542804265|\n",
      "|middle|  he|   507|            3854668|   2250649|     16058|              81640|  0.583876224878511|0.19669279764821165|\n",
      "+------+----+------+-------------------+----------+----------+-------------------+-------------------+-------------------+\n",
      "only showing top 20 rows\n",
      "\n"
     ]
    },
    {
     "name": "stderr",
     "output_type": "stream",
     "text": [
      "                                                                                \r"
     ]
    }
   ],
   "source": [
    "an_df.show()"
   ]
  },
  {
   "cell_type": "code",
   "execution_count": 8,
   "id": "c7934d19-b675-45cb-9e2d-b56964cd6316",
   "metadata": {},
   "outputs": [
    {
     "ename": "AttributeError",
     "evalue": "'DataFrame' object has no attribute 'sum'",
     "output_type": "error",
     "traceback": [
      "\u001b[0;31m---------------------------------------------------------------------------\u001b[0m",
      "\u001b[0;31mAttributeError\u001b[0m                            Traceback (most recent call last)",
      "Cell \u001b[0;32mIn[8], line 1\u001b[0m\n\u001b[0;32m----> 1\u001b[0m \u001b[43man_df\u001b[49m\u001b[38;5;241;43m.\u001b[39;49m\u001b[43msum\u001b[49m(\u001b[38;5;124m'\u001b[39m\u001b[38;5;124mcount\u001b[39m\u001b[38;5;124m'\u001b[39m)\n",
      "File \u001b[0;32m~/miniconda3/envs/ccnet_spark/lib/python3.9/site-packages/pyspark/sql/dataframe.py:3127\u001b[0m, in \u001b[0;36mDataFrame.__getattr__\u001b[0;34m(self, name)\u001b[0m\n\u001b[1;32m   3094\u001b[0m \u001b[38;5;250m\u001b[39m\u001b[38;5;124;03m\"\"\"Returns the :class:`Column` denoted by ``name``.\u001b[39;00m\n\u001b[1;32m   3095\u001b[0m \n\u001b[1;32m   3096\u001b[0m \u001b[38;5;124;03m.. versionadded:: 1.3.0\u001b[39;00m\n\u001b[0;32m   (...)\u001b[0m\n\u001b[1;32m   3124\u001b[0m \u001b[38;5;124;03m+---+\u001b[39;00m\n\u001b[1;32m   3125\u001b[0m \u001b[38;5;124;03m\"\"\"\u001b[39;00m\n\u001b[1;32m   3126\u001b[0m \u001b[38;5;28;01mif\u001b[39;00m name \u001b[38;5;129;01mnot\u001b[39;00m \u001b[38;5;129;01min\u001b[39;00m \u001b[38;5;28mself\u001b[39m\u001b[38;5;241m.\u001b[39mcolumns:\n\u001b[0;32m-> 3127\u001b[0m     \u001b[38;5;28;01mraise\u001b[39;00m \u001b[38;5;167;01mAttributeError\u001b[39;00m(\n\u001b[1;32m   3128\u001b[0m         \u001b[38;5;124m\"\u001b[39m\u001b[38;5;124m'\u001b[39m\u001b[38;5;132;01m%s\u001b[39;00m\u001b[38;5;124m'\u001b[39m\u001b[38;5;124m object has no attribute \u001b[39m\u001b[38;5;124m'\u001b[39m\u001b[38;5;132;01m%s\u001b[39;00m\u001b[38;5;124m'\u001b[39m\u001b[38;5;124m\"\u001b[39m \u001b[38;5;241m%\u001b[39m (\u001b[38;5;28mself\u001b[39m\u001b[38;5;241m.\u001b[39m\u001b[38;5;18m__class__\u001b[39m\u001b[38;5;241m.\u001b[39m\u001b[38;5;18m__name__\u001b[39m, name)\n\u001b[1;32m   3129\u001b[0m     )\n\u001b[1;32m   3130\u001b[0m jc \u001b[38;5;241m=\u001b[39m \u001b[38;5;28mself\u001b[39m\u001b[38;5;241m.\u001b[39m_jdf\u001b[38;5;241m.\u001b[39mapply(name)\n\u001b[1;32m   3131\u001b[0m \u001b[38;5;28;01mreturn\u001b[39;00m Column(jc)\n",
      "\u001b[0;31mAttributeError\u001b[0m: 'DataFrame' object has no attribute 'sum'"
     ]
    }
   ],
   "source": [
    "an_df.sum('count')"
   ]
  },
  {
   "cell_type": "code",
   "execution_count": null,
   "id": "ed6beb79-c046-4d52-ac95-ce5f4935ce87",
   "metadata": {},
   "outputs": [],
   "source": []
  },
  {
   "cell_type": "code",
   "execution_count": null,
   "id": "f487ccc8-9c8d-46ff-9e65-396cb1d46712",
   "metadata": {},
   "outputs": [],
   "source": []
  },
  {
   "cell_type": "code",
   "execution_count": 22,
   "id": "7a8a3dff-d8d9-436f-b5f5-385252ef610c",
   "metadata": {
    "scrolled": true
   },
   "outputs": [
    {
     "name": "stderr",
     "output_type": "stream",
     "text": [
      "24/04/24 17:17:20 WARN DataSource: All paths were ignored:\n",
      "  file:/metadata0/wxl_data/cached_data/result_sdf_parquet_nokeep/2019-18/_sampleRate_100_min_len_300.parquet\n",
      "[Stage 22:===================================================> (804 + 16) / 825]\r"
     ]
    },
    {
     "name": "stdout",
     "output_type": "stream",
     "text": [
      "+------+----+------+-------------------+----------+----------+-------------------+-------------------+-------------------+\n",
      "|bucket|lang| count|sum_original_length|sum_length|sum_nlines|sum_original_nlines|       length_ratio|       nlines_ratio|\n",
      "+------+----+------+-------------------+----------+----------+-------------------+-------------------+-------------------+\n",
      "|  tail|  en|393731|         2525061403| 980046025|  10406761|           68352621| 0.3881276011092709|0.15225108924499034|\n",
      "|middle|  en|120537|          971723594| 531501860|   3198078|           18023596| 0.5469681535796896| 0.1774383979756315|\n",
      "|   all|null|149888|         1112207560| 335905864|   3905003|           33186661|0.30201724577380146|0.11766784853709748|\n",
      "|  head|  en| 88876|          712600213| 404164082|   1819529|           12204283| 0.5671680622975059|0.14908938116233456|\n",
      "|  tail|  ru| 81920|          547078052| 179232477|   2029848|           16949451|0.32761774365607343|0.11975892316512199|\n",
      "|  tail|  zh| 49357|          214262095| 113548011|   1719323|            8504957| 0.5299491307596894| 0.2021554018438894|\n",
      "|middle|  zh| 15498|           52909822|  26863448|    469547|            1907654| 0.5077213829976597|0.24613845068340484|\n",
      "|middle|  ru| 26185|          205402264| 109759204|    701095|            4207252| 0.5343621918403003| 0.1666396498236854|\n",
      "|  tail|  fr| 47028|          324909272| 105685252|   1259795|            8918514| 0.3252761958729205|0.14125615545370002|\n",
      "|  tail|  de| 55145|          327451079| 122120499|   1379740|            9400422|0.37294272895036024|0.14677426183633033|\n",
      "|middle|  de| 18959|          136344999|  71176095|    462602|            2836926| 0.5220293778431874|0.16306452829576804|\n",
      "|  tail|  ja| 45788|          180189887|  64086537|   1811135|            9023719| 0.3556611198718383|0.20070826673569955|\n",
      "|  head|  ru| 20361|          154816725|  81549196|    442474|            2954296| 0.5267466806315662|0.14977307622526653|\n",
      "|middle|  es| 14162|          107489747|  56693019|    326799|            2101758| 0.5274272252217693|0.15548840542060505|\n",
      "|  tail|  es| 39864|          255519144|  91792712|    976774|            7040075| 0.3592400575668804|0.13874482871276228|\n",
      "|middle|  fr| 16120|          120001408|  59959595|    417106|            2515987| 0.4996574290194995| 0.1657822556316865|\n",
      "|  head|  fr|  9910|           86265932|  46674138|    221013|            1512998| 0.5410494840535659|0.14607620102604232|\n",
      "|middle|  ja| 14915|           59626733|  27094165|    631345|            2591201|0.45439626886819373|0.24364956635938315|\n",
      "|  tail|  ar|  5070|           33865198|  10277467|    153653|             893731| 0.3034816746088418|0.17192309542804265|\n",
      "|middle|  he|   507|            3854668|   2250649|     16058|              81640|  0.583876224878511|0.19669279764821165|\n",
      "|  head|  de| 14466|          108278993|  57073454|    274323|            2025422| 0.5270962761908952|0.13543992313700554|\n",
      "|  tail|  it| 22012|          152027445|  55624768|    546863|            4216556| 0.3658863569008872|0.12969423387238305|\n",
      "|  head|  ja| 16734|           55244033|  21484102|    452756|            2576513|0.38889452549563136|0.17572432198090987|\n",
      "|  head|  zh| 15798|           50588804|  22709457|    368478|            1886696|0.44890282442731794|0.19530332390591806|\n",
      "|   all|  tr| 12238|           78620212|  30804539|    263886|            1914005|0.39181449930458084| 0.1378711131893595|\n",
      "|  head|  nl|  4178|           25936532|  13885726|     70410|             532709| 0.5353732719547857| 0.1321734755748448|\n",
      "|middle|  lt|   462|            4209337|   2386814|     14752|              75144| 0.5670284892846545| 0.1963164058341318|\n",
      "|  tail|  pt| 17816|          122664585|  37963371|    455254|            3727807| 0.3094892547836851|0.12212381166728857|\n",
      "|  head|  it|  5783|           46933705|  24475048|    111477|             822219| 0.5214812680993329|0.13558066646477399|\n",
      "|  tail|  nl| 17713|           97610110|  35726323|    407876|            3097868| 0.3660104778080877|0.13166345370428953|\n",
      "|middle|  pl|  5481|           38781937|  18113644|    129251|             845983|0.46706393236624566|0.15278202989894596|\n",
      "|middle|  uk|  1190|            9694140|   5108774|     38077|             186813| 0.5269961028002484|0.20382414500061558|\n",
      "|  tail|  pl| 15193|           98509679|  29523903|    366766|            3098107| 0.2997056055781077|0.11838390346104896|\n",
      "|  head|  es| 10629|           78365588|  42383090|    200659|            1430405| 0.5408380270176751|0.14028124901688682|\n",
      "|   all|  vi| 10665|           83299296|  29629947|    281326|            2021685| 0.3557046508532317|0.13915422036568506|\n",
      "|middle|  ro|  1453|           12832082|   6221349|     34112|             223246|0.48482771540892583|0.15280005016887202|\n",
      "|  head|  cs|  2208|           12729337|   5972055|     38992|             289918|  0.469156798975469| 0.1344932015259487|\n",
      "|middle|  it|  8595|           64779488|  32251800|    187296|            1286667| 0.4978705605082893| 0.1455668016666317|\n",
      "|  tail|  hu|  4771|           32421000|   9510729|    119182|            1103435| 0.2933508836864995|0.10800998699515603|\n",
      "|middle|  ko|   398|            2224342|    713003|     10591|              94746| 0.3205455815697406|0.11178308319084711|\n",
      "|  head|  pt|  5029|           42615378|  18353158|     92668|             953195| 0.4306698394180617|0.09721830265580494|\n",
      "|   all|  sk|  3571|           22545729|   7850716|     75402|             680782| 0.3482130030038062|0.11075792250676428|\n",
      "|   all|  sv| 10812|           70116158|  29884521|    256089|            1860744|0.42621446828276016|0.13762720718164348|\n",
      "|  tail|  fa|  6712|           52371863|  13611604|    178560|            1654563|0.25990299409436707|0.10791973469731887|\n",
      "|   all|  th|  4568|           26249141|   9920527|    117416|             675427| 0.3779372056403674|0.17383965994844744|\n",
      "|  head|  pl|  4054|           28867580|  14129171|     75684|             559942|  0.489447712624335|0.13516399912848118|\n",
      "|   all|  sl|  1298|           10296437|   4137179|     37314|             285106|0.40180685804225286| 0.1308776384923502|\n",
      "|  head|  ar|  1602|           10912558|   5035399|     37410|             252113| 0.4614315910165151|0.14838584285617956|\n",
      "|middle|  pt|  6038|           52433521|  21287358|    136125|            1232627|0.40598757424663506|0.11043486796898007|\n",
      "|middle|  nl|  5554|           33965668|  17015317|    111814|             769470| 0.5009563480394379| 0.1453130076546194|\n",
      "+------+----+------+-------------------+----------+----------+-------------------+-------------------+-------------------+\n",
      "only showing top 50 rows\n",
      "\n"
     ]
    },
    {
     "name": "stderr",
     "output_type": "stream",
     "text": [
      "                                                                                \r"
     ]
    }
   ],
   "source": []
  },
  {
   "cell_type": "code",
   "execution_count": 23,
   "id": "4ba2bcc6-1f64-4369-bbf4-52b22c244192",
   "metadata": {},
   "outputs": [
    {
     "data": {
      "text/plain": [
       "DataFrame[digest: string, url: string, date_download: string, source_domain: string, cc_segment: string, original_length: int, original_nlines: bigint, title: string, nlines: bigint, raw_content: string, raw_line_id: array<int>, length: int, score: float, perplexity: float, lang: string, bucket: string]"
      ]
     },
     "execution_count": 23,
     "metadata": {},
     "output_type": "execute_result"
    }
   ],
   "source": [
    "aggregated_df"
   ]
  },
  {
   "cell_type": "code",
   "execution_count": 24,
   "id": "a0160284-6070-482e-9951-e0aa094bff53",
   "metadata": {
    "scrolled": true
   },
   "outputs": [
    {
     "name": "stderr",
     "output_type": "stream",
     "text": [
      "24/04/24 17:17:30 WARN DataSource: All paths were ignored:\n",
      "  file:/metadata0/wxl_data/cached_data/result_sdf_parquet_keep_dup/2019-18/_sampleRate_100_min_len_300.parquet\n",
      "[Stage 27:====================================================>(806 + 14) / 820]\r"
     ]
    },
    {
     "name": "stdout",
     "output_type": "stream",
     "text": [
      "+------+----+------+-------------------+----------+----------+-------------------+-------------------+-------------------+\n",
      "|bucket|lang| count|sum_original_length|sum_length|sum_nlines|sum_original_nlines|       length_ratio|       nlines_ratio|\n",
      "+------+----+------+-------------------+----------+----------+-------------------+-------------------+-------------------+\n",
      "|  tail|  en|444027|         2773354838|1279649452|  15639698|           76226491| 0.4614084842179146|0.20517405162989857|\n",
      "|   all|null|144335|         1125469806| 448723394|   5910575|           32780403|0.39869874039073067|0.18030818596098408|\n",
      "|middle|  en|113948|          951540264| 583207972|   3772790|           16705055| 0.6129093997014508| 0.2258472061301205|\n",
      "|  tail|  ru| 91321|          595805905| 243268990|   3366374|           18751140| 0.4083024151967745|0.17952903130156353|\n",
      "|  head|  en| 72827|          616805975| 387317929|   1838415|            9796985| 0.6279412727803099|0.18765109878192118|\n",
      "|  tail|  zh| 54130|          245562800| 131048018|   2489774|            9150078| 0.5336639670178056| 0.2721041285112542|\n",
      "|middle|  zh| 15325|           55206184|  30603162|    585271|            1910764| 0.5543430062110433| 0.3063020864952448|\n",
      "|middle|  ru| 24688|          198106873| 117218830|    852545|            3819727| 0.5916949181263388| 0.2231952702378992|\n",
      "|  tail|  ja| 50266|          191069203|  83635397|   2629862|            9682959|0.43772306414027384| 0.2715969364323447|\n",
      "|  tail|  de| 63302|          365386972| 165006570|   2271033|           10788932| 0.4515940157822595|0.21049655331964276|\n",
      "|  tail|  fr| 53238|          346310820| 144582499|   2087675|            9911808| 0.4174934499592014|0.21062504439149748|\n",
      "|middle|  de| 17940|          132538656|  77876266|    560612|            2604466| 0.5875739829442664|0.21525026627339347|\n",
      "|  head|  ru| 17131|          135892984|  80310063|    480397|            2400379| 0.5909802010087585| 0.2001338122021564|\n",
      "|  tail|  es| 45564|          285101846| 125486450|   1602254|            7949510| 0.4401460452136111|0.20155380646102716|\n",
      "|middle|  es| 13487|          105490533|  62400971|    398642|            1940594| 0.5915314789432337|0.20542266955375518|\n",
      "|middle|  ja| 14523|           58070937|  30365863|    758685|            2511623| 0.5229098163165509|0.30206961793230913|\n",
      "|  tail|  it| 25451|          169368198|  75969486|    927860|            4690020| 0.4485463439836562|0.19783710943663355|\n",
      "|middle|  fr| 15233|          119584797|  68309019|    524891|            2357853| 0.5712182544408216|0.22261396278733236|\n",
      "|  head|  fr|  7915|           74745042|  44304936|    224785|            1191356| 0.5927474895257936|0.18867995796386638|\n",
      "|  head|  de| 11732|           94348503|  55725177|    289193|            1574450|   0.59063127901457|0.18367874495855696|\n",
      "|  tail|  ar|  5790|           38416345|  15298797|    262270|            1042622| 0.3982366620249792| 0.2515484998398269|\n",
      "|middle|  he|   462|            3537832|   2360726|     19223|              68898| 0.6672804135414004|0.27900664750791027|\n",
      "|  head|  zh| 13616|           44765487|  22847630|    411739|            1625300| 0.5103849311412607|0.25333107733956806|\n",
      "|  head|  ja| 14810|           50666945|  23904215|    555553|            2306305| 0.4717911253579627|0.24088444503220519|\n",
      "|   all|  tr| 12841|           81798737|  38334303|    421670|            2008912| 0.4686417468768497| 0.2098996869947514|\n",
      "|  tail|  cs| 12244|           67955518|  27230639|    431093|            2244268| 0.4007126985626097|0.19208623925484836|\n",
      "|  tail|  pt| 20567|          141352849|  54795138|    790900|            4380836| 0.3876479207009121|0.18053631772565784|\n",
      "|  head|  nl|  3266|           21265742|  12889210|     73397|             406376| 0.6061020584186528| 0.1806135204834931|\n",
      "|  tail|  pl| 17593|          111598292|  43664623|    668305|            3527337|0.39126605091769684|0.18946446001615383|\n",
      "|  tail|  nl| 20783|          110857784|  49660920|    720774|            3560733|0.44796962566020626|0.20242292808812118|\n",
      "|middle|  lt|   447|            4241186|   2630503|     18939|              71589| 0.6202281625941423|0.26455181661987176|\n",
      "|  head|  it|  4637|           38194267|  22701260|    113142|             621769| 0.5943630231207212|0.18196790126236592|\n",
      "|   all|  vi| 11246|           85453022|  37479688|    448037|            2132200|0.43859991282695654|0.21012897476784542|\n",
      "|middle|  it|  8012|           63112759|  35624267|    234055|            1201702| 0.5644542809481677|0.19476958513841203|\n",
      "|middle|  pl|  5234|           37603335|  20541785|    163925|             777212|  0.546275616245208| 0.2109141392567279|\n",
      "|middle|  uk|  1094|            8829978|   5370013|     45270|             165245| 0.6081570078657048|0.27395685194710884|\n",
      "|  head|  es|  8452|           64250976|  38378878|    193663|            1122621| 0.5973275487675083|0.17250968937869504|\n",
      "|  tail|  fa|  7501|           57992025|  21392844|    355555|            1837546|0.36889286069938065|0.19349447578455178|\n",
      "|   all|  sv| 11432|           73556879|  36377107|    410171|            1990720| 0.4945439161441311|0.20604153271178266|\n",
      "|  tail|  hu|  5403|           35675603|  13565162|    218393|            1248686| 0.3802363761027389|0.17489825304359943|\n",
      "|   all|  sk|  3883|           24103880|  10127584|    135081|             735617|  0.420164056575124|0.18362952460315626|\n",
      "|middle|  ro|  1368|           12184188|   6717774|     42609|             204062|   0.55135180120333|0.20880418696278583|\n",
      "|middle|  ko|   348|            2009197|    824082|     15320|              82369| 0.4101549026800259|0.18599230292950017|\n",
      "|  head|  cs|  1793|           10514315|   5783835|     43498|             224302| 0.5500914705332682|0.19392604613422976|\n",
      "|   all|  th|  4813|           27517045|  12616554|    177888|             713819| 0.4584995954325764|0.24920603122079968|\n",
      "|middle|  pt|  5764|           49722384|  23797082|    176454|            1124261|0.47859897465897855|0.15695109943331664|\n",
      "|  head|  pt|  4150|           34513134|  17388736|     94305|             724640| 0.5038295276227305|0.13014048355045263|\n",
      "|  tail|  el|  5996|           41345856|  15457502|    245654|            1266914|0.37385855549828256|0.19389950699100333|\n",
      "|   all|  sl|  1415|           10793147|   5152437|     63049|             304488| 0.4773804155544254| 0.2070656314862983|\n",
      "|  head|  ar|  1307|            9123549|   4924763|     40544|             198793| 0.5397858881450629| 0.2039508433395542|\n",
      "+------+----+------+-------------------+----------+----------+-------------------+-------------------+-------------------+\n",
      "only showing top 50 rows\n",
      "\n"
     ]
    },
    {
     "name": "stderr",
     "output_type": "stream",
     "text": [
      "                                                                                \r"
     ]
    }
   ],
   "source": [
    "df_keep=get_result(\"result_sdf_parquet_keep_dup\")\n",
    "analy_df(df_keep)"
   ]
  },
  {
   "cell_type": "code",
   "execution_count": 17,
   "id": "47296601-6958-4852-b309-bcd90a139bc9",
   "metadata": {
    "scrolled": true
   },
   "outputs": [
    {
     "name": "stderr",
     "output_type": "stream",
     "text": [
      "[Stage 19:===============================>                       (16 + 12) / 28]\r"
     ]
    },
    {
     "name": "stdout",
     "output_type": "stream",
     "text": [
      "+--------------------+--------------------+--------------------+--------------------+--------------------+---------------+---------------+--------------------+------+--------------------+--------------------+------+-----+----------+----+------+\n",
      "|              digest|                 url|       date_download|       source_domain|          cc_segment|original_length|original_nlines|               title|nlines|         raw_content|         raw_line_id|length|score|perplexity|lang|bucket|\n",
      "+--------------------+--------------------+--------------------+--------------------+--------------------+---------------+---------------+--------------------+------+--------------------+--------------------+------+-----+----------+----+------+\n",
      "|sha1:22FDQAZTHZFG...|https://www.proz....|2019-04-18T11:06:20Z|        www.proz.com|CC-MAIN-201904181...|           9207|            404|Working magic in ...|     8|Translation - art...|[254, 258, 259, 2...|  1193|  0.9|     314.7|  en|  head|\n",
      "|sha1:225F4EG7W6SB...|https://www.bnd.c...|2019-04-18T10:27:15Z|         www.bnd.com|CC-MAIN-201904181...|           7101|             96|Rep. Rodney Davis...|    22|Davis said he did...|[0, 1, 2, 3, 4, 5...|  4921| 0.98|     257.8|  en|  head|\n",
      "|sha1:24MOEUYL2RA2...|https://educarere...|2019-04-18T11:33:01Z|educarerecycling.com|CC-MAIN-201904181...|           1351|             51|Other Services - ...|     3|Other Servicesadm...|        [24, 25, 28]|   252| 0.82|     238.8|  en|  head|\n",
      "|sha1:2GTGZ4GYUPIL...|https://noiseheat...|2019-04-18T11:00:31Z|  noiseheatpower.com|CC-MAIN-201904181...|           5574|             23|vision on: the ar...|    13|Vision on: the fu...|[8, 9, 10, 11, 12...|  5417| 0.97|     333.6|  en|  head|\n",
      "|sha1:24ONNLCLZUBN...|http://www.okmag....|2019-04-18T10:48:55Z|       www.okmag.com|CC-MAIN-201904181...|           6438|            221|Your Health | Okl...|    30|Home Life & Style...|[127, 138, 139, 1...|  1996| 0.92|     335.0|  en|  head|\n",
      "|sha1:2HHBNTOP4HNR...|https://kool1079....|2019-04-18T10:41:04Z|        kool1079.com|CC-MAIN-201904181...|           3991|            107|Kobe Bryant Liste...|    13|Kobe Bryant Liste...|[70, 74, 75, 76, ...|  2584| 0.96|     159.8|  en|  head|\n",
      "|sha1:25E2XMIXTN4U...|https://www.goret...|2019-04-18T11:13:20Z|     www.goretro.com|CC-MAIN-201904181...|           8376|            356|And Then There's ...|    13|Home RIP And Then...|[20, 22, 26, 27, ...|  1803| 0.97|     332.3|  en|  head|\n",
      "|sha1:2K2CYT2WQR74...|https://www.wikid...|2019-04-18T10:44:55Z|   www.wikidates.org|CC-MAIN-201904181...|           2165|             71|22 days from toda...|     4|• 22 days from to...|    [41, 55, 57, 58]|   259| 0.98|     213.6|  en|  head|\n",
      "|sha1:275SBRFPOERQ...|http://robec.net/...|2019-04-18T10:44:29Z|           robec.net|CC-MAIN-201904181...|           2183|             79|Follow Me | Offic...|    11|Home→Blog→Follow ...|[24, 36, 39, 66, ...|   909| 0.86|     224.9|  en|  head|\n",
      "|sha1:2MBGHACZLORE...|http://borg-rail....|2019-04-18T11:24:12Z|       borg-rail.com|CC-MAIN-201904181...|           2166|             16|﻿ Finescale Track...|     7|Finescale Bespoke...|[0, 1, 2, 3, 4, 5...|  1613| 0.96|     317.4|  en|  head|\n",
      "|sha1:26GMCOGYHFQM...|https://theboywho...|2019-04-18T11:17:59Z|theboywhoprocrast...|CC-MAIN-201904181...|          10736|            157|Unlocking the Pot...|    58|By The Boy Who Pr...|[14, 15, 16, 17, ...|  8397| 0.96|     290.1|  en|  head|\n",
      "|sha1:2MIVE2QFL4BY...|https://www.publi...|2019-04-18T11:07:55Z|www.public-health...|CC-MAIN-201904181...|           3899|            150|UI research impro...|     8|UI research impro...|[82, 84, 85, 86, ...|  1421| 0.95|     337.6|  en|  head|\n",
      "|sha1:25SISZDE3KCT...|https://thequietu...|2019-04-18T11:31:59Z|      thequietus.com|CC-MAIN-201904181...|          20389|            217|The Quietus | Fea...|    51|Tome On The Range...|[12, 13, 14, 15, ...| 16794| 0.96|     248.9|  en|  head|\n",
      "|sha1:2O6KZL2WH6DZ...|http://alluringcr...|2019-04-18T11:02:27Z|alluringcreations...|CC-MAIN-201904181...|          25224|            294|Dorian Gray Syndr...|    31|Tag Archives: Dor...|[14, 16, 18, 19, ...|  6748| 0.96|     215.7|  en|  head|\n",
      "|sha1:2A76FT7YOJZW...|http://www.blogcl...|2019-04-18T11:14:59Z|   www.blogcloro.com|CC-MAIN-201904181...|           5072|             47|Ways to Handle Di...|    21|Home » IT Watch »...|[8, 10, 11, 12, 1...|  4249| 0.94|     274.9|  en|  head|\n",
      "|sha1:2S5DSJH76IBW...|https://www.intel...|2019-04-18T10:22:00Z| www.intellinews.com|CC-MAIN-201904181...|          20342|            459|bne IntelliNews -...|     8|State electricity...|[266, 267, 268, 2...|  1637| 0.95|     155.6|  en|  head|\n",
      "|sha1:26D6MC5JT7JL...|https://www.asian...|2019-04-18T10:16:00Z|    www.asianage.com|CC-MAIN-201904181...|           5601|            167|Defiant Mugabe ma...|    21|World, Africa\\nDe...|[103, 104, 106, 1...|  2902| 0.97|     282.2|  en|  head|\n",
      "|sha1:2YSSGQD4MUCP...|http://www8.123mo...|2019-04-18T11:21:20Z|www8.123moviesfre...|CC-MAIN-201904181...|          10245|            320|Watch Lauren Coha...|    24|Death Race 2\\nExp...|[124, 130, 131, 1...|  3278| 0.74|     230.1|  en|  head|\n",
      "|sha1:2AHOYG4B2EAG...|https://fame-hung...|2019-04-18T10:25:32Z|     fame-hungry.com|CC-MAIN-201904181...|           8453|            277|The Diary of Anne...|     6|She was just a sm...|[51, 52, 53, 54, ...|  1036| 0.89|     260.6|  en|  head|\n",
      "|sha1:32FUP3PR2MZE...|https://animalsci...|2019-04-18T10:14:06Z|animalscience.tam...|CC-MAIN-201904181...|           3213|             89|Temple Grandin re...|    11|Temple Grandin re...|[51, 52, 53, 54, ...|  1582| 0.95|     274.0|  en|  head|\n",
      "+--------------------+--------------------+--------------------+--------------------+--------------------+---------------+---------------+--------------------+------+--------------------+--------------------+------+-----+----------+----+------+\n",
      "only showing top 20 rows\n",
      "\n"
     ]
    },
    {
     "name": "stderr",
     "output_type": "stream",
     "text": [
      "                                                                                \r"
     ]
    }
   ],
   "source": [
    "aggregated_df.filter(aggregated_df['lang'] == 'en').orderBy('bucket').show()"
   ]
  },
  {
   "cell_type": "code",
   "execution_count": 8,
   "id": "b719856e-51e1-42d6-b44b-f5bb98ce95bf",
   "metadata": {},
   "outputs": [
    {
     "ename": "AnalysisException",
     "evalue": "[UNRESOLVED_COLUMN.WITH_SUGGESTION] A column or function parameter with name `length_ratio` cannot be resolved. Did you mean one of the following? [`length`, `lang`, `digest`, `perplexity`, `title`].;\n'Project [bucket#15, 'length_ratio]\n+- Sort [bucket#15 ASC NULLS FIRST], true\n   +- Filter (lang#14 = en)\n      +- Relation [digest#0,url#1,date_download#2,source_domain#3,cc_segment#4,original_length#5,original_nlines#6L,title#7,nlines#8L,raw_content#9,raw_line_id#10,length#11,score#12,perplexity#13,lang#14,bucket#15] parquet\n",
     "output_type": "error",
     "traceback": [
      "\u001b[0;31m---------------------------------------------------------------------------\u001b[0m",
      "\u001b[0;31mAnalysisException\u001b[0m                         Traceback (most recent call last)",
      "Cell \u001b[0;32mIn[8], line 5\u001b[0m\n\u001b[1;32m      2\u001b[0m aggregated_df\u001b[38;5;241m=\u001b[39mdf_nokeep\n\u001b[1;32m      3\u001b[0m \u001b[38;5;66;03m# 从聚合后的DataFrame中提取每种语言的数据\u001b[39;00m\n\u001b[1;32m      4\u001b[0m lang_data \u001b[38;5;241m=\u001b[39m {\n\u001b[0;32m----> 5\u001b[0m     \u001b[38;5;124m'\u001b[39m\u001b[38;5;124men\u001b[39m\u001b[38;5;124m'\u001b[39m: \u001b[43maggregated_df\u001b[49m\u001b[38;5;241;43m.\u001b[39;49m\u001b[43mfilter\u001b[49m\u001b[43m(\u001b[49m\u001b[43maggregated_df\u001b[49m\u001b[43m[\u001b[49m\u001b[38;5;124;43m'\u001b[39;49m\u001b[38;5;124;43mlang\u001b[39;49m\u001b[38;5;124;43m'\u001b[39;49m\u001b[43m]\u001b[49m\u001b[43m \u001b[49m\u001b[38;5;241;43m==\u001b[39;49m\u001b[43m \u001b[49m\u001b[38;5;124;43m'\u001b[39;49m\u001b[38;5;124;43men\u001b[39;49m\u001b[38;5;124;43m'\u001b[39;49m\u001b[43m)\u001b[49m\u001b[38;5;241;43m.\u001b[39;49m\u001b[43morderBy\u001b[49m\u001b[43m(\u001b[49m\u001b[38;5;124;43m'\u001b[39;49m\u001b[38;5;124;43mbucket\u001b[39;49m\u001b[38;5;124;43m'\u001b[39;49m\u001b[43m)\u001b[49m\u001b[38;5;241;43m.\u001b[39;49m\u001b[43mselect\u001b[49m\u001b[43m(\u001b[49m\u001b[38;5;124;43m'\u001b[39;49m\u001b[38;5;124;43mbucket\u001b[39;49m\u001b[38;5;124;43m'\u001b[39;49m\u001b[43m,\u001b[49m\u001b[43m \u001b[49m\u001b[38;5;124;43m'\u001b[39;49m\u001b[38;5;124;43mlength_ratio\u001b[39;49m\u001b[38;5;124;43m'\u001b[39;49m\u001b[43m)\u001b[49m\u001b[38;5;241m.\u001b[39mcollect(),\n\u001b[1;32m      6\u001b[0m     \u001b[38;5;124m'\u001b[39m\u001b[38;5;124mru\u001b[39m\u001b[38;5;124m'\u001b[39m: aggregated_df\u001b[38;5;241m.\u001b[39mfilter(aggregated_df[\u001b[38;5;124m'\u001b[39m\u001b[38;5;124mlang\u001b[39m\u001b[38;5;124m'\u001b[39m] \u001b[38;5;241m==\u001b[39m \u001b[38;5;124m'\u001b[39m\u001b[38;5;124mru\u001b[39m\u001b[38;5;124m'\u001b[39m)\u001b[38;5;241m.\u001b[39morderBy(\u001b[38;5;124m'\u001b[39m\u001b[38;5;124mbucket\u001b[39m\u001b[38;5;124m'\u001b[39m)\u001b[38;5;241m.\u001b[39mselect(\u001b[38;5;124m'\u001b[39m\u001b[38;5;124mbucket\u001b[39m\u001b[38;5;124m'\u001b[39m, \u001b[38;5;124m'\u001b[39m\u001b[38;5;124mlength_ratio\u001b[39m\u001b[38;5;124m'\u001b[39m)\u001b[38;5;241m.\u001b[39mcollect(),\n\u001b[1;32m      7\u001b[0m     \u001b[38;5;124m'\u001b[39m\u001b[38;5;124mzh\u001b[39m\u001b[38;5;124m'\u001b[39m: aggregated_df\u001b[38;5;241m.\u001b[39mfilter(aggregated_df[\u001b[38;5;124m'\u001b[39m\u001b[38;5;124mlang\u001b[39m\u001b[38;5;124m'\u001b[39m] \u001b[38;5;241m==\u001b[39m \u001b[38;5;124m'\u001b[39m\u001b[38;5;124mzh\u001b[39m\u001b[38;5;124m'\u001b[39m)\u001b[38;5;241m.\u001b[39morderBy(\u001b[38;5;124m'\u001b[39m\u001b[38;5;124mbucket\u001b[39m\u001b[38;5;124m'\u001b[39m)\u001b[38;5;241m.\u001b[39mselect(\u001b[38;5;124m'\u001b[39m\u001b[38;5;124mbucket\u001b[39m\u001b[38;5;124m'\u001b[39m, \u001b[38;5;124m'\u001b[39m\u001b[38;5;124mlength_ratio\u001b[39m\u001b[38;5;124m'\u001b[39m)\u001b[38;5;241m.\u001b[39mcollect(),\n\u001b[1;32m      8\u001b[0m     \u001b[38;5;124m'\u001b[39m\u001b[38;5;124mfr\u001b[39m\u001b[38;5;124m'\u001b[39m: aggregated_df\u001b[38;5;241m.\u001b[39mfilter(aggregated_df[\u001b[38;5;124m'\u001b[39m\u001b[38;5;124mlang\u001b[39m\u001b[38;5;124m'\u001b[39m] \u001b[38;5;241m==\u001b[39m \u001b[38;5;124m'\u001b[39m\u001b[38;5;124mfr\u001b[39m\u001b[38;5;124m'\u001b[39m)\u001b[38;5;241m.\u001b[39morderBy(\u001b[38;5;124m'\u001b[39m\u001b[38;5;124mbucket\u001b[39m\u001b[38;5;124m'\u001b[39m)\u001b[38;5;241m.\u001b[39mselect(\u001b[38;5;124m'\u001b[39m\u001b[38;5;124mbucket\u001b[39m\u001b[38;5;124m'\u001b[39m, \u001b[38;5;124m'\u001b[39m\u001b[38;5;124mlength_ratio\u001b[39m\u001b[38;5;124m'\u001b[39m)\u001b[38;5;241m.\u001b[39mcollect(),\n\u001b[1;32m      9\u001b[0m     \u001b[38;5;124m'\u001b[39m\u001b[38;5;124mde\u001b[39m\u001b[38;5;124m'\u001b[39m: aggregated_df\u001b[38;5;241m.\u001b[39mfilter(aggregated_df[\u001b[38;5;124m'\u001b[39m\u001b[38;5;124mlang\u001b[39m\u001b[38;5;124m'\u001b[39m] \u001b[38;5;241m==\u001b[39m \u001b[38;5;124m'\u001b[39m\u001b[38;5;124mde\u001b[39m\u001b[38;5;124m'\u001b[39m)\u001b[38;5;241m.\u001b[39morderBy(\u001b[38;5;124m'\u001b[39m\u001b[38;5;124mbucket\u001b[39m\u001b[38;5;124m'\u001b[39m)\u001b[38;5;241m.\u001b[39mselect(\u001b[38;5;124m'\u001b[39m\u001b[38;5;124mbucket\u001b[39m\u001b[38;5;124m'\u001b[39m, \u001b[38;5;124m'\u001b[39m\u001b[38;5;124mlength_ratio\u001b[39m\u001b[38;5;124m'\u001b[39m)\u001b[38;5;241m.\u001b[39mcollect(),\n\u001b[1;32m     10\u001b[0m     \u001b[38;5;124m'\u001b[39m\u001b[38;5;124mja\u001b[39m\u001b[38;5;124m'\u001b[39m: aggregated_df\u001b[38;5;241m.\u001b[39mfilter(aggregated_df[\u001b[38;5;124m'\u001b[39m\u001b[38;5;124mlang\u001b[39m\u001b[38;5;124m'\u001b[39m] \u001b[38;5;241m==\u001b[39m \u001b[38;5;124m'\u001b[39m\u001b[38;5;124mja\u001b[39m\u001b[38;5;124m'\u001b[39m)\u001b[38;5;241m.\u001b[39morderBy(\u001b[38;5;124m'\u001b[39m\u001b[38;5;124mbucket\u001b[39m\u001b[38;5;124m'\u001b[39m)\u001b[38;5;241m.\u001b[39mselect(\u001b[38;5;124m'\u001b[39m\u001b[38;5;124mbucket\u001b[39m\u001b[38;5;124m'\u001b[39m, \u001b[38;5;124m'\u001b[39m\u001b[38;5;124mlength_ratio\u001b[39m\u001b[38;5;124m'\u001b[39m)\u001b[38;5;241m.\u001b[39mcollect(),\n\u001b[1;32m     11\u001b[0m     \u001b[38;5;124m'\u001b[39m\u001b[38;5;124mes\u001b[39m\u001b[38;5;124m'\u001b[39m: aggregated_df\u001b[38;5;241m.\u001b[39mfilter(aggregated_df[\u001b[38;5;124m'\u001b[39m\u001b[38;5;124mlang\u001b[39m\u001b[38;5;124m'\u001b[39m] \u001b[38;5;241m==\u001b[39m \u001b[38;5;124m'\u001b[39m\u001b[38;5;124mes\u001b[39m\u001b[38;5;124m'\u001b[39m)\u001b[38;5;241m.\u001b[39morderBy(\u001b[38;5;124m'\u001b[39m\u001b[38;5;124mbucket\u001b[39m\u001b[38;5;124m'\u001b[39m)\u001b[38;5;241m.\u001b[39mselect(\u001b[38;5;124m'\u001b[39m\u001b[38;5;124mbucket\u001b[39m\u001b[38;5;124m'\u001b[39m, \u001b[38;5;124m'\u001b[39m\u001b[38;5;124mlength_ratio\u001b[39m\u001b[38;5;124m'\u001b[39m)\u001b[38;5;241m.\u001b[39mcollect(),\n\u001b[1;32m     12\u001b[0m     \u001b[38;5;124m'\u001b[39m\u001b[38;5;124mar\u001b[39m\u001b[38;5;124m'\u001b[39m: aggregated_df\u001b[38;5;241m.\u001b[39mfilter(aggregated_df[\u001b[38;5;124m'\u001b[39m\u001b[38;5;124mlang\u001b[39m\u001b[38;5;124m'\u001b[39m] \u001b[38;5;241m==\u001b[39m \u001b[38;5;124m'\u001b[39m\u001b[38;5;124mar\u001b[39m\u001b[38;5;124m'\u001b[39m)\u001b[38;5;241m.\u001b[39morderBy(\u001b[38;5;124m'\u001b[39m\u001b[38;5;124mbucket\u001b[39m\u001b[38;5;124m'\u001b[39m)\u001b[38;5;241m.\u001b[39mselect(\u001b[38;5;124m'\u001b[39m\u001b[38;5;124mbucket\u001b[39m\u001b[38;5;124m'\u001b[39m, \u001b[38;5;124m'\u001b[39m\u001b[38;5;124mlength_ratio\u001b[39m\u001b[38;5;124m'\u001b[39m)\u001b[38;5;241m.\u001b[39mcollect(),\n\u001b[1;32m     13\u001b[0m     \u001b[38;5;124m'\u001b[39m\u001b[38;5;124mhe\u001b[39m\u001b[38;5;124m'\u001b[39m: aggregated_df\u001b[38;5;241m.\u001b[39mfilter(aggregated_df[\u001b[38;5;124m'\u001b[39m\u001b[38;5;124mlang\u001b[39m\u001b[38;5;124m'\u001b[39m] \u001b[38;5;241m==\u001b[39m \u001b[38;5;124m'\u001b[39m\u001b[38;5;124mhe\u001b[39m\u001b[38;5;124m'\u001b[39m)\u001b[38;5;241m.\u001b[39morderBy(\u001b[38;5;124m'\u001b[39m\u001b[38;5;124mbucket\u001b[39m\u001b[38;5;124m'\u001b[39m)\u001b[38;5;241m.\u001b[39mselect(\u001b[38;5;124m'\u001b[39m\u001b[38;5;124mbucket\u001b[39m\u001b[38;5;124m'\u001b[39m, \u001b[38;5;124m'\u001b[39m\u001b[38;5;124mlength_ratio\u001b[39m\u001b[38;5;124m'\u001b[39m)\u001b[38;5;241m.\u001b[39mcollect(),\n\u001b[1;32m     14\u001b[0m     \u001b[38;5;124m'\u001b[39m\u001b[38;5;124mit\u001b[39m\u001b[38;5;124m'\u001b[39m: aggregated_df\u001b[38;5;241m.\u001b[39mfilter(aggregated_df[\u001b[38;5;124m'\u001b[39m\u001b[38;5;124mlang\u001b[39m\u001b[38;5;124m'\u001b[39m] \u001b[38;5;241m==\u001b[39m \u001b[38;5;124m'\u001b[39m\u001b[38;5;124mit\u001b[39m\u001b[38;5;124m'\u001b[39m)\u001b[38;5;241m.\u001b[39morderBy(\u001b[38;5;124m'\u001b[39m\u001b[38;5;124mbucket\u001b[39m\u001b[38;5;124m'\u001b[39m)\u001b[38;5;241m.\u001b[39mselect(\u001b[38;5;124m'\u001b[39m\u001b[38;5;124mbucket\u001b[39m\u001b[38;5;124m'\u001b[39m, \u001b[38;5;124m'\u001b[39m\u001b[38;5;124mlength_ratio\u001b[39m\u001b[38;5;124m'\u001b[39m)\u001b[38;5;241m.\u001b[39mcollect()\n\u001b[1;32m     15\u001b[0m }\n\u001b[1;32m     17\u001b[0m \u001b[38;5;66;03m# 绘制折线图\u001b[39;00m\n\u001b[1;32m     18\u001b[0m plt\u001b[38;5;241m.\u001b[39mfigure(figsize\u001b[38;5;241m=\u001b[39m(\u001b[38;5;241m10\u001b[39m, \u001b[38;5;241m6\u001b[39m))\n",
      "File \u001b[0;32m~/miniconda3/envs/ccnet_spark/lib/python3.9/site-packages/pyspark/sql/dataframe.py:3227\u001b[0m, in \u001b[0;36mDataFrame.select\u001b[0;34m(self, *cols)\u001b[0m\n\u001b[1;32m   3182\u001b[0m \u001b[38;5;28;01mdef\u001b[39;00m \u001b[38;5;21mselect\u001b[39m(\u001b[38;5;28mself\u001b[39m, \u001b[38;5;241m*\u001b[39mcols: \u001b[38;5;124m\"\u001b[39m\u001b[38;5;124mColumnOrName\u001b[39m\u001b[38;5;124m\"\u001b[39m) \u001b[38;5;241m-\u001b[39m\u001b[38;5;241m>\u001b[39m \u001b[38;5;124m\"\u001b[39m\u001b[38;5;124mDataFrame\u001b[39m\u001b[38;5;124m\"\u001b[39m:  \u001b[38;5;66;03m# type: ignore[misc]\u001b[39;00m\n\u001b[1;32m   3183\u001b[0m \u001b[38;5;250m    \u001b[39m\u001b[38;5;124;03m\"\"\"Projects a set of expressions and returns a new :class:`DataFrame`.\u001b[39;00m\n\u001b[1;32m   3184\u001b[0m \n\u001b[1;32m   3185\u001b[0m \u001b[38;5;124;03m    .. versionadded:: 1.3.0\u001b[39;00m\n\u001b[0;32m   (...)\u001b[0m\n\u001b[1;32m   3225\u001b[0m \u001b[38;5;124;03m    +-----+---+\u001b[39;00m\n\u001b[1;32m   3226\u001b[0m \u001b[38;5;124;03m    \"\"\"\u001b[39;00m\n\u001b[0;32m-> 3227\u001b[0m     jdf \u001b[38;5;241m=\u001b[39m \u001b[38;5;28;43mself\u001b[39;49m\u001b[38;5;241;43m.\u001b[39;49m\u001b[43m_jdf\u001b[49m\u001b[38;5;241;43m.\u001b[39;49m\u001b[43mselect\u001b[49m\u001b[43m(\u001b[49m\u001b[38;5;28;43mself\u001b[39;49m\u001b[38;5;241;43m.\u001b[39;49m\u001b[43m_jcols\u001b[49m\u001b[43m(\u001b[49m\u001b[38;5;241;43m*\u001b[39;49m\u001b[43mcols\u001b[49m\u001b[43m)\u001b[49m\u001b[43m)\u001b[49m\n\u001b[1;32m   3228\u001b[0m     \u001b[38;5;28;01mreturn\u001b[39;00m DataFrame(jdf, \u001b[38;5;28mself\u001b[39m\u001b[38;5;241m.\u001b[39msparkSession)\n",
      "File \u001b[0;32m~/miniconda3/envs/ccnet_spark/lib/python3.9/site-packages/py4j/java_gateway.py:1322\u001b[0m, in \u001b[0;36mJavaMember.__call__\u001b[0;34m(self, *args)\u001b[0m\n\u001b[1;32m   1316\u001b[0m command \u001b[38;5;241m=\u001b[39m proto\u001b[38;5;241m.\u001b[39mCALL_COMMAND_NAME \u001b[38;5;241m+\u001b[39m\\\n\u001b[1;32m   1317\u001b[0m     \u001b[38;5;28mself\u001b[39m\u001b[38;5;241m.\u001b[39mcommand_header \u001b[38;5;241m+\u001b[39m\\\n\u001b[1;32m   1318\u001b[0m     args_command \u001b[38;5;241m+\u001b[39m\\\n\u001b[1;32m   1319\u001b[0m     proto\u001b[38;5;241m.\u001b[39mEND_COMMAND_PART\n\u001b[1;32m   1321\u001b[0m answer \u001b[38;5;241m=\u001b[39m \u001b[38;5;28mself\u001b[39m\u001b[38;5;241m.\u001b[39mgateway_client\u001b[38;5;241m.\u001b[39msend_command(command)\n\u001b[0;32m-> 1322\u001b[0m return_value \u001b[38;5;241m=\u001b[39m \u001b[43mget_return_value\u001b[49m\u001b[43m(\u001b[49m\n\u001b[1;32m   1323\u001b[0m \u001b[43m    \u001b[49m\u001b[43manswer\u001b[49m\u001b[43m,\u001b[49m\u001b[43m \u001b[49m\u001b[38;5;28;43mself\u001b[39;49m\u001b[38;5;241;43m.\u001b[39;49m\u001b[43mgateway_client\u001b[49m\u001b[43m,\u001b[49m\u001b[43m \u001b[49m\u001b[38;5;28;43mself\u001b[39;49m\u001b[38;5;241;43m.\u001b[39;49m\u001b[43mtarget_id\u001b[49m\u001b[43m,\u001b[49m\u001b[43m \u001b[49m\u001b[38;5;28;43mself\u001b[39;49m\u001b[38;5;241;43m.\u001b[39;49m\u001b[43mname\u001b[49m\u001b[43m)\u001b[49m\n\u001b[1;32m   1325\u001b[0m \u001b[38;5;28;01mfor\u001b[39;00m temp_arg \u001b[38;5;129;01min\u001b[39;00m temp_args:\n\u001b[1;32m   1326\u001b[0m     \u001b[38;5;28;01mif\u001b[39;00m \u001b[38;5;28mhasattr\u001b[39m(temp_arg, \u001b[38;5;124m\"\u001b[39m\u001b[38;5;124m_detach\u001b[39m\u001b[38;5;124m\"\u001b[39m):\n",
      "File \u001b[0;32m~/miniconda3/envs/ccnet_spark/lib/python3.9/site-packages/pyspark/errors/exceptions/captured.py:185\u001b[0m, in \u001b[0;36mcapture_sql_exception.<locals>.deco\u001b[0;34m(*a, **kw)\u001b[0m\n\u001b[1;32m    181\u001b[0m converted \u001b[38;5;241m=\u001b[39m convert_exception(e\u001b[38;5;241m.\u001b[39mjava_exception)\n\u001b[1;32m    182\u001b[0m \u001b[38;5;28;01mif\u001b[39;00m \u001b[38;5;129;01mnot\u001b[39;00m \u001b[38;5;28misinstance\u001b[39m(converted, UnknownException):\n\u001b[1;32m    183\u001b[0m     \u001b[38;5;66;03m# Hide where the exception came from that shows a non-Pythonic\u001b[39;00m\n\u001b[1;32m    184\u001b[0m     \u001b[38;5;66;03m# JVM exception message.\u001b[39;00m\n\u001b[0;32m--> 185\u001b[0m     \u001b[38;5;28;01mraise\u001b[39;00m converted \u001b[38;5;28;01mfrom\u001b[39;00m \u001b[38;5;28;01mNone\u001b[39;00m\n\u001b[1;32m    186\u001b[0m \u001b[38;5;28;01melse\u001b[39;00m:\n\u001b[1;32m    187\u001b[0m     \u001b[38;5;28;01mraise\u001b[39;00m\n",
      "\u001b[0;31mAnalysisException\u001b[0m: [UNRESOLVED_COLUMN.WITH_SUGGESTION] A column or function parameter with name `length_ratio` cannot be resolved. Did you mean one of the following? [`length`, `lang`, `digest`, `perplexity`, `title`].;\n'Project [bucket#15, 'length_ratio]\n+- Sort [bucket#15 ASC NULLS FIRST], true\n   +- Filter (lang#14 = en)\n      +- Relation [digest#0,url#1,date_download#2,source_domain#3,cc_segment#4,original_length#5,original_nlines#6L,title#7,nlines#8L,raw_content#9,raw_line_id#10,length#11,score#12,perplexity#13,lang#14,bucket#15] parquet\n"
     ]
    }
   ],
   "source": [
    "import matplotlib.pyplot as plt\n",
    "aggregated_df=df_nokeep\n",
    "# 从聚合后的DataFrame中提取每种语言的数据\n",
    "lang_data = {\n",
    "    'en': aggregated_df.filter(aggregated_df['lang'] == 'en').orderBy('bucket').select('bucket', 'length_ratio').collect(),\n",
    "    'ru': aggregated_df.filter(aggregated_df['lang'] == 'ru').orderBy('bucket').select('bucket', 'length_ratio').collect(),\n",
    "    'zh': aggregated_df.filter(aggregated_df['lang'] == 'zh').orderBy('bucket').select('bucket', 'length_ratio').collect(),\n",
    "    'fr': aggregated_df.filter(aggregated_df['lang'] == 'fr').orderBy('bucket').select('bucket', 'length_ratio').collect(),\n",
    "    'de': aggregated_df.filter(aggregated_df['lang'] == 'de').orderBy('bucket').select('bucket', 'length_ratio').collect(),\n",
    "    'ja': aggregated_df.filter(aggregated_df['lang'] == 'ja').orderBy('bucket').select('bucket', 'length_ratio').collect(),\n",
    "    'es': aggregated_df.filter(aggregated_df['lang'] == 'es').orderBy('bucket').select('bucket', 'length_ratio').collect(),\n",
    "    'ar': aggregated_df.filter(aggregated_df['lang'] == 'ar').orderBy('bucket').select('bucket', 'length_ratio').collect(),\n",
    "    'he': aggregated_df.filter(aggregated_df['lang'] == 'he').orderBy('bucket').select('bucket', 'length_ratio').collect(),\n",
    "    'it': aggregated_df.filter(aggregated_df['lang'] == 'it').orderBy('bucket').select('bucket', 'length_ratio').collect()\n",
    "}\n",
    "\n",
    "# 绘制折线图\n",
    "plt.figure(figsize=(10, 6))\n",
    "\n",
    "for lang, data in lang_data.items():\n",
    "    buckets = [row['bucket'] for row in data]\n",
    "    length_ratios = [row['length_ratio'] for row in data]\n",
    "    plt.plot(buckets, length_ratios, label=lang)\n",
    "\n",
    "plt.xlabel('Bucket')\n",
    "plt.ylabel('Length Ratio')\n",
    "plt.title('Length Ratio by Language')\n",
    "plt.legend()\n",
    "plt.grid(True)\n",
    "plt.show()\n"
   ]
  },
  {
   "cell_type": "code",
   "execution_count": null,
   "id": "cd9914d6-9c9b-4e46-8694-3e91f3b28448",
   "metadata": {},
   "outputs": [],
   "source": []
  }
 ],
 "metadata": {
  "kernelspec": {
   "display_name": "Python 3 (ipykernel)",
   "language": "python",
   "name": "python3"
  },
  "language_info": {
   "codemirror_mode": {
    "name": "ipython",
    "version": 3
   },
   "file_extension": ".py",
   "mimetype": "text/x-python",
   "name": "python",
   "nbconvert_exporter": "python",
   "pygments_lexer": "ipython3",
   "version": "3.9.19"
  }
 },
 "nbformat": 4,
 "nbformat_minor": 5
}

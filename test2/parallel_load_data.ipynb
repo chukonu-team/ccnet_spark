{
 "cells": [
  {
   "cell_type": "code",
   "execution_count": 1,
   "id": "c5654192-6362-43a3-a74f-d2fb86d7ff5a",
   "metadata": {},
   "outputs": [],
   "source": [
    "from ccnet_spark.pipe_preprocess import load_segments,pre_download_segment2pdf,load_segment2pdf_wrapper,load_segment2sdf\n",
    "from ccnet_spark.pipe_line import Pipeline, Config, PipelineStep\n",
    "from pyspark.sql import SparkSession\n",
    "import time"
   ]
  },
  {
   "cell_type": "code",
   "execution_count": 2,
   "id": "874e4339-79e6-4d4d-9c83-65fa1056ada3",
   "metadata": {},
   "outputs": [],
   "source": [
    "spark = (\n",
    "    SparkSession.builder.appName(\"ccnetspark_load_file\")\n",
    "    .master(\"local[*]\")\n",
    "    .config(\"spark.executor.memory\", \"10g\")\n",
    "    .config(\"spark.driver.memory\", \"10g\")\n",
    "    .config(\"spark.dynamicAllocation.enabled\", \"false\")\n",
    "    .config(\"spark.driver.maxResultSize\", \"5g\")\n",
    "    .config(\"spark.sql.execution.arrow.pyspark.enabled\", \"true\")\n",
    "    # .config(\"spark.sql.autoBroadcastJoinThreshold\",\"-1\")\n",
    "    # .config(\"spark.executor.extraJavaOptions\", \"-XX:+PrintGCDetails -XX:+PrintGCDateStamps -XX:+PrintGCTimeStamps\")\n",
    "    # .config(\"spark.driver.extraJavaOptions\", \"-XX:+PrintGCDetails -XX:+PrintGCDateStamps -XX:+PrintGCTimeStamps\")\n",
    "    .getOrCreate()\n",
    ")\n",
    "config = Config(\n",
    "        isSample=False,\n",
    "        n_segments=4,\n",
    "        sampleRate=0.01,\n",
    "        cache_dir=\"/metadata0/wxl_data/cached_data_b/\",\n",
    "        output_dir=\"/metadata0/wxl_data/cached_data_b/\",\n",
    "        fasttext_model_path=\"/metadata0/wxl_data/lid.bin\",\n",
    "        lm_dir=\"/metadata0/wxl_data/lm_sp\",\n",
    "        cutoff_csv_path=\"/metadata0/wxl_data/cutoff.csv\",\n",
    "        dump=\"2019-18\",\n",
    "    )\n",
    "segments=[i for i in range(4)]"
   ]
  },
  {
   "cell_type": "code",
   "execution_count": 3,
   "id": "3a1653e7-6189-4c4c-b6dd-9345887ac388",
   "metadata": {},
   "outputs": [
    {
     "name": "stderr",
     "output_type": "stream",
     "text": [
      "24/04/24 09:35:47 WARN SparkSession: Using an existing Spark session; only runtime SQL configurations will take effect.\n",
      "Downloading https://data.commoncrawl.org/crawl-data/CC-MAIN-2019-18/wet.paths.gz: 100%|##############################################| 181k/181k [00:00<00:00, 313kB/s]\n"
     ]
    },
    {
     "name": "stdout",
     "output_type": "stream",
     "text": [
      "Downloaded https://data.commoncrawl.org/crawl-data/CC-MAIN-2019-18/wet.paths.gz\n"
     ]
    },
    {
     "name": "stderr",
     "output_type": "stream",
     "text": [
      "Downloading CC-MAIN-20190418101243-20190418122319-00000.warc.wet.gz: 100%|##########################################################| 135M/135M [00:10<00:00, 12.8MB/s]\n",
      "2024-04-24 09:36 INFO 2938059:ccnet_spark.pipe_preprocess - Opening /metadata0/wxl_data/cached_data_b/commoncrawl_data/2019-18/CC-MAIN-20190418101243-20190418122319-00000.warc.wet.gz with mode 'rt'\n"
     ]
    },
    {
     "name": "stdout",
     "output_type": "stream",
     "text": [
      "Downloaded /metadata0/wxl_data/cached_data_b/commoncrawl_data/2019-18/CC-MAIN-20190418101243-20190418122319-00000.warc.wet.gz\n"
     ]
    },
    {
     "name": "stderr",
     "output_type": "stream",
     "text": [
      "2024-04-24 09:36 INFO 2938059:root - Created DataFrame with 42074 documents\n",
      "2024-04-24 09:36 INFO 2938059:root - load segment 0, 42074 docs, with sampleRate:100%,min_len:300,with dump:2019-18\n",
      "24/04/24 09:36:12 WARN TaskSetManager: Stage 0 contains a task of very large size (85425 KiB). The maximum recommended task size is 1000 KiB.\n",
      "2024-04-24 09:36 INFO 2938059:root - load segment 0, with sampleRate:100%,min_len:300,with date:2019-18\n",
      "24/04/24 09:36:14 WARN SparkSession: Using an existing Spark session; only runtime SQL configurations will take effect.\n",
      "Downloading CC-MAIN-20190418101243-20190418122312-00001.warc.wet.gz: 100%|##########################################################| 138M/138M [00:09<00:00, 15.0MB/s]\n",
      "2024-04-24 09:36 INFO 2938059:ccnet_spark.pipe_preprocess - Opening /metadata0/wxl_data/cached_data_b/commoncrawl_data/2019-18/CC-MAIN-20190418101243-20190418122312-00001.warc.wet.gz with mode 'rt'\n"
     ]
    },
    {
     "name": "stdout",
     "output_type": "stream",
     "text": [
      "Downloaded /metadata0/wxl_data/cached_data_b/commoncrawl_data/2019-18/CC-MAIN-20190418101243-20190418122312-00001.warc.wet.gz\n"
     ]
    },
    {
     "name": "stderr",
     "output_type": "stream",
     "text": [
      "2024-04-24 09:36 INFO 2938059:root - Created DataFrame with 41925 documents\n",
      "2024-04-24 09:36 INFO 2938059:root - load segment 1, 41925 docs, with sampleRate:100%,min_len:300,with dump:2019-18\n",
      "24/04/24 09:36:33 WARN TaskSetManager: Stage 1 contains a task of very large size (87684 KiB). The maximum recommended task size is 1000 KiB.\n",
      "2024-04-24 09:36 INFO 2938059:root - load segment 1, with sampleRate:100%,min_len:300,with date:2019-18\n",
      "24/04/24 09:36:34 WARN SparkSession: Using an existing Spark session; only runtime SQL configurations will take effect.\n",
      "Downloading CC-MAIN-20190418101243-20190418122323-00002.warc.wet.gz: 100%|##########################################################| 138M/138M [00:09<00:00, 14.6MB/s]\n",
      "2024-04-24 09:36 INFO 2938059:ccnet_spark.pipe_preprocess - Opening /metadata0/wxl_data/cached_data_b/commoncrawl_data/2019-18/CC-MAIN-20190418101243-20190418122323-00002.warc.wet.gz with mode 'rt'\n"
     ]
    },
    {
     "name": "stdout",
     "output_type": "stream",
     "text": [
      "Downloaded /metadata0/wxl_data/cached_data_b/commoncrawl_data/2019-18/CC-MAIN-20190418101243-20190418122323-00002.warc.wet.gz\n"
     ]
    },
    {
     "name": "stderr",
     "output_type": "stream",
     "text": [
      "2024-04-24 09:36 INFO 2938059:root - Created DataFrame with 42390 documents\n",
      "2024-04-24 09:36 INFO 2938059:root - load segment 2, 42390 docs, with sampleRate:100%,min_len:300,with dump:2019-18\n",
      "24/04/24 09:36:54 WARN TaskSetManager: Stage 2 contains a task of very large size (81470 KiB). The maximum recommended task size is 1000 KiB.\n",
      "2024-04-24 09:36 INFO 2938059:root - load segment 2, with sampleRate:100%,min_len:300,with date:2019-18\n",
      "24/04/24 09:36:55 WARN SparkSession: Using an existing Spark session; only runtime SQL configurations will take effect.\n",
      "Downloading CC-MAIN-20190418101243-20190418122317-00003.warc.wet.gz: 100%|##########################################################| 136M/136M [00:09<00:00, 13.8MB/s]\n",
      "2024-04-24 09:37 INFO 2938059:ccnet_spark.pipe_preprocess - Opening /metadata0/wxl_data/cached_data_b/commoncrawl_data/2019-18/CC-MAIN-20190418101243-20190418122317-00003.warc.wet.gz with mode 'rt'\n"
     ]
    },
    {
     "name": "stdout",
     "output_type": "stream",
     "text": [
      "Downloaded /metadata0/wxl_data/cached_data_b/commoncrawl_data/2019-18/CC-MAIN-20190418101243-20190418122317-00003.warc.wet.gz\n"
     ]
    },
    {
     "name": "stderr",
     "output_type": "stream",
     "text": [
      "2024-04-24 09:37 INFO 2938059:root - Created DataFrame with 42205 documents\n",
      "2024-04-24 09:37 INFO 2938059:root - load segment 3, 42205 docs, with sampleRate:100%,min_len:300,with dump:2019-18\n",
      "24/04/24 09:37:16 WARN TaskSetManager: Stage 3 contains a task of very large size (82281 KiB). The maximum recommended task size is 1000 KiB.\n",
      "2024-04-24 09:37 INFO 2938059:root - load segment 3, with sampleRate:100%,min_len:300,with date:2019-18\n"
     ]
    }
   ],
   "source": [
    "for seg in segments:\n",
    "\n",
    "    spark_local = (\n",
    "        SparkSession.builder.appName(f\"ccnetspark_2sdf_local_{seg}\")\n",
    "        .master(\"local[*]\")\n",
    "        .config(\"spark.executor.memory\", \"10g\")\n",
    "        .config(\"spark.driver.memory\", \"10g\")\n",
    "        .config(\"spark.dynamicAllocation.enabled\", \"false\")\n",
    "        .config(\"spark.driver.maxResultSize\", \"5g\")\n",
    "        .config(\"spark.sql.execution.arrow.pyspark.enabled\", \"true\")\n",
    "        # .config(\"spark.sql.autoBroadcastJoinThreshold\",\"-1\")\n",
    "        # .config(\"spark.executor.extraJavaOptions\", \"-XX:+PrintGCDetails -XX:+PrintGCDateStamps -XX:+PrintGCTimeStamps\")\n",
    "        # .config(\"spark.driver.extraJavaOptions\", \"-XX:+PrintGCDetails -XX:+PrintGCDateStamps -XX:+PrintGCTimeStamps\")\n",
    "        .getOrCreate()\n",
    "    )\n",
    "    sdf = load_segment2sdf(\n",
    "        spark_local,\n",
    "        segment=seg,\n",
    "        cache_dir=config.cache_dir,\n",
    "        dump=config.dump,\n",
    "        isSample=config.isSample,\n",
    "        sampleRate=config.sampleRate,\n",
    "        min_len=config.min_len,\n",
    "    )"
   ]
  },
  {
   "cell_type": "code",
   "execution_count": null,
   "id": "507e29c9-adaf-4c7f-aa0f-ac3f178c267e",
   "metadata": {},
   "outputs": [],
   "source": []
  }
 ],
 "metadata": {
  "kernelspec": {
   "display_name": "Python 3 (ipykernel)",
   "language": "python",
   "name": "python3"
  },
  "language_info": {
   "codemirror_mode": {
    "name": "ipython",
    "version": 3
   },
   "file_extension": ".py",
   "mimetype": "text/x-python",
   "name": "python",
   "nbconvert_exporter": "python",
   "pygments_lexer": "ipython3",
   "version": "3.9.19"
  }
 },
 "nbformat": 4,
 "nbformat_minor": 5
}

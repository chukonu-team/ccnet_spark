{
 "cells": [
  {
   "cell_type": "code",
   "execution_count": 1,
   "id": "2594801d-1520-420e-bb79-26414ae769a6",
   "metadata": {},
   "outputs": [],
   "source": [
    "from ccnet_spark.pipeline import Pipeline,Config\n",
    "import time"
   ]
  },
  {
   "cell_type": "code",
   "execution_count": 2,
   "id": "d7a49aee-887e-446a-b6e4-f0404180e263",
   "metadata": {},
   "outputs": [
    {
     "name": "stdout",
     "output_type": "stream",
     "text": [
      "Config(dump='2019-18', cache_dir='../cache_data/', output_dir='../cache_data/', min_len=300, isSample=False, sampleRate=0.001, n_segments=2, pipeline=['real_len', 'hash', 'dedup_keep', 'lid', 'sp', 'lm', 'pp_bucket', 'drop'], threshold=0.5, fasttext_model_path='../cc_net/bin/lid.bin', lm_dir='../cc_net/data/lm_sp', cutoff_csv_path='../cc_net/cc_net/data/cutoff.csv', percentile_head=30, percentile_tail=60, spark=<pyspark.sql.session.SparkSession object at 0x7f09e33f7a90>)\n"
     ]
    }
   ],
   "source": [
    "config=Config(isSample=False,n_segments=2,sampleRate=0.001,cache_dir=\"../cache_data/\",dump=\"2019-18\")\n",
    "print(config)"
   ]
  },
  {
   "cell_type": "code",
   "execution_count": 3,
   "id": "c9d0c037-21bb-432f-a1a7-cb4cb00f41e8",
   "metadata": {},
   "outputs": [
    {
     "name": "stderr",
     "output_type": "stream",
     "text": [
      "24/04/08 10:06:31 WARN DataSource: All paths were ignored:\n",
      "  file:/root/wxl_folder/cache_data/sdf_parquet/2019-18/_sampleRate_100_segment_0_min_len_300.parquet\n",
      "2024-04-08 10:06 INFO 1125503:root - load segment 0, with sampleRate:100%,min_len:300,with date:2019-18\n",
      "24/04/08 10:06:33 WARN DataSource: All paths were ignored:\n",
      "  file:/root/wxl_folder/cache_data/sdf_parquet/2019-18/_sampleRate_100_segment_1_min_len_300.parquet\n",
      "2024-04-08 10:06 INFO 1125503:root - load segment 1, with sampleRate:100%,min_len:300,with date:2019-18\n",
      "Warning : `load_model` does not return WordVectorModel or SupervisedModel any more, but a `FastText` object which is very similar.\n",
      "Warning : `load_model` does not return WordVectorModel or SupervisedModel any more, but a `FastText` object which is very similar.Warning : `load_model` does not return WordVectorModel or SupervisedModel any more, but a `FastText` object which is very similar.\n",
      "Warning : `load_model` does not return WordVectorModel or SupervisedModel any more, but a `FastText` object which is very similar.\n",
      "\n",
      "Warning : `load_model` does not return WordVectorModel or SupervisedModel any more, but a `FastText` object which is very similar.\n",
      "Warning : `load_model` does not return WordVectorModel or SupervisedModel any more, but a `FastText` object which is very similar.\n",
      "Warning : `load_model` does not return WordVectorModel or SupervisedModel any more, but a `FastText` object which is very similar.\n",
      "Warning : `load_model` does not return WordVectorModel or SupervisedModel any more, but a `FastText` object which is very similar.\n",
      "Warning : `load_model` does not return WordVectorModel or SupervisedModel any more, but a `FastText` object which is very similar.\n",
      "Warning : `load_model` does not return WordVectorModel or SupervisedModel any more, but a `FastText` object which is very similar.\n",
      "Warning : `load_model` does not return WordVectorModel or SupervisedModel any more, but a `FastText` object which is very similar.\n",
      "Warning : `load_model` does not return WordVectorModel or SupervisedModel any more, but a `FastText` object which is very similar.\n",
      "[Stage 7:===============================================>         (10 + 2) / 12]\r"
     ]
    },
    {
     "name": "stdout",
     "output_type": "stream",
     "text": [
      "+------+----+-----+-------------------+----------+----------+-------------------+------------------+-------------------+\n",
      "|bucket|lang|count|sum_original_length|sum_length|sum_nlines|sum_original_nlines|      length_ratio|       nlines_ratio|\n",
      "+------+----+-----+-------------------+----------+----------+-------------------+------------------+-------------------+\n",
      "|  tail|  fr| 3308|           20819112|  13831536|    273113|             632678|0.6643672410235365| 0.4316777254780473|\n",
      "|   all|  vi|  600|            4794148|   3302387|     54728|             113561|0.6888370988964045| 0.4819260133320418|\n",
      "|  tail|  ja| 2955|           10689849|   7488849|    287642|             560482|0.7005570424802071|  0.513204705949522|\n",
      "|  tail|  no|  177|             796376|    583379|     14877|              28222|0.7325421660120345| 0.5271419459995748|\n",
      "|   all|  sk|  208|            1048468|    654227|     15124|              41228|0.6239837553458951|0.36683807121373824|\n",
      "|middle|  hu|   75|             448246|    357773|      4518|               9018| 0.798162169879932|  0.500998003992016|\n",
      "|   all|  eu|   12|              39648|     28924|       607|               1327|0.7295197740112994|0.45742275810097965|\n",
      "|middle|  uk|   40|             553166|    499816|      4412|               7234|0.9035551715036716| 0.6098977052806193|\n",
      "|  tail|  hr|   33|             170384|    133611|      2222|               4259|0.7841757442013335| 0.5217187133129843|\n",
      "|  tail|  lt|   85|             418355|    285518|      6966|              14420| 0.682477799954584|0.48307905686546465|\n",
      "|   all|  pa|    7|              53297|     40047|       448|               1038|0.7513931365742912|0.43159922928709055|\n",
      "|middle|  mk|    4|              26732|     23934|       173|                365|0.8953314379769565|  0.473972602739726|\n",
      "|  tail|  ne|   14|              51203|     39040|       753|               1390|0.7624553248833076|  0.541726618705036|\n",
      "|   all|null| 6251|           63134831|  44642654|    673640|            1583513| 0.707100237585177| 0.4254085694275955|\n",
      "|  tail|  en|27324|          159833272| 109565318|   1756588|            4533721|0.6854975602326404|  0.387449514427553|\n",
      "|  tail|  es| 2890|           17731062|  12249805|    205598|             499589| 0.690866965554573|0.41153428117912927|\n",
      "|   all|  sq|   19|             296668|    272746|      2218|               3844|0.9193644073509782|  0.577003121748179|\n",
      "|middle|  hi|   13|             101581|     59030|       566|               2596|0.5811126096415669|0.21802773497688752|\n",
      "|  tail|  hy|   27|             267985|    169671|      2397|               4524|0.6331361829953169| 0.5298408488063661|\n",
      "|  tail|  da|  233|            1271043|    918266|     20430|              41773|0.7224507746787481| 0.4890718885404448|\n",
      "+------+----+-----+-------------------+----------+----------+-------------------+------------------+-------------------+\n",
      "only showing top 20 rows\n",
      "\n",
      "65.12678623199463\n"
     ]
    },
    {
     "name": "stderr",
     "output_type": "stream",
     "text": [
      "                                                                                \r"
     ]
    }
   ],
   "source": [
    "pipeline=Pipeline(config)\n",
    "df=pipeline.load_data()\n",
    "s=time.time()\n",
    "pipeline.run()\n",
    "pipeline.save_data()\n",
    "pipeline.analy()\n",
    "e=time.time()\n",
    "print(e-s)"
   ]
  },
  {
   "cell_type": "code",
   "execution_count": null,
   "id": "24112ade-f36c-42c7-96dd-da6c75d98c35",
   "metadata": {},
   "outputs": [],
   "source": []
  }
 ],
 "metadata": {
  "kernelspec": {
   "display_name": "Python 3 (ipykernel)",
   "language": "python",
   "name": "python3"
  },
  "language_info": {
   "codemirror_mode": {
    "name": "ipython",
    "version": 3
   },
   "file_extension": ".py",
   "mimetype": "text/x-python",
   "name": "python",
   "nbconvert_exporter": "python",
   "pygments_lexer": "ipython3",
   "version": "3.9.19"
  }
 },
 "nbformat": 4,
 "nbformat_minor": 5
}

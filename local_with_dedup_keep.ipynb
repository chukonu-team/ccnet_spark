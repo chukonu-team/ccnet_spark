{
 "cells": [
  {
   "cell_type": "code",
   "execution_count": 1,
   "id": "2594801d-1520-420e-bb79-26414ae769a6",
   "metadata": {},
   "outputs": [],
   "source": [
    "from ccnet_spark.pipeline import Pipeline,Config\n",
    "import time"
   ]
  },
  {
   "cell_type": "code",
   "execution_count": 2,
   "id": "d7a49aee-887e-446a-b6e4-f0404180e263",
   "metadata": {},
   "outputs": [
    {
     "name": "stdout",
     "output_type": "stream",
     "text": [
      "Config(dump='2019-18', cache_dir='../cache_data/', output_dir='../cache_data/', min_len=300, isSample=False, sampleRate=0.001, n_segments=10, pipeline=['real_len', 'hash', 'dedup_keep', 'lid', 'sp', 'lm', 'pp_bucket', 'drop'], spark=<pyspark.sql.session.SparkSession object at 0x7fce572e9c40>)\n"
     ]
    }
   ],
   "source": [
    "config=Config(isSample=False,n_segments=10,sampleRate=0.001,cache_dir=\"../cache_data/\",dump=\"2019-18\")\n",
    "print(config)"
   ]
  },
  {
   "cell_type": "code",
   "execution_count": 3,
   "id": "c9d0c037-21bb-432f-a1a7-cb4cb00f41e8",
   "metadata": {},
   "outputs": [
    {
     "name": "stderr",
     "output_type": "stream",
     "text": [
      "24/04/07 17:45:54 WARN DataSource: All paths were ignored:\n",
      "  file:/root/wxl_folder/cache_data/sdf_parquet/2019-18/_sampleRate_100_segment_0_min_len_300.parquet\n",
      "2024-04-07 17:45 INFO 1063871:root - load segment 0, with sampleRate:100%,min_len:300,with date:2019-18\n",
      "24/04/07 17:45:56 WARN DataSource: All paths were ignored:\n",
      "  file:/root/wxl_folder/cache_data/sdf_parquet/2019-18/_sampleRate_100_segment_1_min_len_300.parquet\n",
      "2024-04-07 17:45 INFO 1063871:root - load segment 1, with sampleRate:100%,min_len:300,with date:2019-18\n",
      "24/04/07 17:45:56 WARN DataSource: All paths were ignored:\n",
      "  file:/root/wxl_folder/cache_data/sdf_parquet/2019-18/_sampleRate_100_segment_2_min_len_300.parquet\n",
      "2024-04-07 17:45 INFO 1063871:root - load segment 2, with sampleRate:100%,min_len:300,with date:2019-18\n",
      "24/04/07 17:45:56 WARN DataSource: All paths were ignored:\n",
      "  file:/root/wxl_folder/cache_data/sdf_parquet/2019-18/_sampleRate_100_segment_3_min_len_300.parquet\n",
      "2024-04-07 17:45 INFO 1063871:root - load segment 3, with sampleRate:100%,min_len:300,with date:2019-18\n",
      "24/04/07 17:45:56 WARN DataSource: All paths were ignored:\n",
      "  file:/root/wxl_folder/cache_data/sdf_parquet/2019-18/_sampleRate_100_segment_4_min_len_300.parquet\n",
      "2024-04-07 17:45 INFO 1063871:root - load segment 4, with sampleRate:100%,min_len:300,with date:2019-18\n",
      "24/04/07 17:45:56 WARN DataSource: All paths were ignored:\n",
      "  file:/root/wxl_folder/cache_data/sdf_parquet/2019-18/_sampleRate_100_segment_5_min_len_300.parquet\n",
      "2024-04-07 17:45 INFO 1063871:root - load segment 5, with sampleRate:100%,min_len:300,with date:2019-18\n",
      "24/04/07 17:45:56 WARN DataSource: All paths were ignored:\n",
      "  file:/root/wxl_folder/cache_data/sdf_parquet/2019-18/_sampleRate_100_segment_6_min_len_300.parquet\n",
      "2024-04-07 17:45 INFO 1063871:root - load segment 6, with sampleRate:100%,min_len:300,with date:2019-18\n",
      "24/04/07 17:45:56 WARN DataSource: All paths were ignored:\n",
      "  file:/root/wxl_folder/cache_data/sdf_parquet/2019-18/_sampleRate_100_segment_7_min_len_300.parquet\n",
      "2024-04-07 17:45 INFO 1063871:root - load segment 7, with sampleRate:100%,min_len:300,with date:2019-18\n",
      "24/04/07 17:45:57 WARN DataSource: All paths were ignored:\n",
      "  file:/root/wxl_folder/cache_data/sdf_parquet/2019-18/_sampleRate_100_segment_8_min_len_300.parquet\n",
      "2024-04-07 17:45 INFO 1063871:root - load segment 8, with sampleRate:100%,min_len:300,with date:2019-18\n",
      "24/04/07 17:45:57 WARN DataSource: All paths were ignored:\n",
      "  file:/root/wxl_folder/cache_data/sdf_parquet/2019-18/_sampleRate_100_segment_9_min_len_300.parquet\n",
      "2024-04-07 17:45 INFO 1063871:root - load segment 9, with sampleRate:100%,min_len:300,with date:2019-18\n",
      "Warning : `load_model` does not return WordVectorModel or SupervisedModel any more, but a `FastText` object which is very similar.\n",
      "Warning : `load_model` does not return WordVectorModel or SupervisedModel any more, but a `FastText` object which is very similar.\n",
      "Warning : `load_model` does not return WordVectorModel or SupervisedModel any more, but a `FastText` object which is very similar.\n",
      "Warning : `load_model` does not return WordVectorModel or SupervisedModel any more, but a `FastText` object which is very similar.\n",
      "Warning : `load_model` does not return WordVectorModel or SupervisedModel any more, but a `FastText` object which is very similar.\n",
      "Warning : `load_model` does not return WordVectorModel or SupervisedModel any more, but a `FastText` object which is very similar.\n",
      "Warning : `load_model` does not return WordVectorModel or SupervisedModel any more, but a `FastText` object which is very similar.Warning : `load_model` does not return WordVectorModel or SupervisedModel any more, but a `FastText` object which is very similar.\n",
      "\n",
      "Warning : `load_model` does not return WordVectorModel or SupervisedModel any more, but a `FastText` object which is very similar.\n",
      "Warning : `load_model` does not return WordVectorModel or SupervisedModel any more, but a `FastText` object which is very similar.\n",
      "Warning : `load_model` does not return WordVectorModel or SupervisedModel any more, but a `FastText` object which is very similar.\n",
      "Warning : `load_model` does not return WordVectorModel or SupervisedModel any more, but a `FastText` object which is very similar.\n",
      "[Stage 15:===================================================>    (11 + 1) / 12]\r"
     ]
    },
    {
     "name": "stdout",
     "output_type": "stream",
     "text": [
      "+------+----+------+-------------------+----------+----------+-------------------+-------------------+-------------------+\n",
      "|bucket|lang| count|sum_original_length|sum_length|sum_nlines|sum_original_nlines|       length_ratio|       nlines_ratio|\n",
      "+------+----+------+-------------------+----------+----------+-------------------+-------------------+-------------------+\n",
      "|  tail|  fr| 14794|           93048221|  50894614|    873330|            2717549| 0.5469703069336489|0.32136679044241706|\n",
      "|  tail|  ja| 13624|           50691354|  28519166|   1000357|            2625352| 0.5626041474449469| 0.3810372856668363|\n",
      "|   all|  vi|  2787|           21312100|  11979844|    176682|             519010|  0.562114667254752|  0.340421186489663|\n",
      "|   all|  sk|  1027|            6691608|   3322074|     58897|             216200|0.49645376716627754| 0.2724190564292322|\n",
      "|  tail|  no|   774|            3667333|   2271690|     43603|             113282| 0.6194392491764451|0.38490669303154956|\n",
      "|  tail|  hr|   137|             727438|    521573|      7001|              17347| 0.7169999367643703|0.40358563440364326|\n",
      "|  tail|  lt|   388|            2209141|   1170098|     23642|              76053| 0.5296619817386033| 0.3108621619134025|\n",
      "|middle|  hu|   408|            3255149|   2274691|     20967|              62096| 0.6987978123274848| 0.3376545993300696|\n",
      "|   all|  pa|    29|             212343|    165047|      2364|               4735| 0.7772660271353423| 0.4992608236536431|\n",
      "|   all|  eu|    81|             412536|    284373|      5003|              12408|  0.689328931293269|  0.403207607994842|\n",
      "|middle|  uk|   256|            2126161|   1529674|     12606|              36323| 0.7194535126925947| 0.3470528315392451|\n",
      "|   all|  ps|    22|             185193|    135128|      3107|               5393| 0.7296604083307684| 0.5761171889486372|\n",
      "|middle|  is|    10|              83242|     68968|       527|               1466| 0.8285240623723601|0.35948158253751705|\n",
      "|  tail|  ne|    45|             332843|    277478|      5173|               7726| 0.8336603143223682| 0.6695573388558116|\n",
      "|  tail|  mn|    31|             245520|    194829|      2380|               4769| 0.7935361681329424|0.49905640595512685|\n",
      "|middle|  mk|     9|              51035|     38886|       330|               1001| 0.7619476829626727|0.32967032967032966|\n",
      "|  head|  ml|    29|             184824|     76557|       856|               4322|0.41421568627450983| 0.1980564553447478|\n",
      "|   all|null| 34184|          290361399| 158294172|   2342544|            8039890| 0.5451625889156154|0.29136518036938314|\n",
      "|  tail|  en|123258|          742741011| 422401482|   5944545|           20681151| 0.5687062862346778| 0.2874378220051679|\n",
      "|  tail|  es| 12898|           79836308|  45049871|    669350|            2244329| 0.5642779848988007|0.29824058772131895|\n",
      "+------+----+------+-------------------+----------+----------+-------------------+-------------------+-------------------+\n",
      "only showing top 20 rows\n",
      "\n",
      "224.8769896030426\n"
     ]
    },
    {
     "name": "stderr",
     "output_type": "stream",
     "text": [
      "                                                                                \r"
     ]
    }
   ],
   "source": [
    "pipeline=Pipeline(config)\n",
    "df=pipeline.load_data()\n",
    "s=time.time()\n",
    "pipeline.run()\n",
    "pipeline.save_data()\n",
    "pipeline.analy()\n",
    "e=time.time()\n",
    "print(e-s)"
   ]
  },
  {
   "cell_type": "code",
   "execution_count": null,
   "id": "24112ade-f36c-42c7-96dd-da6c75d98c35",
   "metadata": {},
   "outputs": [],
   "source": []
  }
 ],
 "metadata": {
  "kernelspec": {
   "display_name": "Python 3 (ipykernel)",
   "language": "python",
   "name": "python3"
  },
  "language_info": {
   "codemirror_mode": {
    "name": "ipython",
    "version": 3
   },
   "file_extension": ".py",
   "mimetype": "text/x-python",
   "name": "python",
   "nbconvert_exporter": "python",
   "pygments_lexer": "ipython3",
   "version": "3.9.19"
  }
 },
 "nbformat": 4,
 "nbformat_minor": 5
}

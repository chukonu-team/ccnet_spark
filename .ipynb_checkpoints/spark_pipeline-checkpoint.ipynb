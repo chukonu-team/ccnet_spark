{
 "cells": [
  {
   "cell_type": "markdown",
   "id": "28e7aa31-b893-45a3-aa85-450f056caf1f",
   "metadata": {},
   "source": [
    "# 1. 导入依赖"
   ]
  },
  {
   "cell_type": "code",
   "execution_count": 1,
   "id": "1ad5b292-4eb3-4cc0-8837-2a8cf03fd7ff",
   "metadata": {},
   "outputs": [
    {
     "name": "stderr",
     "output_type": "stream",
     "text": [
      "24/03/29 13:36:42 WARN Utils: Your hostname, MacBook-Pro.local resolves to a loopback address: 127.0.0.1; using 192.168.110.96 instead (on interface en0)\n",
      "24/03/29 13:36:42 WARN Utils: Set SPARK_LOCAL_IP if you need to bind to another address\n",
      "Setting default log level to \"WARN\".\n",
      "To adjust logging level use sc.setLogLevel(newLevel). For SparkR, use setLogLevel(newLevel).\n",
      "24/03/29 13:36:48 WARN NativeCodeLoader: Unable to load native-hadoop library for your platform... using builtin-java classes where applicable\n"
     ]
    }
   ],
   "source": [
    "from ccnet_spark import open_read, parse_warc_file,compute_hashes,NaiveHashSet\n",
    "from pathlib import Path\n",
    "import numpy as np\n",
    "import time\n",
    "import pandas as pd\n",
    "\n",
    "from pyspark.sql import SparkSession\n",
    "from pyspark.sql.types import ArrayType, StringType,IntegerType,StructType, StructField\n",
    "from pyspark.sql.functions import udf, explode\n",
    "\n",
    "# 初始化 SparkSession\n",
    "spark = SparkSession.builder.appName(\"CCNETSpark\").getOrCreate()"
   ]
  },
  {
   "cell_type": "markdown",
   "id": "5f99a057-a8db-4d94-b772-988434ac58cc",
   "metadata": {},
   "source": [
    "# 2. 读取文件数据，处理成pandas DataFrame"
   ]
  },
  {
   "cell_type": "markdown",
   "id": "0493e968-ee52-488d-bab9-5c54cff63dd6",
   "metadata": {},
   "source": [
    "## 2.1 获取cache文件路径"
   ]
  },
  {
   "cell_type": "code",
   "execution_count": 2,
   "id": "ceb17ca6-b75b-4307-8083-d5e48e5cd768",
   "metadata": {},
   "outputs": [
    {
     "name": "stdout",
     "output_type": "stream",
     "text": [
      "/Users/zz/github/cache_data/2019-09/CC-MAIN-20190215183319-20190215205319-00003.warc.wet.gz\n"
     ]
    }
   ],
   "source": [
    "cache_data=\"/Users/zz/github/cache_data/2019-09/\"\n",
    "def getWETURL(segment: int):\n",
    "    cache_file_prefix = \"CC-MAIN-20190215183319-20190215205319-\"\n",
    "    cache_file_sufix = \".warc.wet.gz\"\n",
    "    segment_str = str(segment).zfill(5)  # Pad with leading zeros\n",
    "    return cache_data+cache_file_prefix + segment_str + cache_file_sufix\n",
    "url = getWETURL(3)\n",
    "print(url)  # Output: CC-MAIN-20190215183319-20190215205319-00003.warc.wet.gz"
   ]
  },
  {
   "cell_type": "markdown",
   "id": "d0530fda-e712-49b4-bab1-d9c76972b465",
   "metadata": {},
   "source": [
    "## 2.2 处理文件，存入pandas DataFrame"
   ]
  },
  {
   "cell_type": "code",
   "execution_count": 3,
   "id": "2aa98aa6-e289-4f48-ac9e-4810088f6b51",
   "metadata": {},
   "outputs": [
    {
     "name": "stderr",
     "output_type": "stream",
     "text": [
      "2024-03-29 13:36 INFO 96498:ccnet_spark.load - Opening /Users/zz/github/cache_data/2019-09/CC-MAIN-20190215183319-20190215205319-00000.warc.wet.gz with mode 'rt'\n",
      "2024-03-29 13:36 INFO 96498:root - Created DataFrame with 43855 documents\n"
     ]
    },
    {
     "name": "stdout",
     "output_type": "stream",
     "text": [
      "parse one seg to pd_df consume:3.516249895095825 s\n"
     ]
    }
   ],
   "source": [
    "file_path=Path(getWETURL(0))\n",
    "file=open_read(file_path)\n",
    "s=time.time()\n",
    "pandas_df = parse_warc_file(file, 30)\n",
    "\n",
    "random_save_n=5000\n",
    "pandas_df = pandas_df.sample(n=random_save_n, random_state=1)\n",
    "e=time.time()\n",
    "print(f\"parse one seg to pd_df consume:{e-s} s\")"
   ]
  },
  {
   "cell_type": "markdown",
   "id": "ef42772d-a0cd-44e7-b197-312deb3ef263",
   "metadata": {},
   "source": [
    "# 3. 将pandas DataFrame 转换成spark DataFrame"
   ]
  },
  {
   "cell_type": "code",
   "execution_count": 4,
   "id": "12719579-006a-4e30-bdad-a11cd62340b9",
   "metadata": {},
   "outputs": [
    {
     "name": "stderr",
     "output_type": "stream",
     "text": [
      "24/03/29 13:37:03 WARN TaskSetManager: Stage 0 contains a task of very large size (4244 KiB). The maximum recommended task size is 1000 KiB.\n",
      "                                                                                \r"
     ]
    },
    {
     "name": "stdout",
     "output_type": "stream",
     "text": [
      "+--------------------+--------------------+--------------------+------+------+--------------------+-----------------------------+-----------------------------+\n",
      "|                 url|       date_download|              digest|length|nlines|       source_domain|                        title|                  raw_content|\n",
      "+--------------------+--------------------+--------------------+------+------+--------------------+-----------------------------+-----------------------------+\n",
      "|https://www.telel...|2019-02-15T19:35:48Z|sha1:VZYTYZZ7EH6E...|  4758|   111|    www.telelynx.com|         sean, Author at T...|         English\\tEnglish\\...|\n",
      "|http://www.ma.hu/...|2019-02-15T19:26:14Z|sha1:FA3DLWLJZKFI...|  4180|    70|           www.ma.hu|         Kiégett a Hűvösvö...|         hirdetés\\nma.hu n...|\n",
      "|http://angagement...|2019-02-15T18:57:03Z|sha1:EMAN4TLHXTXM...|  1326|    65|   angagement.com.ua|         Ballroom and lati...|         → по-русски\\nCost...|\n",
      "|http://resistther...|2019-02-15T19:55:31Z|sha1:UWDJJTE42LC7...|   912|    23|resisttherock.uco...|         Comments or Sugge...|         Unwanted Resistan...|\n",
      "|http://klimadiagr...|2019-02-15T19:05:24Z|sha1:IZ4YL65XZD2U...|  1918|    51|   klimadiagramme.de|         Das Klima in Karl...|         Das Klima in Karl...|\n",
      "|https://www.schna...|2019-02-15T19:57:31Z|sha1:5T6VBCCHCRGJ...|  2892|    65|    www.schnauzi.com|         Las palabras con ...|         Schnauzi.com\\nMen...|\n",
      "|http://chanjo.co/...|2019-02-15T18:48:35Z|sha1:5X5OSGE6R2ST...|  1523|   107|           chanjo.co|         Chicken Fryer Com...|         Skip to content\\n...|\n",
      "|https://www.jacks...|2019-02-15T19:57:54Z|sha1:SP363QQJ6L42...|  1538|    45|www.jackscomplian...|         Regulation E Arch...|         Skip to content\\n...|\n",
      "|https://gallery.t...|2019-02-15T20:09:39Z|sha1:AFKTGBUCHWUY...|   258|    22|    gallery.teele.eu|         Flowers - Flora -...|         Teele's Gallery\\n...|\n",
      "|http://gyerek-dal...|2019-02-15T19:53:11Z|sha1:7BJKAVO2QYJM...|  1580|    54|     gyerek-dalok.hu|         Gyerekdalok - Az ...|         ﻿\\nGyerek-dalok\\n...|\n",
      "|http://www.limone...|2019-02-15T19:38:54Z|sha1:LOD5RKH3ZOKE...|  9380|    94|www.limoneturismo.it|              Limone Piemonte|         MENU\\tLA VILLE\\tS...|\n",
      "|http://blog.winte...|2019-02-15T19:52:59Z|sha1:Q2XXARRG5JVP...|  2921|    84|blog.winterwomen.com|         Be The Judge: Bes...|         WinterWomen.com A...|\n",
      "|https://www.accen...|2019-02-15T18:40:01Z|sha1:NND3WDWKUNRE...|  6620|   203|   www.accenture.com|         Bhaskar Ghosh, Gr...|         Skip to main cont...|\n",
      "|https://www.xoxox...|2019-02-15T20:08:34Z|sha1:FGPO6OKINEYZ...|  3202|   181|       www.xoxoxo.pl|         Ubrania - Dla Nie...|         KOMFORT\\nNAJWYŻSZ...|\n",
      "|http://lirica-par...|2019-02-15T18:59:23Z|sha1:4LLNKF4XCF7H...|  5547|   265|lirica-parma.blog...|         Parma Lirica - Pa...|         Repubblica.it Par...|\n",
      "|https://www.tuv-s...|2019-02-15T19:13:23Z|sha1:ASLW62SWCRYJ...|  4134|   188|www.tuv-sud-ameri...|         About us | TÜV SÜ...|         Toggle navigation...|\n",
      "|https://gym-train...|2019-02-15T19:02:07Z|sha1:NHRK7KEUCSBX...|  4941|   113|    gym-training.com|         Предтренировочный...|         Сервис сравнения ...|\n",
      "|http://www.kdxb.n...|2019-02-15T19:15:02Z|sha1:YSRJWXE3M77Y...| 13300|   126|        www.kdxb.net|新疆风彩35选7开奖:3366小游...|新疆风彩35选7开奖:3366小游...|\n",
      "|http://alabamaliv...|2019-02-15T20:04:13Z|sha1:KNCVRSF5BESR...|  6889|    92|  alabamaliving.coop|         Alabama Outdoors ...|         Navigate / search...|\n",
      "|https://www.wingh...|2019-02-15T19:29:34Z|sha1:7S5MW76QDGAP...|  1117|    55|www.winghamwoolwo...|         Ashford Kiwi Slid...|         Products\\nWingham...|\n",
      "+--------------------+--------------------+--------------------+------+------+--------------------+-----------------------------+-----------------------------+\n",
      "only showing top 20 rows\n",
      "\n"
     ]
    }
   ],
   "source": [
    "# 将 pandas DataFrame 转换为 Spark DataFrame\n",
    "spark_df = spark.createDataFrame(pandas_df)\n",
    "spark_df.show()"
   ]
  },
  {
   "cell_type": "markdown",
   "id": "c9793de8-008f-4aec-9dc7-0bbad27feff3",
   "metadata": {},
   "source": [
    "# 4. hash计算"
   ]
  },
  {
   "cell_type": "markdown",
   "id": "16dea9e5-b3a8-4b50-b40c-147fd7bbecbd",
   "metadata": {},
   "source": [
    "## 4.1 定义UDF,将doc 分割成paragraph "
   ]
  },
  {
   "cell_type": "code",
   "execution_count": 5,
   "id": "44be1b10-248f-470d-874b-3b3f4962a3b1",
   "metadata": {},
   "outputs": [],
   "source": [
    "# 定义一个函数，用于分割文本\n",
    "def split_raw_content(content):\n",
    "    lines = content.split('\\n')\n",
    "    line_ids = range(1, len(lines) + 1)  # 生成行号\n",
    "    return list(zip(line_ids, lines))\n",
    "\n",
    "# 注册为UDF\n",
    "split_udf = udf(split_raw_content, ArrayType(StructType([\n",
    "    StructField(\"raw_line_id\", IntegerType(), False),\n",
    "    StructField(\"raw_line\", StringType(), False)\n",
    "])))\n"
   ]
  },
  {
   "cell_type": "markdown",
   "id": "ac16adaa-b1c1-4e99-8bdf-93312621e5f4",
   "metadata": {},
   "source": [
    "## 4.2 udf 处理添加新字段"
   ]
  },
  {
   "cell_type": "code",
   "execution_count": 6,
   "id": "2c505bf4-b9f4-4e1f-ad51-ad56939b28a5",
   "metadata": {},
   "outputs": [],
   "source": [
    "# 假设spark_df是您的DataFrame\n",
    "# 使用UDF对raw_content字段进行处理\n",
    "split_result = spark_df.withColumn(\"split_content\", split_udf(spark_df[\"raw_content\"]))"
   ]
  },
  {
   "cell_type": "markdown",
   "id": "fd212cd6-25ca-434a-b633-01ca1e7b7ecd",
   "metadata": {},
   "source": [
    "## 4.3 将新字段展开获取paragraph级别row"
   ]
  },
  {
   "cell_type": "code",
   "execution_count": 7,
   "id": "70f305dc-6e04-40a9-8138-d3049dc4c070",
   "metadata": {},
   "outputs": [
    {
     "name": "stderr",
     "output_type": "stream",
     "text": [
      "24/03/29 13:37:06 WARN TaskSetManager: Stage 1 contains a task of very large size (4244 KiB). The maximum recommended task size is 1000 KiB.\n",
      "[Stage 1:>                                                          (0 + 1) / 1]\r"
     ]
    },
    {
     "name": "stdout",
     "output_type": "stream",
     "text": [
      "+--------------------+------+------+--------------------+-----------+------------------------+\n",
      "|                 url|length|nlines|               title|raw_line_id|                raw_line|\n",
      "+--------------------+------+------+--------------------+-----------+------------------------+\n",
      "|https://www.telel...|  4758|   111|sean, Author at T...|          1|    English\\tEnglish\\ten|\n",
      "|https://www.telel...|  4758|   111|sean, Author at T...|          2|繁體中文\\tChinese (Tr...|\n",
      "|https://www.telel...|  4758|   111|sean, Author at T...|          3|                    Home|\n",
      "|https://www.telel...|  4758|   111|sean, Author at T...|          4|                Products|\n",
      "|https://www.telel...|  4758|   111|sean, Author at T...|          5|              Digital TV|\n",
      "|https://www.telel...|  4758|   111|sean, Author at T...|          6|    DVB / ISDB-T TV S...|\n",
      "|https://www.telel...|  4758|   111|sean, Author at T...|          7|            AddTV System|\n",
      "|https://www.telel...|  4758|   111|sean, Author at T...|          8|                     CAS|\n",
      "|https://www.telel...|  4758|   111|sean, Author at T...|          9|          Card based CAS|\n",
      "|https://www.telel...|  4758|   111|sean, Author at T...|         10|            Cardless CAS|\n",
      "|https://www.telel...|  4758|   111|sean, Author at T...|         11|        Digital Heandend|\n",
      "|https://www.telel...|  4758|   111|sean, Author at T...|         12|     ASI to IP converter|\n",
      "|https://www.telel...|  4758|   111|sean, Author at T...|         13|                 Encoder|\n",
      "|https://www.telel...|  4758|   111|sean, Author at T...|         14|    IP Mux / Scramble...|\n",
      "|https://www.telel...|  4758|   111|sean, Author at T...|         15|                     IRD|\n",
      "|https://www.telel...|  4758|   111|sean, Author at T...|         16|    Mux / Scrambler /...|\n",
      "|https://www.telel...|  4758|   111|sean, Author at T...|         17|              Transcoder|\n",
      "|https://www.telel...|  4758|   111|sean, Author at T...|         18|                     EPG|\n",
      "|https://www.telel...|  4758|   111|sean, Author at T...|         19|         Push VOD System|\n",
      "|https://www.telel...|  4758|   111|sean, Author at T...|         20|    SMS / Billing / M...|\n",
      "+--------------------+------+------+--------------------+-----------+------------------------+\n",
      "only showing top 20 rows\n",
      "\n"
     ]
    },
    {
     "name": "stderr",
     "output_type": "stream",
     "text": [
      "                                                                                \r"
     ]
    }
   ],
   "source": [
    "# Explode the split_content column and select the desired columns\n",
    "exploded_df = split_result.select(\"url\",\"length\",\"nlines\",\"title\", explode(split_result.split_content).alias(\"exploded_content\"))\n",
    "\n",
    "# Split the exploded_content struct into separate columns\n",
    "exploded_df = exploded_df.withColumn(\"raw_line_id\", exploded_df.exploded_content.raw_line_id)\n",
    "exploded_df = exploded_df.withColumn(\"raw_line\", exploded_df.exploded_content.raw_line)\n",
    "\n",
    "# Drop the exploded_content column if needed\n",
    "exploded_df = exploded_df.drop(\"exploded_content\")\n",
    "\n",
    "# Show the resulting dataframe\n",
    "exploded_df.show()"
   ]
  },
  {
   "cell_type": "markdown",
   "id": "5389ac85-4602-4be7-bbf5-53c809e85598",
   "metadata": {},
   "source": [
    "## 4.4 查看第[100，100+10)行"
   ]
  },
  {
   "cell_type": "code",
   "execution_count": 8,
   "id": "0a47702d-9b57-4a89-8069-edbfa484cb87",
   "metadata": {},
   "outputs": [
    {
     "name": "stderr",
     "output_type": "stream",
     "text": [
      "24/03/29 13:37:07 WARN TaskSetManager: Stage 2 contains a task of very large size (4244 KiB). The maximum recommended task size is 1000 KiB.\n",
      "[Stage 2:>                                                          (0 + 8) / 8]\r"
     ]
    },
    {
     "name": "stdout",
     "output_type": "stream",
     "text": [
      "+--------------------+------+------+--------------------+-----------+--------------------+\n",
      "|                 url|length|nlines|               title|raw_line_id|            raw_line|\n",
      "+--------------------+------+------+--------------------+-----------+--------------------+\n",
      "|https://www.telel...|  4758|   111|sean, Author at T...|        100|              Search|\n",
      "|https://www.telel...|  4758|   111|sean, Author at T...|        101|         Latest News|\n",
      "|https://www.telel...|  4758|   111|sean, Author at T...|        102|IBC2019, RAI Amst...|\n",
      "|https://www.telel...|  4758|   111|sean, Author at T...|        103|CABSAT Dubai 2019...|\n",
      "|https://www.telel...|  4758|   111|sean, Author at T...|        104|UHD/HD DVB-T2 STB...|\n",
      "|https://www.telel...|  4758|   111|sean, Author at T...|        105|            Facebook|\n",
      "|https://www.telel...|  4758|   111|sean, Author at T...|        106|© 2018 Copyright ...|\n",
      "|https://www.telel...|  4758|   111|sean, Author at T...|        107|   - made by bouncin|\n",
      "|https://www.telel...|  4758|   111|sean, Author at T...|        108|            Facebook|\n",
      "|https://www.telel...|  4758|   111|sean, Author at T...|        109|             Youtube|\n",
      "+--------------------+------+------+--------------------+-----------+--------------------+\n",
      "\n"
     ]
    },
    {
     "name": "stderr",
     "output_type": "stream",
     "text": [
      "                                                                                \r"
     ]
    }
   ],
   "source": [
    "selected_rows = exploded_df.offset(99).limit(10)\n",
    "# 显示结果\n",
    "selected_rows.show()"
   ]
  },
  {
   "cell_type": "markdown",
   "id": "c7a82cec-45d4-4121-b570-c38091c425fd",
   "metadata": {},
   "source": [
    "## 4.5 添加hash 列"
   ]
  },
  {
   "cell_type": "code",
   "execution_count": 9,
   "id": "31d74e40-0f12-4556-bac2-0bd91c94cada",
   "metadata": {},
   "outputs": [
    {
     "name": "stderr",
     "output_type": "stream",
     "text": [
      "24/03/29 13:37:12 WARN TaskSetManager: Stage 5 contains a task of very large size (4244 KiB). The maximum recommended task size is 1000 KiB.\n"
     ]
    },
    {
     "name": "stdout",
     "output_type": "stream",
     "text": [
      "+--------------------+------+------+--------------------+-----------+------------------------+--------------------+\n",
      "|                 url|length|nlines|               title|raw_line_id|                raw_line|          hash_value|\n",
      "+--------------------+------+------+--------------------+-----------+------------------------+--------------------+\n",
      "|https://www.telel...|  4758|   111|sean, Author at T...|          1|    English\\tEnglish\\ten|[A7 E1 3C F2 70 F...|\n",
      "|https://www.telel...|  4758|   111|sean, Author at T...|          2|繁體中文\\tChinese (Tr...|[3E DB 9E EF B5 2...|\n",
      "|https://www.telel...|  4758|   111|sean, Author at T...|          3|                    Home|[E8 32 49 BD 3B A...|\n",
      "|https://www.telel...|  4758|   111|sean, Author at T...|          4|                Products|[FB DC 4F 23 F9 3...|\n",
      "|https://www.telel...|  4758|   111|sean, Author at T...|          5|              Digital TV|[59 44 27 AB 00 F...|\n",
      "|https://www.telel...|  4758|   111|sean, Author at T...|          6|    DVB / ISDB-T TV S...|[EC 45 EC 5C 21 F...|\n",
      "|https://www.telel...|  4758|   111|sean, Author at T...|          7|            AddTV System|[92 68 91 9C 6F A...|\n",
      "|https://www.telel...|  4758|   111|sean, Author at T...|          8|                     CAS|[A7 0E 06 B7 0B E...|\n",
      "|https://www.telel...|  4758|   111|sean, Author at T...|          9|          Card based CAS|[08 DB 2E 2A FD 2...|\n",
      "|https://www.telel...|  4758|   111|sean, Author at T...|         10|            Cardless CAS|[5A 55 8C E4 15 1...|\n",
      "|https://www.telel...|  4758|   111|sean, Author at T...|         11|        Digital Heandend|[00 46 FB A7 E8 F...|\n",
      "|https://www.telel...|  4758|   111|sean, Author at T...|         12|     ASI to IP converter|[62 DF 24 46 46 F...|\n",
      "|https://www.telel...|  4758|   111|sean, Author at T...|         13|                 Encoder|[50 F6 3D 56 BC 4...|\n",
      "|https://www.telel...|  4758|   111|sean, Author at T...|         14|    IP Mux / Scramble...|[13 B9 D0 37 B3 A...|\n",
      "|https://www.telel...|  4758|   111|sean, Author at T...|         15|                     IRD|[D5 6C 79 A8 D9 A...|\n",
      "|https://www.telel...|  4758|   111|sean, Author at T...|         16|    Mux / Scrambler /...|[53 F8 42 A6 C4 F...|\n",
      "|https://www.telel...|  4758|   111|sean, Author at T...|         17|              Transcoder|[3F D0 94 D6 AE 9...|\n",
      "|https://www.telel...|  4758|   111|sean, Author at T...|         18|                     EPG|[10 B3 92 3B 77 7...|\n",
      "|https://www.telel...|  4758|   111|sean, Author at T...|         19|         Push VOD System|[01 96 70 05 BD B...|\n",
      "|https://www.telel...|  4758|   111|sean, Author at T...|         20|    SMS / Billing / M...|[CB 7D 53 8B 4B 7...|\n",
      "+--------------------+------+------+--------------------+-----------+------------------------+--------------------+\n",
      "only showing top 20 rows\n",
      "\n"
     ]
    }
   ],
   "source": [
    "import hashlib\n",
    "from pyspark.sql.functions import udf\n",
    "from pyspark.sql.types import BinaryType\n",
    "from ccnet_spark import normalize_for_dedup\n",
    "HASH_SIZE = 10  # Define the desired size of the hash\n",
    "\n",
    "@udf(returnType=BinaryType())\n",
    "def compute_hashes(line):\n",
    "    if not line:\n",
    "        return None\n",
    "    normalized_line = normalize_for_dedup(line)  # Assuming normalize_for_dedup is defined\n",
    "    line_hash = hashlib.sha1(bytes(normalized_line, encoding=\"utf-8\")).digest()[:HASH_SIZE]\n",
    "    return line_hash\n",
    "\n",
    "# Assuming you have a dataframe named 'df' with a 'raw_line' column\n",
    "hash_df = exploded_df.withColumn(\"hash_value\", compute_hashes(exploded_df.raw_line))\n",
    "\n",
    "# Show the resulting dataframe\n",
    "hash_df.show()"
   ]
  },
  {
   "cell_type": "markdown",
   "id": "aec0d5a4-2cd6-4925-8f53-690b0213bf9c",
   "metadata": {},
   "source": [
    "## 4.5根据 hash 去重"
   ]
  },
  {
   "cell_type": "code",
   "execution_count": 10,
   "id": "620aaf6b-9774-4a6f-98a2-962db1f9a9db",
   "metadata": {},
   "outputs": [],
   "source": [
    "deduplicated_df = hash_df.dropDuplicates(['hash_value'])"
   ]
  },
  {
   "cell_type": "code",
   "execution_count": 15,
   "id": "f1295a70-8dce-40c1-aad2-103efb493626",
   "metadata": {},
   "outputs": [
    {
     "name": "stderr",
     "output_type": "stream",
     "text": [
      "24/03/29 13:41:58 WARN TaskSetManager: Stage 33 contains a task of very large size (4244 KiB). The maximum recommended task size is 1000 KiB.\n",
      "24/03/29 13:42:01 WARN TaskSetManager: Stage 36 contains a task of very large size (4244 KiB). The maximum recommended task size is 1000 KiB.\n",
      "[Stage 36:>                                                         (0 + 8) / 8]\r"
     ]
    },
    {
     "name": "stdout",
     "output_type": "stream",
     "text": [
      "Number of origin rows:798437,remain_count:442901 keep:55.471001469120296%\n"
     ]
    },
    {
     "name": "stderr",
     "output_type": "stream",
     "text": [
      "                                                                                \r"
     ]
    }
   ],
   "source": [
    "origin_count = hash_df.count()\n",
    "remain_count = deduplicated_df.count()\n",
    "print(f\"Number of origin rows:{origin_count},remain_count:{remain_count} keep:{remain_count/origin_count*100} %\")"
   ]
  },
  {
   "cell_type": "code",
   "execution_count": null,
   "id": "9d0b6063-f36a-40be-9db9-9dd87b291ee1",
   "metadata": {},
   "outputs": [],
   "source": []
  }
 ],
 "metadata": {
  "kernelspec": {
   "display_name": "Python 3 (ipykernel)",
   "language": "python",
   "name": "python3"
  },
  "language_info": {
   "codemirror_mode": {
    "name": "ipython",
    "version": 3
   },
   "file_extension": ".py",
   "mimetype": "text/x-python",
   "name": "python",
   "nbconvert_exporter": "python",
   "pygments_lexer": "ipython3",
   "version": "3.9.18"
  }
 },
 "nbformat": 4,
 "nbformat_minor": 5
}

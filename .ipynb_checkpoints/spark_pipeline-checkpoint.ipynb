{
 "cells": [
  {
   "cell_type": "markdown",
   "id": "86aaf72e-5fba-43eb-b10c-31aa56d42206",
   "metadata": {},
   "source": [
    "# ccnet spark pipeline 实现"
   ]
  },
  {
   "cell_type": "markdown",
   "id": "28e7aa31-b893-45a3-aa85-450f056caf1f",
   "metadata": {},
   "source": [
    "## 1. 导入依赖"
   ]
  },
  {
   "cell_type": "code",
   "execution_count": 26,
   "id": "1ad5b292-4eb3-4cc0-8837-2a8cf03fd7ff",
   "metadata": {},
   "outputs": [],
   "source": [
    "from ccnet_spark.text_normalizer import normalize\n",
    "from ccnet_spark.pipe_preprocess import load_segments\n",
    "from ccnet_spark.pipe_hash import compute_hashes,split_doc2para\n",
    "from ccnet_spark.pipe_lid import predictLang,predictScore\n",
    "from ccnet_spark.pipe_tokenized import doSentencePiece\n",
    "from ccnet_spark.pipe_perplexity import doDocLM\n",
    "from ccnet_spark.pipe_ppbucket import doPPBucket\n",
    "import time\n",
    "from pyspark.sql import SparkSession\n",
    "from pyspark.sql import functions as F\n",
    "from pyspark.sql.functions import explode\n",
    "from pyspark.sql.functions import sum as spark_sum\n",
    "\n",
    "# 初始化 SparkSession\n",
    "spark = SparkSession.builder.appName(\"CCNETSpark\")  \\\n",
    "                    .config(\"spark.executor.memory\", \"100g\") \\\n",
    "                    .config(\"spark.driver.memory\", \"32g\") \\\n",
    "                    .config(\"spark.driver.maxResultSize\", \"32g\") \\\n",
    "                    .config('spark.sql.execution.arrow.pyspark.enabled', 'true') \\\n",
    "                    .getOrCreate()\n",
    "sc = spark.sparkContext"
   ]
  },
  {
   "cell_type": "markdown",
   "id": "92fa1fc3-e154-4503-9632-8054923913d6",
   "metadata": {},
   "source": [
    "## 2. 参数配置"
   ]
  },
  {
   "cell_type": "code",
   "execution_count": 2,
   "id": "51124368-58d7-417d-bc7e-9f7f164c4cce",
   "metadata": {},
   "outputs": [],
   "source": [
    "def getModePara(mode):\n",
    "    if(mode==\"test\"):\n",
    "        cache_folder=\"/root/wxl_folder/cache_data/\"\n",
    "        date=\"2019-09\" ## hardcode ,现在只能是这个\n",
    "        segments=[i for i in range(10)]\n",
    "        min_len=300\n",
    "        isSample=True\n",
    "        sampleRate=0.01\n",
    "    else:\n",
    "        cache_folder=\"/root/wxl_folder/cache_data/\"\n",
    "        date=\"2019-09\" ## hardcode ,现在只能是这个\n",
    "        segments=[i for i in range(10)]\n",
    "        min_len=300\n",
    "        isSample=True\n",
    "        sampleRate=0.01\n",
    "    return [cache_folder,date,segments,min_len,isSample,sampleRate]"
   ]
  },
  {
   "cell_type": "code",
   "execution_count": 3,
   "id": "2277cb7b-618a-4af0-af42-1bb432980e34",
   "metadata": {},
   "outputs": [],
   "source": [
    "mode=\"test\"\n",
    "cache_folder,date,segments,min_len,isSample,sampleRate=getModePara(mode)"
   ]
  },
  {
   "cell_type": "markdown",
   "id": "5f99a057-a8db-4d94-b772-988434ac58cc",
   "metadata": {},
   "source": [
    "## 2.1 读取文件数据，处理成spark DataFrame"
   ]
  },
  {
   "cell_type": "code",
   "execution_count": 4,
   "id": "5466b05b-1f87-4e6e-ba97-da100fe691ed",
   "metadata": {},
   "outputs": [
    {
     "name": "stderr",
     "output_type": "stream",
     "text": [
      "2024-04-02 12:36 INFO 679731:root - load segment 0, with sampleRate:1.0%,min_len:300,with date:2019-09\n",
      "2024-04-02 12:36 INFO 679731:root - load segment 1, with sampleRate:1.0%,min_len:300,with date:2019-09\n",
      "2024-04-02 12:36 INFO 679731:root - load segment 2, with sampleRate:1.0%,min_len:300,with date:2019-09\n",
      "2024-04-02 12:36 INFO 679731:root - load segment 3, with sampleRate:1.0%,min_len:300,with date:2019-09\n",
      "2024-04-02 12:36 INFO 679731:root - load segment 4, with sampleRate:1.0%,min_len:300,with date:2019-09\n",
      "2024-04-02 12:36 INFO 679731:root - load segment 5, with sampleRate:1.0%,min_len:300,with date:2019-09\n",
      "2024-04-02 12:36 INFO 679731:root - load segment 6, with sampleRate:1.0%,min_len:300,with date:2019-09\n",
      "2024-04-02 12:36 INFO 679731:root - load segment 7, with sampleRate:1.0%,min_len:300,with date:2019-09\n",
      "2024-04-02 12:36 INFO 679731:root - load segment 8, with sampleRate:1.0%,min_len:300,with date:2019-09\n",
      "2024-04-02 12:36 INFO 679731:root - load segment 9, with sampleRate:1.0%,min_len:300,with date:2019-09\n"
     ]
    },
    {
     "name": "stdout",
     "output_type": "stream",
     "text": [
      "load 10 segments,time consume:3.18243408203125s\n",
      "load 4243 docs from:10 segments\n"
     ]
    }
   ],
   "source": [
    "s=time.time()\n",
    "spark_df=load_segments(spark,segments,cache_folder,date=date,isSample=isSample,sampleRate=sampleRate,min_len=min_len)\n",
    "e=time.time()\n",
    "print(f\"load {len(segments)} segments,time consume:{e-s}s\")\n",
    "if(mode==\"test\"):\n",
    "    doc_count=spark_df.count()\n",
    "    print(f\"load {doc_count} docs from:{len(segments)} segments\")"
   ]
  },
  {
   "cell_type": "markdown",
   "id": "1b7e1f0c-f711-4b54-a2f4-7317326414ed",
   "metadata": {},
   "source": [
    "## 3 字段分析\n",
    "1. wet 文件本身带有长度：\"length\": length,这个是从wet的\"Content-Length:\"读出来的，和我计算len(raw_content）有出入。考虑原因是原先的length不只是说raw_content，还包括title等。"
   ]
  },
  {
   "cell_type": "code",
   "execution_count": 5,
   "id": "c10dbbad-2058-4308-91c4-74edfee456e7",
   "metadata": {},
   "outputs": [
    {
     "name": "stdout",
     "output_type": "stream",
     "text": [
      "=== TestMode Log:\n",
      "DataFrame[summary: string, url: string, date_download: string, digest: string, length: string, nlines: string, source_domain: string, title: string, raw_content: string]\n",
      "+--------------------+------+---------------------------------+-------------------------------------+------+--------------+\n",
      "|                 url|length|                      raw_content|                                title|nlines|compute_length|\n",
      "+--------------------+------+---------------------------------+-------------------------------------+------+--------------+\n",
      "|http://www.drperi...|  9959|OA登录 人力资源系统 协同办公系...|宋志平到山东济南、烟台和青州交流调...|    94|          3474|\n",
      "|http://www.lojapl...|  4502|             JavaScript parece...|                 Suporte Celular A...|   260|          4314|\n",
      "|https://www.sinto...|   978|             Encontro Sintonia...|                 Bandinhas em Desf...|    30|           823|\n",
      "|https://www.birot...| 10050|             biroto Startseite...|                 Saint-Jacques-de-...|   226|          9823|\n",
      "|http://e-66.ru/de...|  3831|             В каталоге компан...|                 Знакомства и обще...|    87|          2053|\n",
      "+--------------------+------+---------------------------------+-------------------------------------+------+--------------+\n",
      "only showing top 5 rows\n",
      "\n",
      "time consume:0.9105465412139893s\n"
     ]
    }
   ],
   "source": [
    "if(mode==\"test\"):\n",
    "    print(\"=== TestMode Log:\")\n",
    "    s=time.time()\n",
    "    print(spark_df.summary())\n",
    "    tmp_df = spark_df.withColumn(\"compute_length\", F.length(spark_df[\"raw_content\"]))\n",
    "    tmp_df.select(\"url\",\"length\",\"raw_content\",\"title\",\"nlines\",\"compute_length\").show(5)\n",
    "    e=time.time()\n",
    "    print(f\"time consume:{e-s}s\")"
   ]
  },
  {
   "cell_type": "markdown",
   "id": "54d8ff6e-69db-4412-92c5-a4783623c124",
   "metadata": {},
   "source": [
    "### 3.1 修改length"
   ]
  },
  {
   "cell_type": "code",
   "execution_count": 6,
   "id": "4b05383d-fc9d-4af6-b8be-7b74ce80ebfe",
   "metadata": {},
   "outputs": [],
   "source": [
    "spark_df=spark_df.withColumn(\"length\", F.length(spark_df[\"raw_content\"]))"
   ]
  },
  {
   "cell_type": "markdown",
   "id": "c9793de8-008f-4aec-9dc7-0bbad27feff3",
   "metadata": {},
   "source": [
    "## 4. hash计算"
   ]
  },
  {
   "cell_type": "markdown",
   "id": "ac16adaa-b1c1-4e99-8bdf-93312621e5f4",
   "metadata": {},
   "source": [
    "### 4.2 udf 处理添加新字段"
   ]
  },
  {
   "cell_type": "code",
   "execution_count": 9,
   "id": "2c505bf4-b9f4-4e1f-ad51-ad56939b28a5",
   "metadata": {},
   "outputs": [
    {
     "name": "stdout",
     "output_type": "stream",
     "text": [
      "=== TestMode Log:\n",
      "DataFrame[summary: string, url: string, date_download: string, digest: string, length: string, nlines: string, source_domain: string, title: string, raw_content: string]\n",
      "+--------------------+------+------+---------------------------------+----------------------------+\n",
      "|                 url|length|nlines|                      raw_content|               split_content|\n",
      "+--------------------+------+------+---------------------------------+----------------------------+\n",
      "|http://www.drperi...|  3474|    94|OA登录 人力资源系统 协同办公系...|[{0, OA登录 人力资源系统 ...|\n",
      "|http://www.lojapl...|  4314|   260|             JavaScript parece...|        [{0, JavaScript p...|\n",
      "|https://www.sinto...|   823|    30|             Encontro Sintonia...|        [{0, Encontro Sin...|\n",
      "|https://www.birot...|  9823|   226|             biroto Startseite...|        [{0, biroto Start...|\n",
      "|http://e-66.ru/de...|  2053|    87|             В каталоге компан...|        [{0, В каталоге к...|\n",
      "+--------------------+------+------+---------------------------------+----------------------------+\n",
      "only showing top 5 rows\n",
      "\n",
      "time consume:0.9828047752380371s\n"
     ]
    }
   ],
   "source": [
    "# 假设spark_df是您的DataFrame\n",
    "# 使用UDF对raw_content字段进行处理\n",
    "split_result = spark_df.withColumn(\"split_content\", split_doc2para(spark_df[\"raw_content\"]))\n",
    "if(mode==\"test\"):\n",
    "    print(\"=== TestMode Log:\")\n",
    "    s=time.time()\n",
    "    print(split_result.summary())\n",
    "    split_result.select(\"url\",\"length\",\"nlines\",\"raw_content\",\"split_content\").show(5)\n",
    "    e=time.time()\n",
    "    print(f\"time consume:{e-s}s\")"
   ]
  },
  {
   "cell_type": "markdown",
   "id": "fd212cd6-25ca-434a-b633-01ca1e7b7ecd",
   "metadata": {},
   "source": [
    "### 4.3 将新字段展开获取paragraph级别row"
   ]
  },
  {
   "cell_type": "code",
   "execution_count": 10,
   "id": "70f305dc-6e04-40a9-8138-d3049dc4c070",
   "metadata": {},
   "outputs": [
    {
     "name": "stdout",
     "output_type": "stream",
     "text": [
      "=== TestMode Log:\n",
      "DataFrame[summary: string, url: string, date_download: string, digest: string, length: string, nlines: string, source_domain: string, title: string, raw_content: string, raw_line_id: string, raw_line: string]\n",
      "+--------------------+---------------------------------+-----------+----------------------------------+\n",
      "|                 url|                      raw_content|raw_line_id|                          raw_line|\n",
      "+--------------------+---------------------------------+-----------+----------------------------------+\n",
      "|http://www.drperi...|OA登录 人力资源系统 协同办公系...|          0|OA登录 人力资源系统 协同办公系统 ||\n",
      "|http://www.drperi...|OA登录 人力资源系统 协同办公系...|          1|                         邮箱登录||\n",
      "|http://www.drperi...|OA登录 人力资源系统 协同办公系...|          2|                         下载专区||\n",
      "|http://www.drperi...|OA登录 人力资源系统 协同办公系...|          3|                         信息报送||\n",
      "|http://www.drperi...|OA登录 人力资源系统 协同办公系...|          4|                         档案系统||\n",
      "+--------------------+---------------------------------+-----------+----------------------------------+\n",
      "only showing top 5 rows\n",
      "\n",
      "time consume:0.9103069305419922s\n"
     ]
    }
   ],
   "source": [
    "# Explode the split_content column and select the desired columns\n",
    "exploded_df = split_result.select(\"url\",\"date_download\",\"digest\",\"length\",\"nlines\",\"source_domain\",\"title\",\"raw_content\", explode(split_result.split_content).alias(\"exploded_content\"))\n",
    "\n",
    "# Split the exploded_content struct into separate columns\n",
    "exploded_df = exploded_df.withColumn(\"raw_line_id\", exploded_df.exploded_content.raw_line_id)\n",
    "exploded_df = exploded_df.withColumn(\"raw_line\", exploded_df.exploded_content.raw_line)\n",
    "\n",
    "# Drop the exploded_content column if needed\n",
    "exploded_df = exploded_df.drop(\"exploded_content\")\n",
    "\n",
    "if(mode==\"test\"):\n",
    "    exploded_df.cache()\n",
    "    print(\"=== TestMode Log:\")\n",
    "    s=time.time()\n",
    "    print(exploded_df.summary())\n",
    "    exploded_df.select(\"url\",\"raw_content\",\"raw_line_id\",\"raw_line\").show(5)\n",
    "    e=time.time()\n",
    "    print(f\"time consume:{e-s}s\")"
   ]
  },
  {
   "cell_type": "markdown",
   "id": "c7a82cec-45d4-4121-b570-c38091c425fd",
   "metadata": {},
   "source": [
    "### 4.4 添加hash 列"
   ]
  },
  {
   "cell_type": "code",
   "execution_count": 11,
   "id": "31d74e40-0f12-4556-bac2-0bd91c94cada",
   "metadata": {},
   "outputs": [
    {
     "name": "stdout",
     "output_type": "stream",
     "text": [
      "=== TestMode Log:\n",
      "DataFrame[summary: string, url: string, date_download: string, digest: string, length: string, nlines: string, source_domain: string, title: string, raw_content: string, raw_line_id: string, raw_line: string]\n",
      "+--------------------+--------------------+--------------------+------+------+--------------+-------------------------------------+---------------------------------+-----------+----------------------------------+--------------------+\n",
      "|                 url|       date_download|              digest|length|nlines| source_domain|                                title|                      raw_content|raw_line_id|                          raw_line|          hash_value|\n",
      "+--------------------+--------------------+--------------------+------+------+--------------+-------------------------------------+---------------------------------+-----------+----------------------------------+--------------------+\n",
      "|http://www.drperi...|2019-02-15T20:06:54Z|sha1:TETCOD7OGM66...|  3474|    94|www.drperi.com|宋志平到山东济南、烟台和青州交流调...|OA登录 人力资源系统 协同办公系...|          0|OA登录 人力资源系统 协同办公系统 ||[51 1F 35 D0 30 B...|\n",
      "|http://www.drperi...|2019-02-15T20:06:54Z|sha1:TETCOD7OGM66...|  3474|    94|www.drperi.com|宋志平到山东济南、烟台和青州交流调...|OA登录 人力资源系统 协同办公系...|          1|                         邮箱登录||[14 29 D1 A8 69 C...|\n",
      "|http://www.drperi...|2019-02-15T20:06:54Z|sha1:TETCOD7OGM66...|  3474|    94|www.drperi.com|宋志平到山东济南、烟台和青州交流调...|OA登录 人力资源系统 协同办公系...|          2|                         下载专区||[75 F4 B5 95 7C 4...|\n",
      "|http://www.drperi...|2019-02-15T20:06:54Z|sha1:TETCOD7OGM66...|  3474|    94|www.drperi.com|宋志平到山东济南、烟台和青州交流调...|OA登录 人力资源系统 协同办公系...|          3|                         信息报送||[3C 0E 8F B0 9C 8...|\n",
      "|http://www.drperi...|2019-02-15T20:06:54Z|sha1:TETCOD7OGM66...|  3474|    94|www.drperi.com|宋志平到山东济南、烟台和青州交流调...|OA登录 人力资源系统 协同办公系...|          4|                         档案系统||[2D D3 B4 41 04 2...|\n",
      "+--------------------+--------------------+--------------------+------+------+--------------+-------------------------------------+---------------------------------+-----------+----------------------------------+--------------------+\n",
      "only showing top 5 rows\n",
      "\n",
      "time consume:0.19310498237609863s\n"
     ]
    }
   ],
   "source": [
    "# Assuming you have a dataframe named 'df' with a 'raw_line' column\n",
    "hash_df = exploded_df.withColumn(\"hash_value\", compute_hashes(exploded_df.raw_line))\n",
    "\n",
    "# Show the resulting dataframe\n",
    "if(mode==\"test\"):\n",
    "    print(\"=== TestMode Log:\")\n",
    "    s=time.time()\n",
    "    print(hash_df.summary())\n",
    "    hash_df.show(5)\n",
    "    e=time.time()\n",
    "    print(f\"time consume:{e-s}s\")"
   ]
  },
  {
   "cell_type": "markdown",
   "id": "aec0d5a4-2cd6-4925-8f53-690b0213bf9c",
   "metadata": {},
   "source": [
    "### 4.5根据 hash 去重"
   ]
  },
  {
   "cell_type": "code",
   "execution_count": 12,
   "id": "620aaf6b-9774-4a6f-98a2-962db1f9a9db",
   "metadata": {},
   "outputs": [
    {
     "name": "stdout",
     "output_type": "stream",
     "text": [
      "=== TestMode Log:\n",
      "DataFrame[summary: string, url: string, date_download: string, digest: string, length: string, nlines: string, source_domain: string, title: string, raw_content: string, raw_line_id: string, raw_line: string]\n"
     ]
    },
    {
     "name": "stderr",
     "output_type": "stream",
     "text": [
      "[Stage 18:>                                                         (0 + 1) / 1]\r"
     ]
    },
    {
     "name": "stdout",
     "output_type": "stream",
     "text": [
      "+--------------------+------+------+---------------------------------+-----------+--------------------+\n",
      "|                 url|length|nlines|                      raw_content|raw_line_id|          hash_value|\n",
      "+--------------------+------+------+---------------------------------+-----------+--------------------+\n",
      "|http://provincia....|  1545|    29|             Questo sito usa c...|          6|[00 00 B7 6B E5 F...|\n",
      "|https://www.lean....| 10704|   204|             X\\nmenu\\nMaking t...|        184|[00 02 FD 23 BA F...|\n",
      "|https://www.vinod...| 16756|   887|             en\\nit\\nArea Clie...|        104|[00 06 57 8E 98 6...|\n",
      "|http://www.xinxia...|  2580|   109|自贸区公司注册 | 崇明公司注册 ...|        107|[00 06 D4 BA 9B E...|\n",
      "|https://www.healt...|  1481|    51|             Health Chronicle\\...|         43|[00 07 84 57 41 6...|\n",
      "+--------------------+------+------+---------------------------------+-----------+--------------------+\n",
      "only showing top 5 rows\n",
      "\n",
      "time consume:22.999247789382935s\n"
     ]
    },
    {
     "name": "stderr",
     "output_type": "stream",
     "text": [
      "                                                                                \r"
     ]
    }
   ],
   "source": [
    "deduplicated_df = hash_df.dropDuplicates(['hash_value'])\n",
    "# Show the resulting dataframe\n",
    "if(mode==\"test\"):\n",
    "    print(\"=== TestMode Log:\")\n",
    "    deduplicated_df.cache()\n",
    "    s=time.time()\n",
    "    print(deduplicated_df.summary())\n",
    "    deduplicated_df.select(\"url\",\"length\",\"nlines\",\"raw_content\",\"raw_line_id\",\"hash_value\").show(5)\n",
    "    e=time.time()\n",
    "    print(f\"time consume:{e-s}s\")"
   ]
  },
  {
   "cell_type": "markdown",
   "id": "e77ed5d3-f4b3-4d94-a663-6c9279071b5d",
   "metadata": {},
   "source": [
    "### 4.6 聚合\n",
    "将段落重新聚合为doc"
   ]
  },
  {
   "cell_type": "code",
   "execution_count": 13,
   "id": "48e9c8fc-fdd2-4d71-81ae-77b6ebf77805",
   "metadata": {},
   "outputs": [
    {
     "name": "stdout",
     "output_type": "stream",
     "text": [
      "=== TestMode Log:\n"
     ]
    },
    {
     "name": "stderr",
     "output_type": "stream",
     "text": [
      "[Stage 20:===================================================>    (11 + 1) / 12]\r"
     ]
    },
    {
     "name": "stdout",
     "output_type": "stream",
     "text": [
      "+--------------------+---------------+---------------+--------------------+------+------+\n",
      "|                 url|original_length|original_nlines|         raw_content|length|nlines|\n",
      "+--------------------+---------------+---------------+--------------------+------+------+\n",
      "|https://www.anime...|           1194|             20|No Bootleg Policy...|  1149|    18|\n",
      "|https://www.campi...|           6957|            362|Réfrigérateurs fi...|  6481|   318|\n",
      "|http://www.petfoo...|           9091|            257|How to Satisfy Ca...|  7841|   151|\n",
      "|https://tipsavenu...|          13346|             97|Oficjalna strona ...| 12642|    73|\n",
      "|https://gitlab.co...|           1295|             98|Snippets\\nClone w...|   858|    48|\n",
      "+--------------------+---------------+---------------+--------------------+------+------+\n",
      "only showing top 5 rows\n",
      "\n",
      "time consume:10.880084037780762s\n"
     ]
    },
    {
     "name": "stderr",
     "output_type": "stream",
     "text": [
      "                                                                                \r"
     ]
    }
   ],
   "source": [
    "from pyspark.sql import functions as F\n",
    "\n",
    "\"url\",\"date_download\",\"digest\",\"length\",\"nlines\",\"source_domain\",\"title\",\"raw_content\",\n",
    "group_df = deduplicated_df.groupBy(\"digest\").agg(\n",
    "    F.first(\"url\").alias(\"url\"),\n",
    "    F.first(\"date_download\").alias(\"date_download\"),\n",
    "    F.first(\"source_domain\").alias(\"source_domain\"),\n",
    "    F.first(\"length\").alias(\"original_length\"),\n",
    "    F.first(\"nlines\").alias(\"original_nlines\"),\n",
    "    F.first(\"title\").alias(\"title\"),\n",
    "    F.concat_ws(\"\\n\", F.collect_list(\"raw_line\").alias(\"raw_content\")).alias(\"raw_content\"),\n",
    "    F.count(\"raw_line_id\").alias(\"nlines\"),\n",
    "    F.collect_list(\"raw_line_id\").alias(\"line_ids\"),\n",
    ")\n",
    "group_df=group_df.withColumn(\"length\", F.length(group_df[\"raw_content\"]))\n",
    "if(mode==\"test\"):\n",
    "    print(\"=== TestMode Log:\")\n",
    "    group_df.cache()\n",
    "    s=time.time()\n",
    "    group_df.select(\"url\",\"original_length\",\"original_nlines\",\"raw_content\",\"length\",\"nlines\").show(5)\n",
    "    e=time.time()\n",
    "    print(f\"time consume:{e-s}s\")"
   ]
  },
  {
   "cell_type": "markdown",
   "id": "db59366d-6d0e-4ab8-937b-1dbcb39a1304",
   "metadata": {},
   "source": [
    "### 4.7 计算留存比例"
   ]
  },
  {
   "cell_type": "code",
   "execution_count": 15,
   "id": "f1295a70-8dce-40c1-aad2-103efb493626",
   "metadata": {},
   "outputs": [
    {
     "name": "stdout",
     "output_type": "stream",
     "text": [
      "=== TestMode Log:\n",
      "origin chars:26.911109M,remain_chars:22.360021M \n",
      "             keep chars:83.088 % time consume:0.6906998157501221\n"
     ]
    }
   ],
   "source": [
    "if(mode==\"test\"):\n",
    "    print(\"=== TestMode Log:\")\n",
    "    s = time.time()\n",
    "    origin_chars = spark_df.agg(spark_sum(\"length\")).collect()[0][0]\n",
    "    remain_chars = group_df.agg(spark_sum(\"length\")).collect()[0][0]\n",
    "    e = time.time()\n",
    "    print(f\"origin chars:{origin_chars/1000/1000}M,remain_chars:{remain_chars/1000/1000}M \\n \\\n",
    "            keep chars:{round(remain_chars/origin_chars*100,3)} % time consume:{e-s}\")\n",
    "else:\n",
    "    print(\"=== DevMode Log:\")\n",
    "    s = time.time()\n",
    "    origin_chars = spark_df.agg(spark_sum(\"length\")).collect()[0][0]\n",
    "    remain_chars = group_df.agg(spark_sum(\"length\")).collect()[0][0]\n",
    "    e = time.time()\n",
    "    print(f\"origin chars:{origin_chars/1000/1000}M,remain_chars:{remain_chars/1000/1000}M \\n \\\n",
    "            keep chars:{round(remain_chars/origin_chars*100,3)} % time consume:{e-s}s\")"
   ]
  },
  {
   "cell_type": "markdown",
   "id": "e1063646-dc67-44d2-acfd-80be5ba32b88",
   "metadata": {},
   "source": [
    "## 5. 语言识别导入"
   ]
  },
  {
   "cell_type": "code",
   "execution_count": 20,
   "id": "42a4f573-245e-483b-a9d8-d8c79f2097fc",
   "metadata": {},
   "outputs": [
    {
     "name": "stdout",
     "output_type": "stream",
     "text": [
      "=== TestMode Log:\n",
      "+--------------------+--------------------+----+-----+\n",
      "|                 url|         raw_content|lang|score|\n",
      "+--------------------+--------------------+----+-----+\n",
      "|https://www.anime...|No Bootleg Policy...|  en| 0.76|\n",
      "|https://www.campi...|Réfrigérateurs fi...|  fr| 0.93|\n",
      "|http://www.petfoo...|How to Satisfy Ca...|  en| 0.62|\n",
      "|https://tipsavenu...|Oficjalna strona ...|  pl|  1.0|\n",
      "|https://gitlab.co...|Snippets\\nClone w...|null| null|\n",
      "+--------------------+--------------------+----+-----+\n",
      "only showing top 5 rows\n",
      "\n",
      "time consume:0.17756080627441406s\n"
     ]
    },
    {
     "name": "stderr",
     "output_type": "stream",
     "text": [
      "Warning : `load_model` does not return WordVectorModel or SupervisedModel any more, but a `FastText` object which is very similar.\n"
     ]
    }
   ],
   "source": [
    "lang_df = group_df.withColumn(\"lang\", predictLang(\"raw_content\"))\n",
    "lang_df = lang_df.withColumn(\"score\", predictScore(\"raw_content\"))\n",
    "\n",
    "if(mode==\"test\"):\n",
    "    print(\"=== TestMode Log:\")\n",
    "    s = time.time()\n",
    "    lang_df.select(\"url\",\"raw_content\",\"lang\",\"score\").show(5)\n",
    "    e = time.time()\n",
    "    print(f\"time consume:{e-s}s\")"
   ]
  },
  {
   "cell_type": "markdown",
   "id": "875128c6-b78c-4ffb-b9b6-aa5fc13e0220",
   "metadata": {},
   "source": [
    "## 6. MultiSentencePiece 分词"
   ]
  },
  {
   "cell_type": "code",
   "execution_count": 23,
   "id": "dd953788-afe5-4b0a-9240-b703612eefe4",
   "metadata": {},
   "outputs": [
    {
     "name": "stdout",
     "output_type": "stream",
     "text": [
      "=== TestMode Log:\n"
     ]
    },
    {
     "name": "stderr",
     "output_type": "stream",
     "text": [
      "Warning : `load_model` does not return WordVectorModel or SupervisedModel any more, but a `FastText` object which is very similar.\n"
     ]
    },
    {
     "name": "stdout",
     "output_type": "stream",
     "text": [
      "+--------------------+--------------------+----+-----+--------------------+\n",
      "|                 url|         raw_content|lang|score|           tokenized|\n",
      "+--------------------+--------------------+----+-----+--------------------+\n",
      "|https://www.anime...|No Bootleg Policy...|  en| 0.76|▁no ▁bootleg ▁pol...|\n",
      "|https://www.campi...|Réfrigérateurs fi...|  fr| 0.93|▁refrigerateur s ...|\n",
      "|http://www.petfoo...|How to Satisfy Ca...|  en| 0.62|▁how ▁to ▁satisfy...|\n",
      "|https://tipsavenu...|Oficjalna strona ...|  pl|  1.0|▁oficjaln a ▁stro...|\n",
      "|https://gitlab.co...|Snippets\\nClone w...|null| null|                null|\n",
      "+--------------------+--------------------+----+-----+--------------------+\n",
      "only showing top 5 rows\n",
      "\n",
      "time consume:0.4362320899963379s\n"
     ]
    }
   ],
   "source": [
    "lm_df = lang_df.withColumn(\"tokenized\", doSentencePiece(\"raw_content\",\"lang\"))\n",
    "if(mode==\"test\"):\n",
    "    print(\"=== TestMode Log:\")\n",
    "    s = time.time()\n",
    "    lm_df.select(\"url\",\"raw_content\",\"lang\",\"score\",\"tokenized\").show(5)\n",
    "    e = time.time()\n",
    "    print(f\"time consume:{e-s}s\")"
   ]
  },
  {
   "cell_type": "markdown",
   "id": "05ad98f5-b0ab-4dea-a631-d12920e92e6b",
   "metadata": {},
   "source": [
    "## 7. 困惑度"
   ]
  },
  {
   "cell_type": "code",
   "execution_count": 25,
   "id": "73420a13-2620-48e5-8ee4-f2db7747d75f",
   "metadata": {},
   "outputs": [
    {
     "name": "stdout",
     "output_type": "stream",
     "text": [
      "=== TestMode Log:\n"
     ]
    },
    {
     "name": "stderr",
     "output_type": "stream",
     "text": [
      "Warning : `load_model` does not return WordVectorModel or SupervisedModel any more, but a `FastText` object which is very similar.\n"
     ]
    },
    {
     "name": "stdout",
     "output_type": "stream",
     "text": [
      "+--------------------+--------------------+----+-----+--------------------+----------+\n",
      "|                 url|         raw_content|lang|score|           tokenized|perplexity|\n",
      "+--------------------+--------------------+----+-----+--------------------+----------+\n",
      "|https://www.anime...|No Bootleg Policy...|  en| 0.76|▁no ▁bootleg ▁pol...|    1466.7|\n",
      "|https://www.campi...|Réfrigérateurs fi...|  fr| 0.93|▁refrigerateur s ...|    1108.2|\n",
      "|http://www.petfoo...|How to Satisfy Ca...|  en| 0.62|▁how ▁to ▁satisfy...|    1324.0|\n",
      "|https://tipsavenu...|Oficjalna strona ...|  pl|  1.0|▁oficjaln a ▁stro...|     210.4|\n",
      "|https://gitlab.co...|Snippets\\nClone w...|null| null|                null|      null|\n",
      "+--------------------+--------------------+----+-----+--------------------+----------+\n",
      "only showing top 5 rows\n",
      "\n",
      "time consume:0.7668919563293457s\n"
     ]
    },
    {
     "name": "stderr",
     "output_type": "stream",
     "text": [
      "                                                                                \r"
     ]
    }
   ],
   "source": [
    "doclm_df = lm_df.withColumn(\"perplexity\", doDocLM(\"tokenized\",\"lang\"))\n",
    "if(mode==\"test\"):\n",
    "    print(\"=== TestMode Log:\")\n",
    "    s = time.time()\n",
    "    doclm_df.select(\"url\",\"raw_content\",\"lang\",\"score\",\"tokenized\",\"perplexity\").show(5)\n",
    "    e = time.time()\n",
    "    print(f\"time consume:{e-s}s\")"
   ]
  },
  {
   "cell_type": "markdown",
   "id": "c629b727-1d96-4f15-95cd-897a5ff37df7",
   "metadata": {},
   "source": [
    "## 8. PerplexityBucket"
   ]
  },
  {
   "cell_type": "code",
   "execution_count": 27,
   "id": "3740bb02-7c9c-4931-9d94-8a4ff2da3eaa",
   "metadata": {},
   "outputs": [
    {
     "name": "stdout",
     "output_type": "stream",
     "text": [
      "=== TestMode Log:\n"
     ]
    },
    {
     "name": "stderr",
     "output_type": "stream",
     "text": [
      "Warning : `load_model` does not return WordVectorModel or SupervisedModel any more, but a `FastText` object which is very similar.\n",
      "[Stage 46:>                                                         (0 + 1) / 1]\r"
     ]
    },
    {
     "name": "stdout",
     "output_type": "stream",
     "text": [
      "+--------------------+---------------------------------+----+-----+-----------------------------+----------+------+\n",
      "|                 url|                      raw_content|lang|score|                    tokenized|perplexity|bucket|\n",
      "+--------------------+---------------------------------+----+-----+-----------------------------+----------+------+\n",
      "|https://www.anime...|             No Bootleg Policy...|  en| 0.76|         ▁no ▁bootleg ▁pol...|    1466.7|  tail|\n",
      "|https://www.campi...|             Réfrigérateurs fi...|  fr| 0.93|         ▁refrigerateur s ...|    1108.2|  tail|\n",
      "|http://www.petfoo...|             How to Satisfy Ca...|  en| 0.62|         ▁how ▁to ▁satisfy...|    1324.0|  tail|\n",
      "|https://tipsavenu...|             Oficjalna strona ...|  pl|  1.0|         ▁oficjaln a ▁stro...|     210.4|middle|\n",
      "|https://gitlab.co...|             Snippets\\nClone w...|null| null|                         null|      null|   all|\n",
      "|http://www.palosv...|             Calculator source...|  en| 0.77|         ▁calculator ▁sour...|    1328.5|  tail|\n",
      "|http://www.summar...|             March 2015 (1)\\nD...|  en| 0.91|         ▁march ▁0000 ▁( 0...|     666.0|  tail|\n",
      "|http://ww2weapons...|             Axis head gear, h...|  en| 0.65|         ▁axis ▁head ▁gear...|    3008.3|  tail|\n",
      "|https://www.stitc...|             Gifting\\nCopy\\nSh...|  en| 0.72|         ▁gift ing copy sh...|    2562.5|  tail|\n",
      "|https://www.duadm...|             Admission Forms\\n...|  en| 0.92|         ▁admission ▁forms...|    1107.1|  tail|\n",
      "|http://bip.miastk...|             2 dokumentacja_cz...|  pl|  1.0|         ▁0 ▁dokumentacja ...|     187.3|middle|\n",
      "|http://trulyrudio...|             Setia...\\nSajen &...|  id| 0.83|         ▁setia . . . saje...|    1048.3|  tail|\n",
      "|https://de.weathe...|             schön\\nSaalfeld/S...|  de| 0.91|         ▁schon saal feld ...|     591.2|  tail|\n",
      "|https://prooren.r...|             День вывода войск...|  ru| 0.99|         ▁день ▁вывода ▁во...|     338.6|  tail|\n",
      "|https://www.pintu...|             Pintura decorativ...|  es| 0.96|         ▁pintura ▁decorat...|     525.3|  tail|\n",
      "|http://www.344kk....|珠海市\\n永利达\\n凯迪克不锈钢制...|  zh| 0.99|▁ 珠海市 永 利 达 凯 迪克 ...|   10795.4|  tail|\n",
      "|http://ketteringj...|             Tripods For Direc...|  en|  0.7|         ▁tripod s ▁for ▁d...|    8534.0|  tail|\n",
      "|http://www.cactus...|             Optional Link URL...|  en| 0.99|         ▁optional ▁link ▁...|     387.0|middle|\n",
      "|https://www.weave...|             Class Policies\\nC...|  en| 0.84|         ▁class ▁policies ...|    1399.2|  tail|\n",
      "|https://gaming.ge...|             Fallout 76 : le d...|  fr| 0.99|         ▁fallou t ▁00 ▁: ...|     576.2|  tail|\n",
      "|https://www.tetub...|             ديني\\nأخبار محلية...|  ar|  1.0|         ▁دينيا خب ار ▁محل...|     824.4|  tail|\n",
      "|https://www.ich-b...|             Tram Talk – Komm ...|  de| 0.99|         ▁tram ▁talk ▁- ▁k...|     705.8|  tail|\n",
      "|https://www.matte...|             Color: Azul oscur...|  es| 0.89|         ▁color : ▁azul ▁o...|    1242.4|  tail|\n",
      "|https://aviewfrom...|             DoubleTree By Hil...|  fr| 0.61|         ▁double tree ▁by ...|    2196.5|  tail|\n",
      "|https://www.svets...|             Zabezpečovacia te...|  sk| 0.86|                         null|      null|   all|\n",
      "|http://winlove011...|  大学生 悩みの口コミ情報 (09/...|  ja|  1.0|▁ 大学生 ▁ 悩み の 口 コミ...|    1886.3|  tail|\n",
      "|http://lagammerse...|             LEADER in Deutsch...|  de| 0.98|         ▁leader ▁in ▁deut...|    3341.6|  tail|\n",
      "|https://it.sports...|             Giacche\\nManchest...|  it| 0.78|         ▁giacche man ches...|    4094.3|  tail|\n",
      "|https://cambridge...|             How To Train Your...|  en| 0.84|         ▁how ▁to ▁train ▁...|    1400.6|  tail|\n",
      "|https://www.litli...|             Книги про вампиро...|  ru| 0.98|         ▁книги ▁про ▁вамп...|    1021.7|  tail|\n",
      "|https://boldcitye...|             Foundations of EM...|  en| 0.73|         ▁foundation s ▁of...|    1499.4|  tail|\n",
      "|https://wwf.fi/ww...|             Essi Aarnio-Linna...|  fi| 0.99|         ▁essi ▁aarnio - l...|    2643.7|  tail|\n",
      "|http://www.thewhe...|             Preppy Polish Bow...|  en| 0.62|         ▁prep py ▁polish ...|    5715.5|  tail|\n",
      "|https://www.rough...|             For any organizat...|  en| 0.94|         ▁for ▁any ▁organi...|     555.5|  tail|\n",
      "|https://ritzy.com...|             Sort By: Default ...|  en| 0.66|         ▁sort ▁by : ▁defa...|    4797.2|  tail|\n",
      "|https://www.gootv...|           ข่าว\\n【MV】Kimi wa...|  th| 0.51|                         null|      null|   all|\n",
      "|http://deadgoblin...|             Can I play?\\nWill...|  en| 0.93|         ▁can ▁i ▁play ? w...|    1869.5|  tail|\n",
      "|http://www.lcprec...|             ▲Categories\\nlost...|  ja| 0.54|         ▁ ▲ cat ego ries ...|    2517.6|  tail|\n",
      "|https://www.filmf...|             Other festival fi...|  en| 0.67|         ▁other ▁festival ...|      90.6|  head|\n",
      "|http://npo-molniy...|             บรรเทาอาการ \"หลอด...|  th|  1.0|                         null|      null|   all|\n",
      "|http://www.silver...|             ·\\nGrandpas Galle...|  en| 0.76|         ▁· grand pas ▁gal...|    2021.5|  tail|\n",
      "|https://www.starl...|             Quality Process\\n...|  en| 0.59|         ▁quality ▁process...|    3755.2|  tail|\n",
      "|http://kbj.or.kr/...| KJB방송과 한국장애인신문 다음...|  ko|  1.0|    ▁kj b 방 송 과 ▁한 국 ...|     151.0|  head|\n",
      "|https://es.upost....|             5 Seconds Of Summ...|  es|  0.8|         ▁0 ▁second s ▁of ...|     788.4|  tail|\n",
      "|http://forums.chr...|             • Christian Class...|  en| 0.65|         ▁ • ▁christian ▁c...|    3231.8|  tail|\n",
      "|http://www.vancou...|             VANCOUVER FURNITU...|null| null|                         null|      null|   all|\n",
      "|http://floydn7dhg...|       UDN商品特惠- 美國 BRNO ...|  zh| 0.72|     ▁ ud n 商品 特 惠 - ▁...|    2668.8|  tail|\n",
      "|https://wow-pets....|             Stunted Yeti Lil'...|  en| 0.76|         ▁stunt ed ▁yet i ...|    2522.9|  tail|\n",
      "|http://oliviaorve...|             Outfit\\n2014 janu...|  sv| 0.98|                         null|      null|   all|\n",
      "|https://maniadegi...|             James Bond\\nHistó...|  pt| 0.77|         ▁james ▁bond hist...|    1610.4|  tail|\n",
      "+--------------------+---------------------------------+----+-----+-----------------------------+----------+------+\n",
      "only showing top 50 rows\n",
      "\n",
      "time consume:53.59796762466431s\n"
     ]
    },
    {
     "name": "stderr",
     "output_type": "stream",
     "text": [
      "                                                                                \r"
     ]
    }
   ],
   "source": [
    "bucket_df = doclm_df.withColumn(\"bucket\", doPPBucket(\"perplexity\",\"lang\"))\n",
    "if(mode==\"test\"):\n",
    "    print(\"=== TestMode Log:\")\n",
    "    s = time.time()\n",
    "    bucket_df.select(\"url\",\"raw_content\",\"lang\",\"score\",\"tokenized\",\"perplexity\",\"bucket\").show(50)\n",
    "    e = time.time()\n",
    "    print(f\"time consume:{e-s}s\")"
   ]
  },
  {
   "cell_type": "markdown",
   "id": "78dc2c90-c41d-4c42-a893-0131f7537b3c",
   "metadata": {},
   "source": [
    "## 9. dropKeys"
   ]
  },
  {
   "cell_type": "code",
   "execution_count": null,
   "id": "59a1a31e-7e6f-460e-95bd-31580e7bc324",
   "metadata": {},
   "outputs": [],
   "source": [
    "drop_df = bucket_df.drop(\"tokenized\")\n",
    "if(mode==\"test\"):\n",
    "    print(\"=== TestMode Log:\")\n",
    "    s = time.time()\n",
    "    print(drop_df.summary())\n",
    "    e = time.time()\n",
    "    print(f\"time consume:{e-s}s\")"
   ]
  },
  {
   "cell_type": "markdown",
   "id": "12648326-55ec-4cb4-80d3-abffa04bb16b",
   "metadata": {},
   "source": [
    "## 10. split by lang"
   ]
  },
  {
   "cell_type": "code",
   "execution_count": null,
   "id": "e8e58f31-8afd-40e8-8803-540a4e391035",
   "metadata": {},
   "outputs": [],
   "source": [
    "if(mode==\"test\"):\n",
    "    print(\"=== TestMode Log:\")\n",
    "    s = time.time()\n",
    "    selected_df = drop_df.filter((drop_df.lang == \"en\") & (drop_df.bucket == \"head\"))\n",
    "    # selected_df.select(\"url\",\"raw_content\",\"lang\",\"bucket\").show(50)\n",
    "    result_pdf = selected_df.select(\"*\").toPandas()\n",
    "    e = time.time()\n",
    "    print(f\"time consume:{e-s}s\")\n"
   ]
  },
  {
   "cell_type": "markdown",
   "id": "3517c511-edcb-490c-b8e8-cb6dc0bf1437",
   "metadata": {},
   "source": [
    "## 11. save"
   ]
  },
  {
   "cell_type": "code",
   "execution_count": null,
   "id": "2a602ecc-fa07-48af-bb4d-cd2e216384ad",
   "metadata": {},
   "outputs": [],
   "source": [
    "result_pdf"
   ]
  },
  {
   "cell_type": "code",
   "execution_count": null,
   "id": "b99daf40-79e0-451a-82c5-895a0b8fe5e5",
   "metadata": {},
   "outputs": [],
   "source": [
    "drop_df.show()\n"
   ]
  },
  {
   "cell_type": "code",
   "execution_count": null,
   "id": "dc24ff38-fb2b-4c30-9f83-7c43a5e35b1d",
   "metadata": {},
   "outputs": [],
   "source": []
  }
 ],
 "metadata": {
  "kernelspec": {
   "display_name": "Python 3 (ipykernel)",
   "language": "python",
   "name": "python3"
  },
  "language_info": {
   "codemirror_mode": {
    "name": "ipython",
    "version": 3
   },
   "file_extension": ".py",
   "mimetype": "text/x-python",
   "name": "python",
   "nbconvert_exporter": "python",
   "pygments_lexer": "ipython3",
   "version": "3.9.19"
  }
 },
 "nbformat": 4,
 "nbformat_minor": 5
}

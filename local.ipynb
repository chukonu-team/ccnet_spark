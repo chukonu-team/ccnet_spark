{
 "cells": [
  {
   "cell_type": "code",
   "execution_count": 1,
   "id": "2594801d-1520-420e-bb79-26414ae769a6",
   "metadata": {},
   "outputs": [
    {
     "name": "stderr",
     "output_type": "stream",
     "text": [
      "24/04/07 15:17:09 WARN Utils: Your hostname, MacBook-Pro.local resolves to a loopback address: 127.0.0.1; using 192.168.110.96 instead (on interface en0)\n",
      "24/04/07 15:17:09 WARN Utils: Set SPARK_LOCAL_IP if you need to bind to another address\n",
      "Setting default log level to \"WARN\".\n",
      "To adjust logging level use sc.setLogLevel(newLevel). For SparkR, use setLogLevel(newLevel).\n",
      "24/04/07 15:17:15 WARN NativeCodeLoader: Unable to load native-hadoop library for your platform... using builtin-java classes where applicable\n"
     ]
    }
   ],
   "source": [
    "from ccnet_spark.pipeline import Pipeline,Config\n",
    "import time"
   ]
  },
  {
   "cell_type": "code",
   "execution_count": 2,
   "id": "d7a49aee-887e-446a-b6e4-f0404180e263",
   "metadata": {},
   "outputs": [
    {
     "data": {
      "text/plain": [
       "Config(dump='2019-18', cache_dir='../cache_data/', output_dir='../cache_data/', min_len=300, isSample=True, sampleRate=0.001, n_segments=1, pipeline=['real_len', 'hash', 'dedup_keep', 'lid', 'sp', 'lm', 'pp_bucket', 'drop'], spark=<pyspark.sql.session.SparkSession object at 0x11f427b20>)"
      ]
     },
     "execution_count": 2,
     "metadata": {},
     "output_type": "execute_result"
    }
   ],
   "source": [
    "config=Config(isSample=True,n_segments=1,sampleRate=0.001,cache_dir=\"../cache_data/\",dump=\"2019-18\")\n",
    "config"
   ]
  },
  {
   "cell_type": "code",
   "execution_count": 3,
   "id": "c9d0c037-21bb-432f-a1a7-cb4cb00f41e8",
   "metadata": {},
   "outputs": [
    {
     "name": "stderr",
     "output_type": "stream",
     "text": [
      "24/04/07 15:17:16 WARN DataSource: All paths were ignored:\n",
      "  file:/Users/zz/github/cache_data/sdf_parquet/2019-18/_sampleRate_0_segment_0_min_len_300.parquet\n",
      "2024-04-07 15:17 INFO 2205:root - load segment 0, with sampleRate:0.1%,min_len:300,with date:2019-18\n",
      "Warning : `load_model` does not return WordVectorModel or SupervisedModel any more, but a `FastText` object which is very similar.\n",
      "[Stage 6:>                                                          (0 + 1) / 1]\r"
     ]
    },
    {
     "name": "stdout",
     "output_type": "stream",
     "text": [
      "58.478973150253296\n"
     ]
    },
    {
     "name": "stderr",
     "output_type": "stream",
     "text": [
      "                                                                                \r"
     ]
    }
   ],
   "source": [
    "pipeline=Pipeline(config)\n",
    "df=pipeline.load_data()\n",
    "s=time.time()\n",
    "pipeline.run()\n",
    "pipeline.save_data()\n",
    "e=time.time()\n",
    "print(e-s)"
   ]
  },
  {
   "cell_type": "code",
   "execution_count": null,
   "id": "789238dd-e865-4327-bec6-dee25dcc399c",
   "metadata": {},
   "outputs": [],
   "source": []
  },
  {
   "cell_type": "code",
   "execution_count": null,
   "id": "24112ade-f36c-42c7-96dd-da6c75d98c35",
   "metadata": {},
   "outputs": [],
   "source": []
  }
 ],
 "metadata": {
  "kernelspec": {
   "display_name": "Python 3 (ipykernel)",
   "language": "python",
   "name": "python3"
  },
  "language_info": {
   "codemirror_mode": {
    "name": "ipython",
    "version": 3
   },
   "file_extension": ".py",
   "mimetype": "text/x-python",
   "name": "python",
   "nbconvert_exporter": "python",
   "pygments_lexer": "ipython3",
   "version": "3.9.18"
  }
 },
 "nbformat": 4,
 "nbformat_minor": 5
}
